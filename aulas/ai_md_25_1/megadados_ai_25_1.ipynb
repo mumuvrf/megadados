{
 "cells": [
  {
   "cell_type": "markdown",
   "id": "f62ded59",
   "metadata": {},
   "source": [
    "# AI MEGADADOS 25-1"
   ]
  },
  {
   "cell_type": "markdown",
   "id": "ee1fa31d",
   "metadata": {},
   "source": [
    "**NOME**: Vinícius Rodrigues de Freitas"
   ]
  },
  {
   "cell_type": "markdown",
   "id": "00e61852",
   "metadata": {},
   "source": [
    "## Observações\n",
    "- Esta prova é formada por 9 (nove) questões e tem **duração de 2h30**.\n",
    "- Os exercícios com correção automática não terão correção manual, mas poderão haver checks de qualidade/honestidade. Caso tente burlar os testes, sua nota de prova será zero e será enviado ao regime disciplinar. O que é burlar? Por exemplo, para a pergunta \"calcule a média da coluna x\", o correto é fazer \"SELECT AVG(x) FROM tabela\", já fazer \"SELECT 100.10\" é considerado burlar os testes, pois sua query não funciona de forma genérica, apenas cola o próprio valor de resultado.\n",
    "- Você pode trazer uma folha de papel (tamanho próximo a A4 / oficio) preenchida dos dois lados e utilizar como consulta. A folha pode ser tanto impressa quanto escrita a mão.\n",
    "- Será permitido utilizar o Workbench para testar queries e fazer forward / reverse engineering. Feche as abas com respostas realizadas durante o semestre.\n",
    "- Não é permitido compartilhar qualquer material durante a prova. Não serão permitidas consultas a outros meios (material blackboard, sites, notebooks das aulas, github) impressos ou digitais, nem contactar outras pessoas. Caso ocorra, a nota da prova será zero e será enviado ao regime disciplinar.\n",
    "- Não é permitido o uso de ferramentas de IA (copilot, chatgpt e afins). Você precisará providenciar um ambiente seguro para a prova, sem extensões instaladas (não basta desativar) nem sites abertos. Caso ocorra, a nota da prova será zero e será enviado ao regime disciplinar."
   ]
  },
  {
   "cell_type": "markdown",
   "id": "347b3f0a",
   "metadata": {},
   "source": [
    "## Parte 1 - Academia!\n",
    "\n",
    "Na parte 1 da prova de Megadados, iremos trabalhar com a base de dados sintética **Academia**.\n",
    "\n",
    "Esta base modela um cenário de gestão de academias: redes de academias, unidades, planos, redes de academias atendidas pelo plano, clientes, planos do cliente, etc."
   ]
  },
  {
   "cell_type": "markdown",
   "id": "f1b22c4b",
   "metadata": {},
   "source": [
    "### Insper autograding!\n",
    "\n",
    "Para entrega dos exercício na parte 1, iremos utilizar o `insper autograding`. Garanta que a biblioteca está instalada em seu ambiente Python.\n",
    "\n",
    "**Sugestão**: crie uma pasta para a prova e copie o `.env` utilizado nas aulas para esta pasta."
   ]
  },
  {
   "cell_type": "markdown",
   "id": "e182dee5",
   "metadata": {},
   "source": [
    "### Instalação da base\n",
    "\n",
    "Execute o script `academia.sql` no MySQL Workbench. Este script cria uma base `academia` e insere alguns dados de exemplo para resolução da prova.\n",
    "\n",
    "A base pode ser representada pelo seguinte diagrama do model orelacional (diagrama ER):\n",
    "\n",
    "<img src=\"img/deer_academia.png\">"
   ]
  },
  {
   "cell_type": "markdown",
   "id": "69ee33d4",
   "metadata": {},
   "source": [
    "## Como resolver os exercícios?\n",
    "\n",
    "Crie a base da prova em sua máquina (passo anterior). Utilize o MySQL Workbench ou o conector para testar as queries. Quando estiver bastante certo de que a resposta está correta, faça a submissão para o servidor.\n",
    "\n",
    "Em alguns momentos, pode ser necessário analisar a resposta esperada do servidor para entender modificações na sua solução, mesmo que não seja algo explícito no enunciado.\n",
    "\n",
    "## Import das bibliotecas\n",
    "\n",
    "Vamos realizar o import das bibliotecas."
   ]
  },
  {
   "cell_type": "code",
   "execution_count": 1,
   "id": "b2f1597a",
   "metadata": {},
   "outputs": [],
   "source": [
    "import mysql.connector\n",
    "from functools import partial\n",
    "import os\n",
    "import insperautograder.jupyter as ia\n",
    "from dotenv import load_dotenv"
   ]
  },
  {
   "cell_type": "markdown",
   "id": "33eefa0d",
   "metadata": {},
   "source": [
    "E vamos criar nosso HELPER de conexão com o banco! Perceba que, uma vez configurado o `.env` não precisaremos mais informar usuários, senhas e URLs!"
   ]
  },
  {
   "cell_type": "code",
   "execution_count": 2,
   "id": "f5147533",
   "metadata": {},
   "outputs": [],
   "source": [
    "load_dotenv(override=True)\n",
    "\n",
    "def get_connection_helper():\n",
    "\n",
    "    def run_db_query(connection, query, args=None):\n",
    "        with connection.cursor() as cursor:\n",
    "            print(\"Executando query:\")\n",
    "            cursor.execute(query, args)\n",
    "            for result in cursor:\n",
    "                print(result)\n",
    "\n",
    "    connection = mysql.connector.connect(\n",
    "        host=os.getenv(\"MD_DB_SERVER\"),\n",
    "        user=os.getenv(\"MD_DB_USERNAME\"),\n",
    "        password=os.getenv(\"MD_DB_PASSWORD\"),\n",
    "        database=\"academia\",\n",
    "    )\n",
    "    return connection, partial(run_db_query, connection)\n",
    "\n",
    "\n",
    "connection, db = get_connection_helper()"
   ]
  },
  {
   "cell_type": "markdown",
   "id": "86e481dc",
   "metadata": {},
   "source": [
    "### Notas\n",
    "\n",
    "Para conferir a nota da correção automática da prova, utilize:"
   ]
  },
  {
   "cell_type": "code",
   "execution_count": 3,
   "id": "9d0c9a82",
   "metadata": {},
   "outputs": [
    {
     "data": {
      "text/markdown": [
       "|    | Atividade   | Exercício   |   Peso |   Nota |\n",
       "|---:|:------------|:------------|-------:|-------:|\n",
       "|  0 | ai_md_25_1  | ex01        |      3 |     10 |\n",
       "|  1 | ai_md_25_1  | ex02        |      5 |     10 |\n",
       "|  2 | ai_md_25_1  | ex03        |      5 |     10 |\n",
       "|  3 | ai_md_25_1  | ex04        |      6 |     10 |\n",
       "|  4 | ai_md_25_1  | ex05        |      2 |     10 |\n",
       "|  5 | ai_md_25_1  | ex06        |      4 |     10 |"
      ],
      "text/plain": [
       "<IPython.core.display.Markdown object>"
      ]
     },
     "metadata": {},
     "output_type": "display_data"
    }
   ],
   "source": [
    "ia.grades(task=\"ai_md_25_1\")"
   ]
  },
  {
   "cell_type": "code",
   "execution_count": 4,
   "id": "088634f3",
   "metadata": {},
   "outputs": [
    {
     "data": {
      "text/markdown": [
       "|    | Tarefa     |   Nota |\n",
       "|---:|:-----------|-------:|\n",
       "|  0 | ai_md_25_1 |      0 |"
      ],
      "text/plain": [
       "<IPython.core.display.Markdown object>"
      ]
     },
     "metadata": {},
     "output_type": "display_data"
    }
   ],
   "source": [
    "ia.grades(by=\"TASK\", task=\"ai_md_25_1\")"
   ]
  },
  {
   "cell_type": "markdown",
   "id": "c210879c",
   "metadata": {},
   "source": [
    "**Obs**:\n",
    "\n",
    "- As questões 1 a 6 valem **6.0 pontos** na nota da prova.\n",
    "    - Estas questões serão corrigidas **apenas** pela correção automática. Não haverá nota manual, mas haverá check de honestidade, conforme regras da prova.\n",
    "    - Confira os pesos pela API, a média é ponderada.\n",
    "    - No servidor, a nota da atividade estará no intervalo 0 a 10. Multiplique por `0.6` para saber a real contribuição na nota da prova.\n",
    "- A questão 7 vale **0.5 pontos** na nota da prova.\n",
    "- As questões 8 e 9 valem **4.0 pontos** na nota da prova:\n",
    "    - **2.5 pontos** para a questão 8.\n",
    "    - **1.5 pontos** para a questão 9.\n",
    "\n",
    "Logo, a prova vale um total de **10.5** pontos. Você terá sua nota truncada para dez caso conquiste nota maior."
   ]
  },
  {
   "cell_type": "markdown",
   "id": "8a3c8ba9",
   "metadata": {},
   "source": [
    "**Exercício 1**: Crie uma query que retorne o nome (completo), a data de nascimento e o telefone de todos os clientes cujo nome completo termina com a letra `\"a\"`.\n",
    "\n",
    "**Obs**: Ordene de forma crescente pelo nome (completo)."
   ]
  },
  {
   "cell_type": "code",
   "execution_count": 5,
   "id": "49f356af",
   "metadata": {},
   "outputs": [
    {
     "name": "stdout",
     "output_type": "stream",
     "text": [
      "Executando query:\n",
      "('Ana Souza', datetime.date(1991, 3, 15), '11966666666')\n",
      "('Carlos Lima', datetime.date(1992, 10, 10), '11977777777')\n",
      "('João Pereira', datetime.date(1985, 5, 20), '21988888888')\n",
      "('Laura Costa', datetime.date(1994, 2, 12), '21933333333')\n",
      "('Maria Silva', datetime.date(1990, 1, 1), '11999999999')\n"
     ]
    }
   ],
   "source": [
    "sql_ex01 = \"\"\"\n",
    "SELECT\n",
    "\tnome, data_nasc, telefone\n",
    "FROM\n",
    "\tcliente\n",
    "WHERE\n",
    "\tnome LIKE '%a'\n",
    "ORDER BY\n",
    "\tnome ASC;\n",
    "\"\"\"\n",
    "\n",
    "db(sql_ex01)"
   ]
  },
  {
   "cell_type": "markdown",
   "id": "912fa816",
   "metadata": {},
   "source": [
    "Após testar localmente e considerar sua solução correta, faça o envio clicando no botão abaixo!"
   ]
  },
  {
   "cell_type": "code",
   "execution_count": 6,
   "id": "5e07ed2b",
   "metadata": {},
   "outputs": [
    {
     "data": {
      "application/vnd.jupyter.widget-view+json": {
       "model_id": "700e67011b554056ab120ba230c1dec9",
       "version_major": 2,
       "version_minor": 0
      },
      "text/plain": [
       "interactive(children=(Button(description='Enviar ex01', style=ButtonStyle()), Output()), _dom_classes=('widget…"
      ]
     },
     "metadata": {},
     "output_type": "display_data"
    }
   ],
   "source": [
    "ia.sender(answer=\"sql_ex01\", task=\"ai_md_25_1\", question=\"ex01\", answer_type=\"pyvar\")"
   ]
  },
  {
   "cell_type": "markdown",
   "id": "c167b70e",
   "metadata": {},
   "source": [
    "**Exercício 2**: Crie uma query que retorne:\n",
    "\n",
    "- O nome da unidade;\n",
    "- O número da unidade;\n",
    "- O nome da rede da unidade;\n",
    "- O nome da cidade da unidade;\n",
    "\n",
    "**Obs**:\n",
    "- Retorne apenas as unidades não localizadas no **Brasil**;\n",
    "- Utilize a nomenclatura (`nome_unidade`, `numero`, `rede`, `cidade`);\n",
    "- Ordene de forma decrescente pelo `nome_unidade`."
   ]
  },
  {
   "cell_type": "code",
   "execution_count": 7,
   "id": "0203756a",
   "metadata": {},
   "outputs": [
    {
     "name": "stdout",
     "output_type": "stream",
     "text": [
      "Executando query:\n",
      "('Smart Buenos Aires', '400', 'Smart Fit', 'Buenos Aires')\n",
      "('JustFit Lima', '502', 'JustFit', 'Lima')\n",
      "('JustFit Buenos Aires', '402', 'JustFit', 'Buenos Aires')\n",
      "('BodyTech Lima', '601', 'BodyTech', 'Lima')\n",
      "('BodyTech Cusco', '701', 'BodyTech', 'Lima')\n",
      "('BodyTech Buenos Aires', '501', 'BodyTech', 'Buenos Aires')\n",
      "('BlueFit Lima', '401', 'BlueFit', 'Lima')\n",
      "('BioRitmo Lima', '403', 'BioRitmo', 'Lima')\n"
     ]
    }
   ],
   "source": [
    "sql_ex02 = \"\"\"\n",
    "SELECT\n",
    "\tunidade.nome AS nome_unidade,\n",
    "    numero,\n",
    "    rede.nome AS rede,\n",
    "    cidade.nome AS cidade\n",
    "FROM\n",
    "\tunidade INNER JOIN rede USING (id_rede)\n",
    "    INNER JOIN cep USING (id_cep)\n",
    "    INNER JOIN cidade USING (id_cidade)\n",
    "    INNER JOIN estado USING (id_estado)\n",
    "    INNER JOIN pais USING (id_pais)\n",
    "WHERE\n",
    "\tpais.nome != 'Brasil'\n",
    "ORDER BY\n",
    "\tnome_unidade DESC;\n",
    "\"\"\"\n",
    "\n",
    "db(sql_ex02)"
   ]
  },
  {
   "cell_type": "markdown",
   "id": "ed653f31",
   "metadata": {},
   "source": [
    "Após testar localmente e considerar sua solução correta, faça o envio clicando no botão abaixo!"
   ]
  },
  {
   "cell_type": "code",
   "execution_count": 8,
   "id": "b38f883b",
   "metadata": {},
   "outputs": [
    {
     "data": {
      "application/vnd.jupyter.widget-view+json": {
       "model_id": "0e8c8813667b4fe7abc271a347f73c27",
       "version_major": 2,
       "version_minor": 0
      },
      "text/plain": [
       "interactive(children=(Button(description='Enviar ex02', style=ButtonStyle()), Output()), _dom_classes=('widget…"
      ]
     },
     "metadata": {},
     "output_type": "display_data"
    }
   ],
   "source": [
    "ia.sender(answer=\"sql_ex02\", task=\"ai_md_25_1\", question=\"ex02\", answer_type=\"pyvar\")"
   ]
  },
  {
   "cell_type": "markdown",
   "id": "a1f510dc",
   "metadata": {},
   "source": [
    "**Exercício 3**: Crie uma query que retorne:\n",
    "\n",
    "- O nome do cliente;\n",
    "- O valor total dos planos que o cliente assina ou ja assinou (coluna `valor_total`);\n",
    "- A quantidade de planos que o cliente assina (coluna `qtde_planos`).\n",
    "\n",
    "**Obs**:\n",
    "- Clientes sem planos também devem ser retornados. Seus indicadores devem estar zerados.\n",
    "- Ordene de forma decrescente pelo valor total. Em caso de empate, ordene de forma crescente pelo nome do cliente."
   ]
  },
  {
   "cell_type": "code",
   "execution_count": 11,
   "id": "f124731c",
   "metadata": {},
   "outputs": [
    {
     "name": "stdout",
     "output_type": "stream",
     "text": [
      "Executando query:\n",
      "('Laura Costa', Decimal('629.60'), 4)\n",
      "('Carlos Lima', Decimal('329.80'), 2)\n",
      "('João Pereira', Decimal('299.80'), 2)\n",
      "('Maria Silva', Decimal('299.80'), 2)\n",
      "('Ana Souza', Decimal('99.90'), 1)\n",
      "('Fernando Dias', Decimal('99.90'), 1)\n",
      "('Pedro Mendes', Decimal('79.90'), 1)\n",
      "('Carla Nunes', Decimal('0.00'), 0)\n",
      "('Lucas Gomes', Decimal('0.00'), 0)\n",
      "('Ricardo Santos', Decimal('0.00'), 0)\n"
     ]
    }
   ],
   "source": [
    "sql_ex03 = \"\"\"\n",
    "SELECT\n",
    "\tcliente.nome,\n",
    "    COALESCE(SUM(plano.valor), 0.00) AS valor_total,\n",
    "    COALESCE(COUNT(id_plano), 0) AS qtde_planos\n",
    "FROM\n",
    "\tcliente LEFT OUTER JOIN membro_plano USING (id_cliente)\n",
    "\tLEFT OUTER JOIN plano USING (id_plano)\n",
    "GROUP BY\n",
    "\tid_cliente\n",
    "ORDER BY\n",
    "\tvalor_total DESC,\n",
    "    cliente.nome ASC;\n",
    "\"\"\"\n",
    "\n",
    "db(sql_ex03)"
   ]
  },
  {
   "cell_type": "markdown",
   "id": "6e1251f9",
   "metadata": {},
   "source": [
    "Após testar localmente e considerar sua solução correta, faça o envio clicando no botão abaixo!"
   ]
  },
  {
   "cell_type": "code",
   "execution_count": 12,
   "id": "4a3e71f9",
   "metadata": {},
   "outputs": [
    {
     "data": {
      "application/vnd.jupyter.widget-view+json": {
       "model_id": "bcf527fa44474cd39448bb8c5ca5ea2d",
       "version_major": 2,
       "version_minor": 0
      },
      "text/plain": [
       "interactive(children=(Button(description='Enviar ex03', style=ButtonStyle()), Output()), _dom_classes=('widget…"
      ]
     },
     "metadata": {},
     "output_type": "display_data"
    }
   ],
   "source": [
    "ia.sender(answer=\"sql_ex03\", task=\"ai_md_25_1\", question=\"ex03\", answer_type=\"pyvar\")"
   ]
  },
  {
   "cell_type": "markdown",
   "id": "ae19d0a1",
   "metadata": {},
   "source": [
    "**Exercício 4**:\n",
    "\n",
    "Vamos analisar a distribuição dos planos e clientes.\n",
    "\n",
    "Crie uma query que retorne:\n",
    "\n",
    "- O nome do plano (coluna `plano`);\n",
    "- O `valor` do plano;\n",
    "- A quantidade de redes disponibilizadas pelo plano (coluna `qtde_redes`);\n",
    "- A quantidade de unidades disponíveis no plano (coluna `qtde_unidades`);\n",
    "- A quantidade de cidades diferentes atendidas pelo plano, com base nas unidades (coluna `qtde_cidades`);\n",
    "- A quantidade de clientes que assinam o plano (coluna `qtde_clientes`). Considere apenas as assinaturas `membro_plano` ativas (independente se o cliente está ativo).\n",
    "\n",
    "**Obs:**\n",
    "- Considere apenas planos que atendem no máximo cinco cidades diferentes;\n",
    "- Retorne apenas os três planos com mais unidades;\n",
    "- Ordene de forma crescente pelo nome do plano."
   ]
  },
  {
   "cell_type": "code",
   "execution_count": 15,
   "id": "b8a0a9bc",
   "metadata": {},
   "outputs": [
    {
     "name": "stdout",
     "output_type": "stream",
     "text": [
      "Executando query:\n",
      "('Light', Decimal('79.90'), 1, 6, 4, 1)\n",
      "('Premium', Decimal('229.90'), 5, 23, 5, 2)\n",
      "('Silver', Decimal('129.90'), 2, 11, 5, 2)\n"
     ]
    }
   ],
   "source": [
    "sql_ex04 = \"\"\"\n",
    "SELECT\n",
    "\t*\n",
    "FROM\n",
    "\t(SELECT\n",
    "\t\tplano.nome AS plano,\n",
    "\t\tvalor,\n",
    "\t\tCOUNT(DISTINCT rede.id_rede) AS qtde_redes,\n",
    "\t\tCOUNT(DISTINCT unidade.id_unidade) AS qtde_unidades,\n",
    "\t\tCOUNT(DISTINCT cep.id_cidade) AS qtde_cidades,\n",
    "\t\tCOUNT(DISTINCT membro_plano.id_cliente) AS qtde_clientes\n",
    "\tFROM\n",
    "\t\tplano INNER JOIN rede_plano ON plano.id_plano = rede_plano.plano_id_plano\n",
    "\t\tINNER JOIN rede ON rede.id_rede = rede_plano.rede_id_rede\n",
    "\t\tINNER JOIN unidade USING (id_rede)\n",
    "\t\tINNER JOIN cep USING (id_cep)\n",
    "\t\tINNER JOIN membro_plano USING (id_plano)\n",
    "\tWHERE\n",
    "\t\tmembro_plano.ativo = 1\n",
    "\tGROUP BY\n",
    "\t\tplano.id_plano\n",
    "\tHAVING\n",
    "\t\tqtde_cidades <= 5\n",
    "\tORDER BY\n",
    "\t\tqtde_unidades DESC\n",
    "\tLIMIT 3) AS planos_com_mais_unidades\n",
    "ORDER BY\n",
    "\tplano ASC;\n",
    "\"\"\"\n",
    "\n",
    "db(sql_ex04)"
   ]
  },
  {
   "cell_type": "markdown",
   "id": "1865f073",
   "metadata": {},
   "source": [
    "Após testar localmente e considerar sua solução correta, faça o envio clicando no botão abaixo!"
   ]
  },
  {
   "cell_type": "code",
   "execution_count": 16,
   "id": "1e93079b",
   "metadata": {},
   "outputs": [
    {
     "data": {
      "application/vnd.jupyter.widget-view+json": {
       "model_id": "193ecd54ac194fed825bbad47440504f",
       "version_major": 2,
       "version_minor": 0
      },
      "text/plain": [
       "interactive(children=(Button(description='Enviar ex04', style=ButtonStyle()), Output()), _dom_classes=('widget…"
      ]
     },
     "metadata": {},
     "output_type": "display_data"
    }
   ],
   "source": [
    "ia.sender(answer=\"sql_ex04\", task=\"ai_md_25_1\", question=\"ex04\", answer_type=\"pyvar\")"
   ]
  },
  {
   "cell_type": "markdown",
   "id": "6d9f7e61",
   "metadata": {},
   "source": [
    "**Exercício 5**:\n",
    "\n",
    "Devido a restrições legais, todos os clientes inativos devem ser removidos da base.\n",
    "\n",
    "Crie uma query para realizar esta tarefa."
   ]
  },
  {
   "cell_type": "code",
   "execution_count": 17,
   "id": "632c9fc8",
   "metadata": {},
   "outputs": [
    {
     "name": "stdout",
     "output_type": "stream",
     "text": [
      "Executando query:\n"
     ]
    }
   ],
   "source": [
    "sql_ex05 = \"\"\"\n",
    "DELETE FROM cliente WHERE cliente.ativo=0;\n",
    "\"\"\"\n",
    "\n",
    "db(sql_ex05)"
   ]
  },
  {
   "cell_type": "markdown",
   "id": "4bfb28da",
   "metadata": {},
   "source": [
    "Após testar localmente e considerar sua solução correta, faça o envio clicando no botão abaixo!"
   ]
  },
  {
   "cell_type": "code",
   "execution_count": 18,
   "id": "75b5ad42",
   "metadata": {},
   "outputs": [
    {
     "data": {
      "application/vnd.jupyter.widget-view+json": {
       "model_id": "3ebfc38441264723a1bf3da017aced9d",
       "version_major": 2,
       "version_minor": 0
      },
      "text/plain": [
       "interactive(children=(Button(description='Enviar ex05', style=ButtonStyle()), Output()), _dom_classes=('widget…"
      ]
     },
     "metadata": {},
     "output_type": "display_data"
    }
   ],
   "source": [
    "ia.sender(answer=\"sql_ex05\", task=\"ai_md_25_1\", question=\"ex05\", answer_type=\"pyvar\")"
   ]
  },
  {
   "cell_type": "markdown",
   "id": "fdd6343b",
   "metadata": {},
   "source": [
    "**Exercício 6**: A gestão percebeu que não possui nenhuma informação de localização dos clientes. Assim, decidiu armazenar também o **CEP** de moradia dos **clientes**.\n",
    "\n",
    "Como as tabelas de `cliente` e `cep` já existem, neste exercício você deve criar uma query para alterar a tabela de clientes:\n",
    "\n",
    "- Adicione uma coluna `id_cep` na tabela de `cliente` com tipo inteiro. O atributo não é obrigatório.\n",
    "- Adicione uma chave estrangeira para a tabela de `cep`.\n",
    "\n",
    "Envie apenas uma query como resposta. Você pode separar por vírgula e, em uma única query, enviar a criação do campo e criação da chave estrangeira.\n",
    "\n",
    "**Obs**: Você deve alterar a tabela. Apagar e recriar não será considerada uma solução válida."
   ]
  },
  {
   "cell_type": "code",
   "execution_count": 26,
   "id": "a6b2076c",
   "metadata": {},
   "outputs": [],
   "source": [
    "sql_ex06 = \"\"\"\n",
    "ALTER TABLE cliente\n",
    "    ADD COLUMN (\n",
    "            id_cep INT\n",
    "    ),\n",
    "    ADD FOREIGN KEY (id_cep) REFERENCES cep(id_cep);\n",
    "\"\"\""
   ]
  },
  {
   "cell_type": "code",
   "execution_count": null,
   "id": "6d443e77",
   "metadata": {},
   "outputs": [
    {
     "name": "stdout",
     "output_type": "stream",
     "text": [
      "Executando query:\n"
     ]
    }
   ],
   "source": [
    "db(sql_ex06)"
   ]
  },
  {
   "cell_type": "markdown",
   "id": "7b4fce3a",
   "metadata": {},
   "source": [
    "Após testar localmente e considerar sua solução correta, faça o envio clicando no botão abaixo!"
   ]
  },
  {
   "cell_type": "code",
   "execution_count": 27,
   "id": "f0c5c9e3",
   "metadata": {},
   "outputs": [
    {
     "data": {
      "application/vnd.jupyter.widget-view+json": {
       "model_id": "ed3ac3937c3c4fb8bcea19763ef2914b",
       "version_major": 2,
       "version_minor": 0
      },
      "text/plain": [
       "interactive(children=(Button(description='Enviar ex06', style=ButtonStyle()), Output()), _dom_classes=('widget…"
      ]
     },
     "metadata": {},
     "output_type": "display_data"
    }
   ],
   "source": [
    "ia.sender(answer=\"sql_ex06\", task=\"ai_md_25_1\", question=\"ex06\", answer_type=\"pyvar\")"
   ]
  },
  {
   "cell_type": "markdown",
   "id": "b92ff0ce",
   "metadata": {},
   "source": [
    "### Conferindo as notas!"
   ]
  },
  {
   "cell_type": "code",
   "execution_count": 28,
   "id": "0da6de09",
   "metadata": {},
   "outputs": [
    {
     "data": {
      "text/markdown": [
       "|    | Atividade   | Exercício   |   Peso |   Nota |\n",
       "|---:|:------------|:------------|-------:|-------:|\n",
       "|  0 | ai_md_25_1  | ex01        |      3 |     10 |\n",
       "|  1 | ai_md_25_1  | ex02        |      5 |     10 |\n",
       "|  2 | ai_md_25_1  | ex03        |      5 |     10 |\n",
       "|  3 | ai_md_25_1  | ex04        |      6 |     10 |\n",
       "|  4 | ai_md_25_1  | ex05        |      2 |     10 |\n",
       "|  5 | ai_md_25_1  | ex06        |      4 |     10 |"
      ],
      "text/plain": [
       "<IPython.core.display.Markdown object>"
      ]
     },
     "metadata": {},
     "output_type": "display_data"
    }
   ],
   "source": [
    "ia.grades(task=\"ai_md_25_1\")"
   ]
  },
  {
   "cell_type": "markdown",
   "id": "4c902f7c",
   "metadata": {},
   "source": [
    "**Exercício 7**: O seu **exercício quatro** será conferido em relação a padronização do código SQL. Caso tudo esteja ok, você ganhará meio ponto!\n",
    "\n",
    "Cole a melhor versão da sua resposta do ex 4 onde indicado logo abaixo. Faça isto mesmo que não tenha passado nos testes!\n",
    "\n",
    "A conferência levará em conta:\n",
    "- Se a query está bem formatada, considerando principalmente:\n",
    "    - Padrão de maiúsculas e minúsculas\n",
    "    - Tabulações e quebras de linhas, sem linhas muito longas\n",
    "- Se utiliza *alias* nas tabelas."
   ]
  },
  {
   "cell_type": "markdown",
   "id": "9ae2c174",
   "metadata": {
    "scrolled": true
   },
   "source": [
    "```sql\n",
    "-- Dê dois cliques AQUI!\n",
    "-- Cole a melhor versão da sua query do Ex 4, mesmo que não esteja completamente correta!\n",
    "SELECT\n",
    "\t*\n",
    "FROM\n",
    "\t(SELECT\n",
    "\t\tplano.nome AS plano,\n",
    "\t\tvalor,\n",
    "\t\tCOUNT(DISTINCT rede.id_rede) AS qtde_redes,\n",
    "\t\tCOUNT(DISTINCT unidade.id_unidade) AS qtde_unidades,\n",
    "\t\tCOUNT(DISTINCT cep.id_cidade) AS qtde_cidades,\n",
    "\t\tCOUNT(DISTINCT membro_plano.id_cliente) AS qtde_clientes\n",
    "\tFROM\n",
    "\t\tplano INNER JOIN rede_plano ON plano.id_plano = rede_plano.plano_id_plano\n",
    "\t\tINNER JOIN rede ON rede.id_rede = rede_plano.rede_id_rede\n",
    "\t\tINNER JOIN unidade USING (id_rede)\n",
    "\t\tINNER JOIN cep USING (id_cep)\n",
    "\t\tINNER JOIN membro_plano USING (id_plano)\n",
    "\tWHERE\n",
    "\t\tmembro_plano.ativo = 1\n",
    "\tGROUP BY\n",
    "\t\tplano.id_plano\n",
    "\tHAVING\n",
    "\t\tqtde_cidades <= 5\n",
    "\tORDER BY\n",
    "\t\tqtde_unidades DESC\n",
    "\tLIMIT 3) AS planos_com_mais_unidades\n",
    "ORDER BY\n",
    "\tplano ASC;\n",
    "```"
   ]
  },
  {
   "cell_type": "markdown",
   "id": "8acfd788",
   "metadata": {},
   "source": [
    "## Parte 2 - Controle de Distribuição de Medicamentos\n",
    "\n",
    "Você foi contratado pela **Farmacêutica FarMax** para desenvolver um sistema que permita acompanhar a distribuição de medicamentos desde a produção até os centros de distribuição. O objetivo é que cada lote de medicamento chegue ao seu destino corretamente e dentro do prazo de validade.\n",
    "\n",
    "Em reuniões com a equipe da **FarMax**, foram levantadas as seguintes informações sobre o domínio de negócio:\n",
    "\n",
    "- **Cadastro de Medicamentos**: O sistema deve permitir o cadastro dos medicamentos, incluindo nome do medicamento, bula (texto) e fórmula (princípio ativo, em formato de texto).\n",
    "\n",
    "- **Cadastro de Lotes de Medicamentos**: Um lote de medicamento é um conjunto de unidades de um medicamento (como comprimidos, frascos, ampolas, etc.) que foi produzido sob as mesmas condições, no mesmo processo de fabricação e durante um mesmo período de tempo. Sempre que um medicamento é produzido, um novo **lote** é gerado para identificar a produção. Medicamentos diferentes nunca compartilham o mesmo lote, mas cada medicamento pode ter múltiplos lotes de produção. O sistema deve registrar a identificação do lote (ex: `3NX1829A`), a data de produção, a data de validade, o medicamento produzido no lote e a quantidade produzida.\n",
    "\n",
    "- **Cadastro de Centros de Distribuição**: O sistema deve armazenar informações sobre os centros de distribuição, incluindo endereço (rua, número, cidade, estado) e a capacidade de armazenamento (número real).\n",
    "\n",
    "- **Cadastro de Remessas de Medicamentos**: Uma remessa é o envio de certa quantidade de um medicamento (de determinado lote) para um centro de distribuição. O sistema deve permitir registrar o **envio de lotes** de medicamentos para os centros de distribuição, mediante o cadastro de remessas. Considere que as remessas podem ocorrer de forma recorrente (o mesmo lote pode ser enviado em datas diferentes para o mesmo centro de distribuição), sendo criada uma nova remessa sempre que isto ocorrer. Informações relevantes na remessa: o lote sendo enviado, o centro de distribuição (destino), a quantidade enviada, a data de criação da remessa e a data de recebimento no centro de distribuição (deve ser opcional, para preenchimento na data de recebimento).\n",
    "\n",
    "**Tarefa:**\n",
    "\n",
    "Com base nas informações fornecidas pela equipe da **FarMax**, elabore um **diagrama do modelo relacional (no Workbench)** que represente as entidades, atributos e relacionamentos necessários para implementar o sistema descrito. Certifique-se de identificar chaves primárias, chaves estrangeiras e quaisquer restrições de integridade relevantes.\n",
    "\n",
    "**Dica**:\n",
    "- Concentre-se no escopo descrito. Não precisa se preocupar com detalhes como: \"onde está localizada a fábrica? são várias fábricas?\""
   ]
  },
  {
   "cell_type": "markdown",
   "id": "87a72d7f",
   "metadata": {},
   "source": [
    "**Exercício 8**: Desenhe o diagrama do modelo relacional com uma solução para o problema. Não esqueça de indicar claramente os atributos (obrigatórios e opcionais), tipos, chaves primárias, chaves estrangeiras, e a cardinalidade dos relacionamentos.\n",
    "\n",
    "**Obs:** Salve a imagem do diagrama na pasta `img`. Edite na resposta o caminho para a imagem!"
   ]
  },
  {
   "cell_type": "markdown",
   "id": "f20e9048",
   "metadata": {},
   "source": [
    "<div class=\"alert alert-success\">\n",
    "    \n",
    "Edite na resposta o caminho para a imagem!\n",
    "    \n",
    "<img src=\"img/deer_medicamentos.png\">\n",
    "\n",
    "</div>"
   ]
  },
  {
   "cell_type": "markdown",
   "id": "a795d1da",
   "metadata": {},
   "source": [
    "**Opcional**: caso julgue necessário, utilize o bloco abaixo para justificar decisões tomadas no desenho do diagrama."
   ]
  },
  {
   "cell_type": "markdown",
   "id": "59ec78d3",
   "metadata": {},
   "source": [
    "<div class=\"alert alert-success\">\n",
    "    \n",
    "1) Todos os relacionamentos foram considerados identificadores pois:\n",
    "\n",
    "- Um lote só é possível se exitir um medicamento;\n",
    "- Uma remessa só é possível se existir um lote e um centro de distribuição;\n",
    "\n",
    "2) Em um projeto mais complexo, seria interessante criar tabelas diferentes para \"cidade\" e \"estado\", pois a utilização de informações de endereço poderia existir em múltiplas tabelas. Desta forma, criaria-se um identificador para cada cidade e estado e esse id seria usado para referenciá-los, sem a necessidade de repetição de dados.\n",
    "\n",
    "</div>"
   ]
  },
  {
   "cell_type": "markdown",
   "id": "b0fb57a5",
   "metadata": {},
   "source": [
    "**Exercício 9**: Discorra, com suas palavras, sobre *views* e *tabelas temporárias*.\n",
    "\n",
    "Esta questão será corrigida considerando a seguinte subrica:\n",
    "| Conceito | Nota | Descrição                                                                                                                                               |\n",
    "|:----------:|----------:|:---------------------------------------------------------------------------------------------------------------------------------------------------------|\n",
    "| I        | 0.0 |Apenas citou o assunto ou alguns fatos sem explicações                                                                                                  |\n",
    "| D        | 0.3 |Explicou superficialmente o assunto ou fatos mas sem muitos detalhes conclusivos                                                                        |\n",
    "| C        | 0.6 |Explicou com detalhes, apresentando definições concretas.                                                                                               |\n",
    "| B        | 0.8 |Explicou com detalhes, apresentando definições concretas e exemplos de uso.                                                                            |\n",
    "| A        | 1.0 |Explicou com detalhes, apresentando definições concretas, exemplos de uso e ainda outros tópicos correlatos, fazendo uma conexão lógica entre eles. |"
   ]
  },
  {
   "cell_type": "markdown",
   "id": "f3b863f4",
   "metadata": {},
   "source": [
    "<div class=\"alert alert-success\">\n",
    "\n",
    "Uma *View* é uma tabela virtual que condensa uma quantidade limitada de informações de uma ou mais tabelas de uma determinada base de dados. Ela é criada quando se deseja disponibilizar para visualização um determinado conjunto de informações sem colocar em risco a integridade da base de dados. Por não ser possível editar outras tabelas através dela, ela deverá ser usada para consulta, sem a necessidade ou risco de interferir no armazenamento de dados nas tabelas, e permanecerá como parte do projeto.\n",
    "\n",
    "*Ex: Deseja-se analisar hábitos de consumo dos clientes numa base de dados de vendas, porém é necessário proteger os dados pessoais desses clientes. Uma view exibindo os dados de transações, mas ocultando os nomes e ids com hashs pode ser criada para consulta.*\n",
    "\n",
    "Uma *Tabela temporária*, por outro lado, é uma tabela criada em razão de processos intermediários, e deve ter como destino sua remoção. Diferentemente da View, ela possui praticamente todas as características de uma tabela, sendo possível modificar dados e acessar indiretamente outras tabelas através dela. Por sua natureza e risco, a Tabela temporária normalmente é criada para uma quantidade limitada de usos e deve ser removida em seguida.\n",
    "\n",
    "*Ex: O engenheiro de dados está analisando comportamentos não usuais no armazenamento de dados com algumas variáveis específicas. Uma tabela temporária pode ser criada filtrando essas variáveis para que o engenheiro de dados possa se concentrar nelas. Ao fim da análise, a tabela poderá ser removida sem prejuízos.*\n",
    "\n",
    "</div>"
   ]
  },
  {
   "cell_type": "markdown",
   "id": "cc63d0f3",
   "metadata": {},
   "source": [
    "## Entrega!\n",
    "\n",
    "É hora de entregar. Faça `zip` da pasta de prova (zip, não rar) e envie no Blackboard."
   ]
  },
  {
   "cell_type": "markdown",
   "id": "8f30d2b5",
   "metadata": {},
   "source": [
    "## Erros\n",
    "\n",
    "Caso queira relatar erros encontrados na prova, escreva aqui:\n",
    "\n",
    "<div class=\"alert alert-success\">\n",
    "\n",
    "Não são erros na prova, mas problemas que tive:\n",
    "\n",
    "- No início da prova, meu computador deu tela azul, desligando o SMOWL e todo o resto;\n",
    "- Durante a prova, o SMOWL caiu uma vez, e logo comuniquei e liguei novamente;\n",
    "\n",
    "</div>"
   ]
  }
 ],
 "metadata": {
  "kernelspec": {
   "display_name": "Python 3",
   "language": "python",
   "name": "python3"
  },
  "language_info": {
   "codemirror_mode": {
    "name": "ipython",
    "version": 3
   },
   "file_extension": ".py",
   "mimetype": "text/x-python",
   "name": "python",
   "nbconvert_exporter": "python",
   "pygments_lexer": "ipython3",
   "version": "3.10.11"
  }
 },
 "nbformat": 4,
 "nbformat_minor": 5
}
