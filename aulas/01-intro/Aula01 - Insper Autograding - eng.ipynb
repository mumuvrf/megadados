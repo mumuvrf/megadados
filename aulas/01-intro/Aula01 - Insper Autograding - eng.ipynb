{
 "cells": [
  {
   "cell_type": "markdown",
   "id": "f988376d-f69e-4c7c-994d-ebacf9aa4137",
   "metadata": {},
   "source": [
    "# PARTE 1:Instalar MySQL\n",
    "\n",
    "Umas das tarefas iniciais na primeira etapa da disciplina de Megadados é a preparação do MySQL Community Server.\n",
    "\n",
    "Uma opção é efetuar a instalação direta em seu sistema operacional. No entanto é um processo que pode ser mais oneroso e com maior dificuldade em casos de modificação ou remoção do serviço. Uma opção prática e que resulta em maior flexibilidade e otimização do uso do SGBD é a instalação através do Docker.\n",
    "\n",
    "Escolha entre as opções **A** e **B** e faça apenas uma!\n",
    "\n",
    "## Opção A: instalar direto no sistema.\n",
    "\n",
    "Link para download do Instalador: https://dev.mysql.com/downloads/mysql/\n",
    "\n",
    "Utilize a versão `8.0.41`.\n",
    "\n",
    "Se solicitar VS 2019 https://learn.microsoft.com/en-us/cpp/windows/latest-supported-vc-redist?view=msvc-170\n",
    "\n",
    "Na instalação, selecione como produtos pelo menos o **MySQL Server** e o **MySQL Workbench**.\n",
    "\n",
    "**Obs**: anote a senha escolhida durante a configuração do servidor!\n",
    "\n",
    "Usuários Linux podem utilizar (mas faça também a instalação do Workbench):\n",
    "\n",
    "```console\n",
    "sudo apt update\n",
    "sudo apt install mysql-server\n",
    "sudo systemctl start mysql.service\n",
    "```"
   ]
  },
  {
   "cell_type": "markdown",
   "id": "5fe79a08-c199-4798-a08c-d0af6422f078",
   "metadata": {},
   "source": [
    "## Opção B: utilizar Docker.\n",
    "\n",
    "### Instalando o Docker Desktop\n",
    "\n",
    "O Docker Desktop é compatível com os sistemas operacionais Windows, distribuições Linux e também para Mac com chip Intel ou Apple.\n",
    "\n",
    "Para baixar, basta acessar o portal https://www.docker.com/products/docker-desktop/, efetuar o download e seguir com a instalação.\n",
    "\n",
    "Para a instalação em sistemas operacionais Windows, fique atento ao uso do componente WSL (*Windows Subsystem for Linux*). A própria instalação do Docker Desktop fará um alerta sobre isso \n",
    "\n",
    "Durante a instalação, será recomendado que você faça uma conta para o acesso ao Docker. Você precisa estar logado no Docker Hub para o passo de donwload da imagem do MySQL.\n",
    "\n",
    "Recomendamos que passe pelos tutoriais iniciais do Docker, o qual oferece as noções básicas para o uso.\n",
    "\n",
    "Depois de instalado, você pode abrir seu terminal no seu sistema operacional e verificar se o docker está funcionamento pelo comando \n",
    "\n",
    "```console\n",
    "docker info\n",
    "```"
   ]
  },
  {
   "cell_type": "markdown",
   "id": "7250815b-1116-483f-8d89-5a8ac833670f",
   "metadata": {},
   "source": [
    "### Como baixar a imagem e instanciar o container do SGBD?\n",
    "\n",
    "Para preparar o SGBD, precisamos de sua instância em execução. Você pode imaginar que faremos uma extensa instalação e demorar horas para a configuração. Mas graças a nossa tecnologia de containers conseguimos estabelecer este SGBD em um tempo incrível.\n",
    "\n",
    "Para nossa experiência vamos usar o Docker, um dos gerenciadores de containers mais utilizados para serviços. Partindo do pressuposto que o Docker está instalado em seu host, abra um terminal e execute o seguinte comando:\n",
    "\n",
    "```console\n",
    "docker pull mysql:8.0.41\n",
    "```\n",
    "\n",
    "Caso você não tenha esta imagem do MySQL disponível o Docker fará o download da mesma. Com a imagem disponível, vamos criar um container e disponibilizar um serviço para nosso uso executando o seguinte comando (tudo em uma única linha).\n",
    "\n",
    "```console\n",
    "docker run --name sgbd-mysql -e MYSQL_ROOT_PASSWORD=insper -p 3306:3306 -d mysql:8.0.41 --default-authentication-plugin=mysql_native_password\n",
    "```\n",
    "\n",
    "Você pode definir o nome do seu container (no comando acima, `sgbd-mysql`), a senha para acesso inicial (aqui a palavra `insper` foi escolhida) a porta de operação (`3306`) e qual a imagem que será usada (`mysql:8.0.41`). Com isso, seu serviço de banco de dados está disponível na versão disponível `8.0.41`.\n",
    "\n",
    "Depois de instanciado você pode verificar se o seu serviço está listado e como está seu estado através do comando\n",
    "\n",
    "```console\n",
    "docker ps -a\n",
    "```\n",
    "\n",
    "Podemos também se certificar que conseguimos autenticar em nosso SGBD com as credenciais estabelecidas no momento criação da instância. Acesse o terminal do container que contém seu SGBD através do comando\n",
    "\n",
    "```console\n",
    "docker exec -it sgbd-mysql bash\n",
    "```\n",
    "\n",
    "Agora estamos no terminal do nosso container. Para acessar o terminal do nossso SGBD mySQL, execute\n",
    "\n",
    "```console\n",
    "mysql -uroot -p\n",
    "```\n",
    "\n",
    "\n",
    "Estando autenticado no banco de dados com o prompt \"mysql\" disponível. Você pode verificar os bancos de dados de sistema através do comando.\n",
    "\n",
    "```console\n",
    "show databases;\n",
    "```\n",
    "\n",
    "Ainda não temos nenhum banco de dados criado ou ao menos tabelas! Chegaremos lá nas próximas aulas! Para sair do prompt do SGBD basta digitar o comando \n",
    "\n",
    "```console\n",
    "quit;\n",
    "```\n",
    "\n",
    "E para sair do terminal do seu container, basta digitar\n",
    "\n",
    "```console\n",
    "exit\n",
    "```\n",
    "\n",
    "Para parar ou reiniciar o seu SGBD, você também pode fazer isso do painel de controle do Docker Desktop. Caso queira fazer isso pelo terminal, para iniciar o serviço basta usar o comando\n",
    "\n",
    "```console\n",
    "docker restart sgbd-mysql\n",
    "```\n",
    "\n",
    "E para parar o serviço\n",
    "\n",
    "```console\n",
    "docker stop sgbd-mysql\n",
    "```\n",
    "\n",
    "Agora, crie uma conexão no MySQL Workbench (https://dev.mysql.com/downloads/workbench/) para ter acesso a uma melhor interface!"
   ]
  },
  {
   "cell_type": "markdown",
   "id": "eccb9973",
   "metadata": {},
   "source": [
    "# PARTE 2: Insper Autograding\n",
    "\n",
    "Siga os passos deste notebook para realizar a instalação da biblioteca de correção de exercícios nos notebooks da disciplina de Megadados!\n",
    "\n",
    "## Instalação\n",
    "\n",
    "Vamos instalar a biblioteca:"
   ]
  },
  {
   "cell_type": "code",
   "execution_count": 6,
   "id": "f8da2455",
   "metadata": {},
   "outputs": [
    {
     "name": "stdout",
     "output_type": "stream",
     "text": [
      "Collecting git+https://github.com/macielcalebe/insperautograding.git\n",
      "  Cloning https://github.com/macielcalebe/insperautograding.git to c:\\users\\vinicius rodrigues\\appdata\\local\\temp\\pip-req-build-mcm78ih5\n",
      "  Resolved https://github.com/macielcalebe/insperautograding.git to commit 0d68e50930abe8460efbb43864132ffec30c862b\n",
      "  Preparing metadata (setup.py): started\n",
      "  Preparing metadata (setup.py): finished with status 'done'\n",
      "Requirement already satisfied: python-dotenv in c:\\users\\vinicius rodrigues\\anaconda3\\lib\\site-packages (from insperautograder==0.2.2) (0.21.0)\n",
      "Requirement already satisfied: requests in c:\\users\\vinicius rodrigues\\anaconda3\\lib\\site-packages (from insperautograder==0.2.2) (2.31.0)\n",
      "Requirement already satisfied: ipython in c:\\users\\vinicius rodrigues\\anaconda3\\lib\\site-packages (from insperautograder==0.2.2) (8.15.0)\n",
      "Collecting ipywidgets<=7.8.5 (from insperautograder==0.2.2)\n",
      "  Obtaining dependency information for ipywidgets<=7.8.5 from https://files.pythonhosted.org/packages/25/22/f48bd3af0ef7c72dce13f9930a4483acbc7c77373834700296495ea0875f/ipywidgets-7.8.5-py2.py3-none-any.whl.metadata\n",
      "  Downloading ipywidgets-7.8.5-py2.py3-none-any.whl.metadata (1.9 kB)\n",
      "Collecting comm>=0.1.3 (from ipywidgets<=7.8.5->insperautograder==0.2.2)\n",
      "  Obtaining dependency information for comm>=0.1.3 from https://files.pythonhosted.org/packages/e6/75/49e5bfe642f71f272236b5b2d2691cf915a7283cc0ceda56357b61daa538/comm-0.2.2-py3-none-any.whl.metadata\n",
      "  Downloading comm-0.2.2-py3-none-any.whl.metadata (3.7 kB)\n",
      "Requirement already satisfied: ipython-genutils~=0.2.0 in c:\\users\\vinicius rodrigues\\anaconda3\\lib\\site-packages (from ipywidgets<=7.8.5->insperautograder==0.2.2) (0.2.0)\n",
      "Requirement already satisfied: traitlets>=4.3.1 in c:\\users\\vinicius rodrigues\\anaconda3\\lib\\site-packages (from ipywidgets<=7.8.5->insperautograder==0.2.2) (5.7.1)\n",
      "Collecting widgetsnbextension~=3.6.10 (from ipywidgets<=7.8.5->insperautograder==0.2.2)\n",
      "  Obtaining dependency information for widgetsnbextension~=3.6.10 from https://files.pythonhosted.org/packages/93/1b/25d570ee8dce0f2ddadb967d6242cf6e10516db7897c7d9a6e3853b56bfc/widgetsnbextension-3.6.10-py2.py3-none-any.whl.metadata\n",
      "  Downloading widgetsnbextension-3.6.10-py2.py3-none-any.whl.metadata (1.3 kB)\n",
      "Collecting jupyterlab-widgets<3,>=1.0.0 (from ipywidgets<=7.8.5->insperautograder==0.2.2)\n",
      "  Obtaining dependency information for jupyterlab-widgets<3,>=1.0.0 from https://files.pythonhosted.org/packages/1f/73/4f281e0f86bf532baec742da40ededf8b22dc224523e38c638fb6ad91255/jupyterlab_widgets-1.1.11-py3-none-any.whl.metadata\n",
      "  Downloading jupyterlab_widgets-1.1.11-py3-none-any.whl.metadata (3.7 kB)\n",
      "Requirement already satisfied: backcall in c:\\users\\vinicius rodrigues\\anaconda3\\lib\\site-packages (from ipython->insperautograder==0.2.2) (0.2.0)\n",
      "Requirement already satisfied: decorator in c:\\users\\vinicius rodrigues\\anaconda3\\lib\\site-packages (from ipython->insperautograder==0.2.2) (5.1.1)\n",
      "Requirement already satisfied: jedi>=0.16 in c:\\users\\vinicius rodrigues\\anaconda3\\lib\\site-packages (from ipython->insperautograder==0.2.2) (0.18.1)\n",
      "Requirement already satisfied: matplotlib-inline in c:\\users\\vinicius rodrigues\\anaconda3\\lib\\site-packages (from ipython->insperautograder==0.2.2) (0.1.6)\n",
      "Requirement already satisfied: pickleshare in c:\\users\\vinicius rodrigues\\anaconda3\\lib\\site-packages (from ipython->insperautograder==0.2.2) (0.7.5)\n",
      "Requirement already satisfied: prompt-toolkit!=3.0.37,<3.1.0,>=3.0.30 in c:\\users\\vinicius rodrigues\\anaconda3\\lib\\site-packages (from ipython->insperautograder==0.2.2) (3.0.36)\n",
      "Requirement already satisfied: pygments>=2.4.0 in c:\\users\\vinicius rodrigues\\anaconda3\\lib\\site-packages (from ipython->insperautograder==0.2.2) (2.15.1)\n",
      "Requirement already satisfied: stack-data in c:\\users\\vinicius rodrigues\\anaconda3\\lib\\site-packages (from ipython->insperautograder==0.2.2) (0.2.0)\n",
      "Requirement already satisfied: colorama in c:\\users\\vinicius rodrigues\\anaconda3\\lib\\site-packages (from ipython->insperautograder==0.2.2) (0.4.6)\n",
      "Requirement already satisfied: charset-normalizer<4,>=2 in c:\\users\\vinicius rodrigues\\anaconda3\\lib\\site-packages (from requests->insperautograder==0.2.2) (2.0.4)\n",
      "Requirement already satisfied: idna<4,>=2.5 in c:\\users\\vinicius rodrigues\\anaconda3\\lib\\site-packages (from requests->insperautograder==0.2.2) (3.4)\n",
      "Requirement already satisfied: urllib3<3,>=1.21.1 in c:\\users\\vinicius rodrigues\\anaconda3\\lib\\site-packages (from requests->insperautograder==0.2.2) (1.26.16)\n",
      "Requirement already satisfied: certifi>=2017.4.17 in c:\\users\\vinicius rodrigues\\anaconda3\\lib\\site-packages (from requests->insperautograder==0.2.2) (2023.7.22)\n",
      "Requirement already satisfied: parso<0.9.0,>=0.8.0 in c:\\users\\vinicius rodrigues\\anaconda3\\lib\\site-packages (from jedi>=0.16->ipython->insperautograder==0.2.2) (0.8.3)\n",
      "Requirement already satisfied: wcwidth in c:\\users\\vinicius rodrigues\\anaconda3\\lib\\site-packages (from prompt-toolkit!=3.0.37,<3.1.0,>=3.0.30->ipython->insperautograder==0.2.2) (0.2.5)\n",
      "Requirement already satisfied: notebook>=4.4.1 in c:\\users\\vinicius rodrigues\\anaconda3\\lib\\site-packages (from widgetsnbextension~=3.6.10->ipywidgets<=7.8.5->insperautograder==0.2.2) (6.5.4)\n",
      "Requirement already satisfied: executing in c:\\users\\vinicius rodrigues\\anaconda3\\lib\\site-packages (from stack-data->ipython->insperautograder==0.2.2) (0.8.3)\n",
      "Requirement already satisfied: asttokens in c:\\users\\vinicius rodrigues\\anaconda3\\lib\\site-packages (from stack-data->ipython->insperautograder==0.2.2) (2.0.5)\n",
      "Requirement already satisfied: pure-eval in c:\\users\\vinicius rodrigues\\anaconda3\\lib\\site-packages (from stack-data->ipython->insperautograder==0.2.2) (0.2.2)\n",
      "Requirement already satisfied: jinja2 in c:\\users\\vinicius rodrigues\\anaconda3\\lib\\site-packages (from notebook>=4.4.1->widgetsnbextension~=3.6.10->ipywidgets<=7.8.5->insperautograder==0.2.2) (3.1.2)\n",
      "Requirement already satisfied: tornado>=6.1 in c:\\users\\vinicius rodrigues\\anaconda3\\lib\\site-packages (from notebook>=4.4.1->widgetsnbextension~=3.6.10->ipywidgets<=7.8.5->insperautograder==0.2.2) (6.3.2)\n",
      "Requirement already satisfied: pyzmq>=17 in c:\\users\\vinicius rodrigues\\anaconda3\\lib\\site-packages (from notebook>=4.4.1->widgetsnbextension~=3.6.10->ipywidgets<=7.8.5->insperautograder==0.2.2) (23.2.0)\n",
      "Requirement already satisfied: argon2-cffi in c:\\users\\vinicius rodrigues\\anaconda3\\lib\\site-packages (from notebook>=4.4.1->widgetsnbextension~=3.6.10->ipywidgets<=7.8.5->insperautograder==0.2.2) (21.3.0)\n",
      "Requirement already satisfied: jupyter-core>=4.6.1 in c:\\users\\vinicius rodrigues\\anaconda3\\lib\\site-packages (from notebook>=4.4.1->widgetsnbextension~=3.6.10->ipywidgets<=7.8.5->insperautograder==0.2.2) (5.3.0)\n",
      "Requirement already satisfied: jupyter-client>=5.3.4 in c:\\users\\vinicius rodrigues\\anaconda3\\lib\\site-packages (from notebook>=4.4.1->widgetsnbextension~=3.6.10->ipywidgets<=7.8.5->insperautograder==0.2.2) (7.4.9)\n",
      "Requirement already satisfied: nbformat in c:\\users\\vinicius rodrigues\\anaconda3\\lib\\site-packages (from notebook>=4.4.1->widgetsnbextension~=3.6.10->ipywidgets<=7.8.5->insperautograder==0.2.2) (5.9.2)\n",
      "Requirement already satisfied: nbconvert>=5 in c:\\users\\vinicius rodrigues\\anaconda3\\lib\\site-packages (from notebook>=4.4.1->widgetsnbextension~=3.6.10->ipywidgets<=7.8.5->insperautograder==0.2.2) (6.5.4)\n",
      "Requirement already satisfied: nest-asyncio>=1.5 in c:\\users\\vinicius rodrigues\\anaconda3\\lib\\site-packages (from notebook>=4.4.1->widgetsnbextension~=3.6.10->ipywidgets<=7.8.5->insperautograder==0.2.2) (1.5.6)\n",
      "Requirement already satisfied: ipykernel in c:\\users\\vinicius rodrigues\\anaconda3\\lib\\site-packages (from notebook>=4.4.1->widgetsnbextension~=3.6.10->ipywidgets<=7.8.5->insperautograder==0.2.2) (6.25.0)\n",
      "Requirement already satisfied: Send2Trash>=1.8.0 in c:\\users\\vinicius rodrigues\\anaconda3\\lib\\site-packages (from notebook>=4.4.1->widgetsnbextension~=3.6.10->ipywidgets<=7.8.5->insperautograder==0.2.2) (1.8.0)\n",
      "Requirement already satisfied: terminado>=0.8.3 in c:\\users\\vinicius rodrigues\\anaconda3\\lib\\site-packages (from notebook>=4.4.1->widgetsnbextension~=3.6.10->ipywidgets<=7.8.5->insperautograder==0.2.2) (0.17.1)\n",
      "Requirement already satisfied: prometheus-client in c:\\users\\vinicius rodrigues\\anaconda3\\lib\\site-packages (from notebook>=4.4.1->widgetsnbextension~=3.6.10->ipywidgets<=7.8.5->insperautograder==0.2.2) (0.14.1)\n",
      "Requirement already satisfied: nbclassic>=0.4.7 in c:\\users\\vinicius rodrigues\\anaconda3\\lib\\site-packages (from notebook>=4.4.1->widgetsnbextension~=3.6.10->ipywidgets<=7.8.5->insperautograder==0.2.2) (0.5.5)\n",
      "Requirement already satisfied: six in c:\\users\\vinicius rodrigues\\anaconda3\\lib\\site-packages (from asttokens->stack-data->ipython->insperautograder==0.2.2) (1.16.0)\n",
      "Requirement already satisfied: entrypoints in c:\\users\\vinicius rodrigues\\anaconda3\\lib\\site-packages (from jupyter-client>=5.3.4->notebook>=4.4.1->widgetsnbextension~=3.6.10->ipywidgets<=7.8.5->insperautograder==0.2.2) (0.4)\n",
      "Requirement already satisfied: python-dateutil>=2.8.2 in c:\\users\\vinicius rodrigues\\anaconda3\\lib\\site-packages (from jupyter-client>=5.3.4->notebook>=4.4.1->widgetsnbextension~=3.6.10->ipywidgets<=7.8.5->insperautograder==0.2.2) (2.8.2)\n",
      "Requirement already satisfied: platformdirs>=2.5 in c:\\users\\vinicius rodrigues\\anaconda3\\lib\\site-packages (from jupyter-core>=4.6.1->notebook>=4.4.1->widgetsnbextension~=3.6.10->ipywidgets<=7.8.5->insperautograder==0.2.2) (3.10.0)\n",
      "Requirement already satisfied: pywin32>=300 in c:\\users\\vinicius rodrigues\\anaconda3\\lib\\site-packages (from jupyter-core>=4.6.1->notebook>=4.4.1->widgetsnbextension~=3.6.10->ipywidgets<=7.8.5->insperautograder==0.2.2) (305.1)\n",
      "Requirement already satisfied: jupyter-server>=1.8 in c:\\users\\vinicius rodrigues\\anaconda3\\lib\\site-packages (from nbclassic>=0.4.7->notebook>=4.4.1->widgetsnbextension~=3.6.10->ipywidgets<=7.8.5->insperautograder==0.2.2) (1.23.4)\n",
      "Requirement already satisfied: notebook-shim>=0.1.0 in c:\\users\\vinicius rodrigues\\anaconda3\\lib\\site-packages (from nbclassic>=0.4.7->notebook>=4.4.1->widgetsnbextension~=3.6.10->ipywidgets<=7.8.5->insperautograder==0.2.2) (0.2.2)\n",
      "Requirement already satisfied: lxml in c:\\users\\vinicius rodrigues\\anaconda3\\lib\\site-packages (from nbconvert>=5->notebook>=4.4.1->widgetsnbextension~=3.6.10->ipywidgets<=7.8.5->insperautograder==0.2.2) (4.9.3)\n",
      "Requirement already satisfied: beautifulsoup4 in c:\\users\\vinicius rodrigues\\anaconda3\\lib\\site-packages (from nbconvert>=5->notebook>=4.4.1->widgetsnbextension~=3.6.10->ipywidgets<=7.8.5->insperautograder==0.2.2) (4.12.2)\n",
      "Requirement already satisfied: bleach in c:\\users\\vinicius rodrigues\\anaconda3\\lib\\site-packages (from nbconvert>=5->notebook>=4.4.1->widgetsnbextension~=3.6.10->ipywidgets<=7.8.5->insperautograder==0.2.2) (4.1.0)\n",
      "Requirement already satisfied: defusedxml in c:\\users\\vinicius rodrigues\\anaconda3\\lib\\site-packages (from nbconvert>=5->notebook>=4.4.1->widgetsnbextension~=3.6.10->ipywidgets<=7.8.5->insperautograder==0.2.2) (0.7.1)\n",
      "Requirement already satisfied: jupyterlab-pygments in c:\\users\\vinicius rodrigues\\anaconda3\\lib\\site-packages (from nbconvert>=5->notebook>=4.4.1->widgetsnbextension~=3.6.10->ipywidgets<=7.8.5->insperautograder==0.2.2) (0.1.2)\n",
      "Requirement already satisfied: MarkupSafe>=2.0 in c:\\users\\vinicius rodrigues\\anaconda3\\lib\\site-packages (from nbconvert>=5->notebook>=4.4.1->widgetsnbextension~=3.6.10->ipywidgets<=7.8.5->insperautograder==0.2.2) (2.1.1)\n",
      "Requirement already satisfied: mistune<2,>=0.8.1 in c:\\users\\vinicius rodrigues\\anaconda3\\lib\\site-packages (from nbconvert>=5->notebook>=4.4.1->widgetsnbextension~=3.6.10->ipywidgets<=7.8.5->insperautograder==0.2.2) (0.8.4)\n",
      "Requirement already satisfied: nbclient>=0.5.0 in c:\\users\\vinicius rodrigues\\anaconda3\\lib\\site-packages (from nbconvert>=5->notebook>=4.4.1->widgetsnbextension~=3.6.10->ipywidgets<=7.8.5->insperautograder==0.2.2) (0.5.13)\n",
      "Requirement already satisfied: packaging in c:\\users\\vinicius rodrigues\\anaconda3\\lib\\site-packages (from nbconvert>=5->notebook>=4.4.1->widgetsnbextension~=3.6.10->ipywidgets<=7.8.5->insperautograder==0.2.2) (24.2)\n",
      "Requirement already satisfied: pandocfilters>=1.4.1 in c:\\users\\vinicius rodrigues\\anaconda3\\lib\\site-packages (from nbconvert>=5->notebook>=4.4.1->widgetsnbextension~=3.6.10->ipywidgets<=7.8.5->insperautograder==0.2.2) (1.5.0)\n",
      "Requirement already satisfied: tinycss2 in c:\\users\\vinicius rodrigues\\anaconda3\\lib\\site-packages (from nbconvert>=5->notebook>=4.4.1->widgetsnbextension~=3.6.10->ipywidgets<=7.8.5->insperautograder==0.2.2) (1.2.1)\n",
      "Requirement already satisfied: fastjsonschema in c:\\users\\vinicius rodrigues\\anaconda3\\lib\\site-packages (from nbformat->notebook>=4.4.1->widgetsnbextension~=3.6.10->ipywidgets<=7.8.5->insperautograder==0.2.2) (2.16.2)\n",
      "Requirement already satisfied: jsonschema>=2.6 in c:\\users\\vinicius rodrigues\\anaconda3\\lib\\site-packages (from nbformat->notebook>=4.4.1->widgetsnbextension~=3.6.10->ipywidgets<=7.8.5->insperautograder==0.2.2) (4.17.3)\n",
      "Requirement already satisfied: pywinpty>=1.1.0 in c:\\users\\vinicius rodrigues\\anaconda3\\lib\\site-packages (from terminado>=0.8.3->notebook>=4.4.1->widgetsnbextension~=3.6.10->ipywidgets<=7.8.5->insperautograder==0.2.2) (2.0.10)\n",
      "Requirement already satisfied: argon2-cffi-bindings in c:\\users\\vinicius rodrigues\\anaconda3\\lib\\site-packages (from argon2-cffi->notebook>=4.4.1->widgetsnbextension~=3.6.10->ipywidgets<=7.8.5->insperautograder==0.2.2) (21.2.0)\n",
      "Requirement already satisfied: debugpy>=1.6.5 in c:\\users\\vinicius rodrigues\\anaconda3\\lib\\site-packages (from ipykernel->notebook>=4.4.1->widgetsnbextension~=3.6.10->ipywidgets<=7.8.5->insperautograder==0.2.2) (1.6.7)\n",
      "Requirement already satisfied: psutil in c:\\users\\vinicius rodrigues\\anaconda3\\lib\\site-packages (from ipykernel->notebook>=4.4.1->widgetsnbextension~=3.6.10->ipywidgets<=7.8.5->insperautograder==0.2.2) (5.9.0)\n",
      "Requirement already satisfied: attrs>=17.4.0 in c:\\users\\vinicius rodrigues\\anaconda3\\lib\\site-packages (from jsonschema>=2.6->nbformat->notebook>=4.4.1->widgetsnbextension~=3.6.10->ipywidgets<=7.8.5->insperautograder==0.2.2) (22.1.0)\n",
      "Requirement already satisfied: pyrsistent!=0.17.0,!=0.17.1,!=0.17.2,>=0.14.0 in c:\\users\\vinicius rodrigues\\anaconda3\\lib\\site-packages (from jsonschema>=2.6->nbformat->notebook>=4.4.1->widgetsnbextension~=3.6.10->ipywidgets<=7.8.5->insperautograder==0.2.2) (0.18.0)\n",
      "Requirement already satisfied: anyio<4,>=3.1.0 in c:\\users\\vinicius rodrigues\\anaconda3\\lib\\site-packages (from jupyter-server>=1.8->nbclassic>=0.4.7->notebook>=4.4.1->widgetsnbextension~=3.6.10->ipywidgets<=7.8.5->insperautograder==0.2.2) (3.5.0)\n",
      "Requirement already satisfied: websocket-client in c:\\users\\vinicius rodrigues\\anaconda3\\lib\\site-packages (from jupyter-server>=1.8->nbclassic>=0.4.7->notebook>=4.4.1->widgetsnbextension~=3.6.10->ipywidgets<=7.8.5->insperautograder==0.2.2) (0.58.0)\n",
      "Requirement already satisfied: cffi>=1.0.1 in c:\\users\\vinicius rodrigues\\anaconda3\\lib\\site-packages (from argon2-cffi-bindings->argon2-cffi->notebook>=4.4.1->widgetsnbextension~=3.6.10->ipywidgets<=7.8.5->insperautograder==0.2.2) (1.15.1)\n",
      "Requirement already satisfied: soupsieve>1.2 in c:\\users\\vinicius rodrigues\\anaconda3\\lib\\site-packages (from beautifulsoup4->nbconvert>=5->notebook>=4.4.1->widgetsnbextension~=3.6.10->ipywidgets<=7.8.5->insperautograder==0.2.2) (2.4)\n",
      "Requirement already satisfied: webencodings in c:\\users\\vinicius rodrigues\\anaconda3\\lib\\site-packages (from bleach->nbconvert>=5->notebook>=4.4.1->widgetsnbextension~=3.6.10->ipywidgets<=7.8.5->insperautograder==0.2.2) (0.5.1)\n",
      "Requirement already satisfied: sniffio>=1.1 in c:\\users\\vinicius rodrigues\\anaconda3\\lib\\site-packages (from anyio<4,>=3.1.0->jupyter-server>=1.8->nbclassic>=0.4.7->notebook>=4.4.1->widgetsnbextension~=3.6.10->ipywidgets<=7.8.5->insperautograder==0.2.2) (1.2.0)\n",
      "Requirement already satisfied: pycparser in c:\\users\\vinicius rodrigues\\anaconda3\\lib\\site-packages (from cffi>=1.0.1->argon2-cffi-bindings->argon2-cffi->notebook>=4.4.1->widgetsnbextension~=3.6.10->ipywidgets<=7.8.5->insperautograder==0.2.2) (2.21)\n",
      "Downloading ipywidgets-7.8.5-py2.py3-none-any.whl (124 kB)\n",
      "   ---------------------------------------- 0.0/124.1 kB ? eta -:--:--\n",
      "   ------ -------------------------------- 20.5/124.1 kB 640.0 kB/s eta 0:00:01\n",
      "   ------ -------------------------------- 20.5/124.1 kB 640.0 kB/s eta 0:00:01\n",
      "   -------------------------------------  122.9/124.1 kB 901.1 kB/s eta 0:00:01\n",
      "   -------------------------------------- 124.1/124.1 kB 807.4 kB/s eta 0:00:00\n",
      "Using cached comm-0.2.2-py3-none-any.whl (7.2 kB)\n",
      "Downloading jupyterlab_widgets-1.1.11-py3-none-any.whl (246 kB)\n",
      "   ---------------------------------------- 0.0/246.9 kB ? eta -:--:--\n",
      "   ---------------------------------------- 246.9/246.9 kB 7.6 MB/s eta 0:00:00\n",
      "Downloading widgetsnbextension-3.6.10-py2.py3-none-any.whl (1.6 MB)\n",
      "   ---------------------------------------- 0.0/1.6 MB ? eta -:--:--\n",
      "   ---------- ----------------------------- 0.4/1.6 MB 13.2 MB/s eta 0:00:01\n",
      "   -------------------------- ------------- 1.0/1.6 MB 10.8 MB/s eta 0:00:01\n",
      "   ---------------------------------------  1.6/1.6 MB 11.0 MB/s eta 0:00:01\n",
      "   ---------------------------------------- 1.6/1.6 MB 9.9 MB/s eta 0:00:00\n",
      "Building wheels for collected packages: insperautograder\n",
      "  Building wheel for insperautograder (setup.py): started\n",
      "  Building wheel for insperautograder (setup.py): finished with status 'done'\n",
      "  Created wheel for insperautograder: filename=insperautograder-0.2.2-py3-none-any.whl size=4503 sha256=fb73e65198b6b9a7a6ba5eaa415a0e84e00749a278d5cfd7c94ca1093c3cdd8b\n",
      "  Stored in directory: C:\\Users\\Vinicius Rodrigues\\AppData\\Local\\Temp\\pip-ephem-wheel-cache-hfp_iw7z\\wheels\\bb\\01\\cc\\7f397587bfedd6c633e2627496c45d5693aa959ee8237ead1f\n",
      "Successfully built insperautograder\n",
      "Installing collected packages: jupyterlab-widgets, comm, widgetsnbextension, ipywidgets, insperautograder\n",
      "  Attempting uninstall: jupyterlab-widgets\n",
      "    Found existing installation: jupyterlab-widgets 3.0.5\n",
      "    Uninstalling jupyterlab-widgets-3.0.5:\n",
      "      Successfully uninstalled jupyterlab-widgets-3.0.5\n",
      "  Attempting uninstall: comm\n",
      "    Found existing installation: comm 0.1.2\n",
      "    Uninstalling comm-0.1.2:\n",
      "      Successfully uninstalled comm-0.1.2\n",
      "  Attempting uninstall: widgetsnbextension\n",
      "    Found existing installation: widgetsnbextension 4.0.5\n",
      "    Uninstalling widgetsnbextension-4.0.5:\n",
      "      Successfully uninstalled widgetsnbextension-4.0.5\n",
      "  Attempting uninstall: ipywidgets\n",
      "    Found existing installation: ipywidgets 8.0.4\n",
      "    Uninstalling ipywidgets-8.0.4:\n",
      "      Successfully uninstalled ipywidgets-8.0.4\n",
      "Successfully installed comm-0.2.2 insperautograder-0.2.2 ipywidgets-7.8.5 jupyterlab-widgets-1.1.11 widgetsnbextension-3.6.10\n",
      "Note: you may need to restart the kernel to use updated packages.\n"
     ]
    },
    {
     "name": "stderr",
     "output_type": "stream",
     "text": [
      "  Running command git clone --filter=blob:none --quiet https://github.com/macielcalebe/insperautograding.git 'C:\\Users\\Vinicius Rodrigues\\AppData\\Local\\Temp\\pip-req-build-mcm78ih5'\n"
     ]
    }
   ],
   "source": [
    "!pip install -U git+https://github.com/macielcalebe/insperautograding.git"
   ]
  },
  {
   "cell_type": "markdown",
   "id": "2ae5f5f3",
   "metadata": {},
   "source": [
    "## Criar o `.env`\n",
    "\n",
    "Os arquivos `.env` são arquivos de configuração usados no desenvolvimento de software para armazenar variáveis de ambiente. **Variáveis de ambiente** são valores definidos **fora do código-fonte** e usados para configurar diferentes aspectos de um aplicativo, como strings de conexão de banco de dados, chaves de API e outras **informações confidenciais**.\n",
    "\n",
    "Arquivos `.env` **jamais** (EU DISSE JAMAAAAIS) devem ser enviados para o github, isto pode representar sérios riscos pois pode prover acesso indevidos, como:\n",
    "- O hacker acessa e apaga toda sua base de dados\n",
    "- O hacker usa sua chave de API da AWS para minerar criptomoedas ou enviar spam (pode gastar milhares de dólares em minutos ou horas)\n",
    "\n",
    "Vamos instalar a biblioteca"
   ]
  },
  {
   "cell_type": "code",
   "execution_count": 4,
   "id": "1e82ba3a",
   "metadata": {},
   "outputs": [
    {
     "name": "stdout",
     "output_type": "stream",
     "text": [
      "Requirement already satisfied: python-dotenv in c:\\users\\vinicius rodrigues\\appdata\\local\\packages\\pythonsoftwarefoundation.python.3.10_qbz5n2kfra8p0\\localcache\\local-packages\\python310\\site-packages (0.21.1)\n"
     ]
    }
   ],
   "source": [
    "!pip install python-dotenv"
   ]
  },
  {
   "cell_type": "markdown",
   "id": "19d99af9",
   "metadata": {},
   "source": [
    "e escrever um `.env` na pasta pai (supondo que você tem uma pasta para a disciplina e nela cria uma pasta por aula).\n",
    "\n",
    "<img src=\"https://megadados-insper.s3.us-east-2.amazonaws.com/img/env_local.png\">\n",
    "\n",
    "O comando abaixo já deve escrever no local adequado. Você também pode utilizar um editor de textos para criar o `.env`."
   ]
  },
  {
   "cell_type": "code",
   "execution_count": 3,
   "id": "06ddf3ec",
   "metadata": {},
   "outputs": [
    {
     "name": "stdout",
     "output_type": "stream",
     "text": [
      "Writing ../.env\n"
     ]
    }
   ],
   "source": [
    "%%writefile ../.env\n",
    "IAG_SERVER_URL=\"https://bigdata.insper-comp.com.br/iag\"\n",
    "IAG_SUBJECT=\"megadados\"\n",
    "IAG_OFFERING=\"25-1-eng\"\n",
    "IAG_TOKEN=\"iagtok_xxxxxxxxxxxxxxxxxxxxxxxxxxxxxxxxxxxxxxx\""
   ]
  },
  {
   "cell_type": "markdown",
   "id": "fde705c2",
   "metadata": {},
   "source": [
    "Confira pelo navegador de arquivos se o `.env` foi gerado corretamente!\n",
    "\n",
    "Como uma segunda confirmação, vamos tentar ler o endereço do servidor:"
   ]
  },
  {
   "cell_type": "code",
   "execution_count": 7,
   "id": "f0fab0af",
   "metadata": {},
   "outputs": [
    {
     "name": "stdout",
     "output_type": "stream",
     "text": [
      "https://bigdata.insper-comp.com.br/iag\n"
     ]
    }
   ],
   "source": [
    "import os\n",
    "from dotenv import load_dotenv\n",
    "\n",
    "load_dotenv(override=True)\n",
    "\n",
    "# Se aparecer o mesmo conteúdo definido na variável no .env, então é sucesso!\n",
    "print(os.getenv(\"IAG_SERVER_URL\"))"
   ]
  },
  {
   "cell_type": "markdown",
   "id": "86fb92f7",
   "metadata": {},
   "source": [
    "## Gerar um token\n",
    "\n",
    "Vamos fazer uma requisição para gerar um token que será utilizado para identificar você nos envios da disciplina.\n",
    "\n",
    "Caso algum import falhe, faça `pip install`"
   ]
  },
  {
   "cell_type": "code",
   "execution_count": 8,
   "id": "6b279e82",
   "metadata": {},
   "outputs": [],
   "source": [
    "import insperautograder.token as iat\n",
    "import insperautograder.jupyter as iaj"
   ]
  },
  {
   "cell_type": "code",
   "execution_count": 9,
   "id": "05bbb306",
   "metadata": {},
   "outputs": [
    {
     "data": {
      "text/markdown": [
       "\"Sending token in background! Check your Insper E-mail!\""
      ],
      "text/plain": [
       "<IPython.core.display.Markdown object>"
      ]
     },
     "metadata": {},
     "output_type": "display_data"
    }
   ],
   "source": [
    "# Descomente as linhas abaixo!\n",
    "username = \"viniciusrf2\" # Informe aqui seu usuário Insper ex: mariana5 (sem @al....)\n",
    "iat.get_new_token(username=username)"
   ]
  },
  {
   "cell_type": "markdown",
   "id": "843b7c66",
   "metadata": {},
   "source": [
    "Confira seu email. Copie o token e cole no arquivo `.env` gerado no passo anterior. Como o token é a única informação sensível no `.env`, ao invés de atualizar pelo jupyter notebook, abra em algum editor de textos.\n",
    "\n",
    "Após a edição, execute a próxima célula para atualizar as variáveis de ambiente:"
   ]
  },
  {
   "cell_type": "code",
   "execution_count": 10,
   "id": "fc14c654",
   "metadata": {},
   "outputs": [
    {
     "data": {
      "text/plain": [
       "True"
      ]
     },
     "execution_count": 10,
     "metadata": {},
     "output_type": "execute_result"
    }
   ],
   "source": [
    "load_dotenv(override=True)"
   ]
  },
  {
   "cell_type": "markdown",
   "id": "2bc4a562",
   "metadata": {},
   "source": [
    "## Testando a API!\n",
    "\n",
    "Vamos conferir se temos atividades disponíveis! Preste atenção nas chamadas, elas serão úteis nas próximas aulas!"
   ]
  },
  {
   "cell_type": "code",
   "execution_count": 11,
   "id": "193cddad-0eec-4be5-923a-65a380bed853",
   "metadata": {},
   "outputs": [
    {
     "data": {
      "text/markdown": [
       "|    | Atividade   | De                  | Até                 |\n",
       "|---:|:------------|:--------------------|:--------------------|\n",
       "|  0 | newborn     | 2025-02-01 00:00:00 | 2025-05-30 00:00:00 |\n",
       "|  1 | select01    | 2025-02-05 00:00:00 | 2025-02-10 23:59:59 |"
      ],
      "text/plain": [
       "<IPython.core.display.Markdown object>"
      ]
     },
     "metadata": {},
     "output_type": "display_data"
    }
   ],
   "source": [
    "iaj.tasks()"
   ]
  },
  {
   "cell_type": "markdown",
   "id": "b0a4d890-374a-4ef9-8b7b-be9c9d800fbf",
   "metadata": {},
   "source": [
    "Vamos resolver o exercício da atividade!\n",
    "\n",
    "**Exercício exemplo**: Qual o nome desta disciplina?! Responda como string na variável `resp` (próxima célula).\n",
    "\n",
    "Considere que a seguinte resposta está correta, vamos fazer seu envio!"
   ]
  },
  {
   "cell_type": "code",
   "execution_count": 17,
   "id": "00349bb1",
   "metadata": {},
   "outputs": [],
   "source": [
    "resp = \"\"\"\n",
    "    MEGADADOS\n",
    "\"\"\""
   ]
  },
  {
   "cell_type": "markdown",
   "id": "c62541f0",
   "metadata": {},
   "source": [
    "Para enviar, clique no botão:"
   ]
  },
  {
   "cell_type": "code",
   "execution_count": 18,
   "id": "74b1b637",
   "metadata": {},
   "outputs": [
    {
     "data": {
      "application/vnd.jupyter.widget-view+json": {
       "model_id": "8ee8e18883b748218770bc3fcba83aec",
       "version_major": 2,
       "version_minor": 0
      },
      "text/plain": [
       "interactive(children=(Button(description='Enviar ex01', style=ButtonStyle()), Output()), _dom_classes=('widget…"
      ]
     },
     "metadata": {},
     "output_type": "display_data"
    }
   ],
   "source": [
    "iaj.sender(answer=\"resp\", task=\"newborn\", question=\"ex01\", answer_type=\"pyvar\")"
   ]
  },
  {
   "cell_type": "markdown",
   "id": "c4e9ea47",
   "metadata": {},
   "source": [
    "A resposta pode possuir erros, que serão indicados pela API. Faça a correção, e, após sua última modificação, faça o envio clicando novamente no botão de envio! Ele automaticamente irá ler a variável `resp` (pega o valor atual dela, definido na última vez que você rodou a célula) e enviar para o servidor de testes!"
   ]
  },
  {
   "cell_type": "markdown",
   "id": "29321d76",
   "metadata": {},
   "source": [
    "## Atividades e Notas\n",
    "\n",
    "Podemos utilizar as chamadas para recuperar as atividades disponíveis, prazos e notas obtidas:"
   ]
  },
  {
   "cell_type": "code",
   "execution_count": 19,
   "id": "f421d0b2",
   "metadata": {},
   "outputs": [
    {
     "data": {
      "text/markdown": [
       "|    | Atividade   | De                  | Até                 |\n",
       "|---:|:------------|:--------------------|:--------------------|\n",
       "|  0 | newborn     | 2025-02-01 00:00:00 | 2025-05-30 00:00:00 |\n",
       "|  1 | select01    | 2025-02-05 00:00:00 | 2025-02-10 23:59:59 |"
      ],
      "text/plain": [
       "<IPython.core.display.Markdown object>"
      ]
     },
     "metadata": {},
     "output_type": "display_data"
    }
   ],
   "source": [
    "iaj.tasks()"
   ]
  },
  {
   "cell_type": "code",
   "execution_count": 20,
   "id": "31a41719-9f4a-4ea3-bbf1-d2b146c36fe2",
   "metadata": {},
   "outputs": [
    {
     "data": {
      "text/markdown": [
       "|    | Atividade   | Exercício   |   Peso |   Nota |\n",
       "|---:|:------------|:------------|-------:|-------:|\n",
       "|  0 | newborn     | ex01        |      1 |     10 |"
      ],
      "text/plain": [
       "<IPython.core.display.Markdown object>"
      ]
     },
     "metadata": {},
     "output_type": "display_data"
    }
   ],
   "source": [
    "iaj.grades(task=\"newborn\")"
   ]
  },
  {
   "cell_type": "code",
   "execution_count": 21,
   "id": "3367239a",
   "metadata": {},
   "outputs": [
    {
     "data": {
      "text/markdown": [
       "|    | Tarefa   |   Nota |\n",
       "|---:|:---------|-------:|\n",
       "|  0 | newborn  |     10 |"
      ],
      "text/plain": [
       "<IPython.core.display.Markdown object>"
      ]
     },
     "metadata": {},
     "output_type": "display_data"
    }
   ],
   "source": [
    "iaj.grades(by=\"TASK\", task=\"newborn\")"
   ]
  }
 ],
 "metadata": {
  "kernelspec": {
   "display_name": "Python 3 (ipykernel)",
   "language": "python",
   "name": "python3"
  },
  "language_info": {
   "codemirror_mode": {
    "name": "ipython",
    "version": 3
   },
   "file_extension": ".py",
   "mimetype": "text/x-python",
   "name": "python",
   "nbconvert_exporter": "python",
   "pygments_lexer": "ipython3",
   "version": "3.11.5"
  }
 },
 "nbformat": 4,
 "nbformat_minor": 5
}
