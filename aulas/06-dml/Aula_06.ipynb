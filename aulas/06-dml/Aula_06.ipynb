{
 "cells": [
  {
   "cell_type": "markdown",
   "metadata": {
    "tags": []
   },
   "source": [
    "# Experimentando com bancos de dados em Python"
   ]
  },
  {
   "cell_type": "markdown",
   "metadata": {},
   "source": [
    "## Conectando com a base de dados"
   ]
  },
  {
   "cell_type": "markdown",
   "metadata": {},
   "source": [
    "Existem sistemas de gerenciamento de bancos de dados que operam no mesmo processo da aplicação cliente - ou seja, são bibliotecas que você pode importar diretamente no seu programa. Por exemplo: a biblioteca ``sqlite3`` (https://docs.python.org/3/library/sqlite3.html) é parte do conjunto de bibliotecas padrão da linguagem Python, e permite criar bases de dados diretamente em arquivo ou memória, sem a necessidade de um programa em separado. Eis um exemplo de uso de sqlite3:"
   ]
  },
  {
   "cell_type": "code",
   "execution_count": 1,
   "metadata": {},
   "outputs": [],
   "source": [
    "import sqlite3\n",
    "\n",
    "db = sqlite3.connect(\"teste.db\")\n",
    "# Para criar a base em memória (base temporária) use o nome de arquivo\n",
    "# \":memory:\""
   ]
  },
  {
   "cell_type": "markdown",
   "metadata": {},
   "source": [
    "Note que o arquivo ``teste.db`` foi criado. "
   ]
  },
  {
   "cell_type": "code",
   "execution_count": 2,
   "metadata": {},
   "outputs": [
    {
     "name": "stdout",
     "output_type": "stream",
     "text": [
      "True\n"
     ]
    }
   ],
   "source": [
    "import os\n",
    "\n",
    "print(\"teste.db\" in os.listdir())"
   ]
  },
  {
   "cell_type": "markdown",
   "metadata": {},
   "source": [
    "Apesar do ``sqlite3`` criar o sistema de gerenciamento de banco de dados (SGBD) SQLite diretamente no nosso processo (neste caso, o kernel Python que está sendo executado por esse notebook), o objeto de acesso ainda é uma \"conexão\". Isso se deve ao fato de que SGBDs \"normais\" - aqueles que realmente usamos em produção - são geralmente *sistemas cliente-servidor*, onde o SGBD é um processo separado da aplicação cliente e a comunicação entre eles acontece através de uma conexão de rede.\n",
    "\n",
    "<center><img src='imgs/client-server.png'></center>\n",
    "\n",
    "**Atividade:**\n",
    "\n",
    "Na figura acima, quem é o cliente do sistema de gerenciamento de banco de dados?"
   ]
  },
  {
   "cell_type": "markdown",
   "metadata": {},
   "source": [
    "<div class=\"alert alert-success\">\n",
    "\n",
    "Sua resposta aqui! Dê dois cliques e edite.\n",
    "    \n",
    "    Escreva AQUI!\n",
    "\n",
    "</div>"
   ]
  },
  {
   "cell_type": "markdown",
   "metadata": {},
   "source": [
    "Uma conexão é simplesmente o conduíte entre o cliente e o SGBD. Em Python, a especificação PEP 249 (https://www.python.org/dev/peps/pep-0249/) define que uma conexão deve ter os métodos ``.close()`` (para fechar a conexão), ``.cursor()`` (para obter um *cursor*, que é o objeto para realmente interagir com o banco de dados), e o par ``.commit()``/``.rollback()`` (para gerenciamento de transações).\n",
    "\n",
    "Vamos fechar essa conexão e trabalhar com o MySQL daqui em diante."
   ]
  },
  {
   "cell_type": "code",
   "execution_count": 3,
   "metadata": {},
   "outputs": [],
   "source": [
    "db.close()"
   ]
  },
  {
   "cell_type": "code",
   "execution_count": 4,
   "metadata": {},
   "outputs": [],
   "source": [
    "os.remove(\"teste.db\")"
   ]
  },
  {
   "cell_type": "markdown",
   "metadata": {},
   "source": [
    "Antes de tudo vamos criar um banco de dados. Queremos criar um banco de dados para gerenciar as equipes do primeiro campeonato Insper de ninja-cowboy-urso!\n",
    "\n",
    "- Ninja, com sua velocidade e furtividade, detona o cowboy.\n",
    "- O cowboy atira no urso.\n",
    "- O urso dá uma patada no ninja e acaba com ele.\n",
    "\n",
    "Cada jogador tem um nome, uma equipe, e sua jogada favorita. As equipes tem um nome e um grito de guerra.\n",
    "\n",
    "Portanto, nosso schema será:\n",
    "\n",
    "```\n",
    "jogador (id PK, nome_equipe, nome, preferencia)\n",
    "equipe (nome PK, grito)\n",
    "```\n",
    "\n",
    "com a restrição:\n",
    "\n",
    "```\n",
    "jogador(nome_equipe) FK para equipe(nome)\n",
    "```\n",
    "\n",
    "E um dicionário de dados simples para este problema é:\n",
    "\n",
    "<center><b>jogador</b></center>\n",
    "<table>\n",
    "    <tr>\n",
    "        <th>Campo</th>\n",
    "        <th>Tipo</th>\n",
    "        <th>Significado</th>\n",
    "        <th>Chave?</th>\n",
    "        <th>Valores</th>\n",
    "    </tr>\n",
    "    <tr>\n",
    "        <td>id</td>\n",
    "        <td>int</td>\n",
    "        <td>Identificador unico do jogador</td>\n",
    "        <td>PK</td>\n",
    "        <td>sem restrições</td>\n",
    "    </tr>\n",
    "    <tr>\n",
    "        <td>nome_equipe</td>\n",
    "        <td>string</td>\n",
    "        <td>Nome da equipe na qual o jogador atua</td>\n",
    "        <td>FK equipe(nome)</td>\n",
    "        <td></td>\n",
    "    </tr>\n",
    "    <tr>\n",
    "        <td>nome</td>\n",
    "        <td>string</td>\n",
    "        <td>Nome do jogador</td>\n",
    "        <td></td>\n",
    "        <td>Pode haver dois jogadores com mesmo nome. Máximo 80 caracteres.</td>\n",
    "    </tr>\n",
    "    <tr>\n",
    "        <td>preferencia</td>\n",
    "        <td>int</td>\n",
    "        <td>Jogada preferida do jogador</td>\n",
    "        <td></td>\n",
    "        <td>0: Ninja, 1: Cowboy, 2: Urso</td>\n",
    "    </tr>\n",
    "</table>\n",
    "\n",
    "<center><b>equipe</b></center>\n",
    "<table>\n",
    "    <tr>\n",
    "        <th>Campo</th>\n",
    "        <th>Tipo</th>\n",
    "        <th>Significado</th>\n",
    "        <th>Chave?</th>\n",
    "        <th>Valores</th>\n",
    "    </tr>\n",
    "    <tr>\n",
    "        <td>nome</td>\n",
    "        <td>string</td>\n",
    "        <td>Nome da equipe</td>\n",
    "        <td>PK</td>\n",
    "        <td>Máximo 30 caracteres</td>\n",
    "    </tr>\n",
    "    <tr>\n",
    "        <td>grito</td>\n",
    "        <td>string</td>\n",
    "        <td>Grito de guerra da equipe</td>\n",
    "        <td></td>\n",
    "        <td>Maximo 80 caracteres</td>\n",
    "    </tr>\n",
    "</table>\n",
    "\n",
    "**Atividade:** Escreva e rode o script de criação do banco de dados. Chame o banco de dados de ``torneio``. Compare com o gabarito em ``script_001.sql``."
   ]
  },
  {
   "cell_type": "code",
   "execution_count": 5,
   "metadata": {},
   "outputs": [
    {
     "name": "stdout",
     "output_type": "stream",
     "text": [
      "Requirement already satisfied: mysql-connector-python in c:\\users\\vinicius rodrigues\\appdata\\local\\packages\\pythonsoftwarefoundation.python.3.10_qbz5n2kfra8p0\\localcache\\local-packages\\python310\\site-packages (9.2.0)\n"
     ]
    },
    {
     "name": "stderr",
     "output_type": "stream",
     "text": [
      "\n",
      "[notice] A new release of pip is available: 25.0 -> 25.0.1\n",
      "[notice] To update, run: C:\\Users\\Vinicius Rodrigues\\AppData\\Local\\Microsoft\\WindowsApps\\PythonSoftwareFoundation.Python.3.10_qbz5n2kfra8p0\\python.exe -m pip install --upgrade pip\n"
     ]
    }
   ],
   "source": [
    "!pip install mysql-connector-python"
   ]
  },
  {
   "cell_type": "markdown",
   "metadata": {},
   "source": [
    "Para conectar com o MySQL precisamos da biblioteca *mysql-connector-python*. \n",
    "Para instalar esta biblioteca:\n",
    "\n",
    "**`pip install mysql-connector-python`**"
   ]
  },
  {
   "cell_type": "code",
   "execution_count": 6,
   "metadata": {},
   "outputs": [],
   "source": [
    "from dotenv import load_dotenv\n",
    "import insperautograder.jupyter as ia\n",
    "import mysql.connector\n",
    "import os"
   ]
  },
  {
   "cell_type": "code",
   "execution_count": 7,
   "metadata": {},
   "outputs": [
    {
     "data": {
      "text/plain": [
       "True"
      ]
     },
     "execution_count": 7,
     "metadata": {},
     "output_type": "execute_result"
    }
   ],
   "source": [
    "load_dotenv(override=True)"
   ]
  },
  {
   "cell_type": "markdown",
   "metadata": {},
   "source": [
    "Vamos agora abrir uma conexão com o MySQL. Como agora temos realmente um sistema cliente-servidor, precisamos definir onde está o servidor, e precisamos também de informações de autenticação."
   ]
  },
  {
   "cell_type": "code",
   "execution_count": 8,
   "metadata": {},
   "outputs": [],
   "source": [
    "connection_options = {\n",
    "    \"host\": \"localhost\",\n",
    "    \"user\": \"root\",\n",
    "    \"password\": \"123456\",\n",
    "    \"database\": \"torneio\"\n",
    "}"
   ]
  },
  {
   "cell_type": "markdown",
   "metadata": {},
   "source": [
    "**Pergunta**: Faz sentido guardar o *user* e *password* dentro do próprio código fonte? Qual o jeito correto de lidar com username e password no seu produto?"
   ]
  },
  {
   "cell_type": "markdown",
   "metadata": {},
   "source": [
    "<div class=\"alert alert-success\">\n",
    "\n",
    "Sua resposta aqui! Dê dois cliques e edite.\n",
    "    \n",
    "    Escreva AQUI!\n",
    "\n",
    "</div>"
   ]
  },
  {
   "cell_type": "markdown",
   "metadata": {},
   "source": [
    "**Resposta**: \n",
    "\n",
    "Não se deve guardar *user* e *password* dentro do código fonte, pois trata-se de:\n",
    "- Informação sensível e que não deve ser acessada pelos programadores.\n",
    "- Informação que muda com frequência - ou pelo menos deveria mudar!\n",
    "- Dado puro, que deve ser separado do código.\n",
    "\n",
    "Algumas alternativas populares para resolver esse problema são:\n",
    "- Use um arquivo de configuração na conta que será usada para rodar a aplicação. Este arquivo deve ter todas as permissões de acesso negadas, exceto permissão de leitura para o próprio usuário da conta de execução da aplicação. O arquivo deverá ser lido então pela aplicação no momento da inicialização.\n",
    "- Use uma variável de ambiente com essas credenciais. É a mesma coisa que no ítem anterior, só ao invés de ter um arquivo de configuração da aplicação, temos o arquivo de configuração da conta em si, com os mesmos requisitos em relação às restrições de permissão."
   ]
  },
  {
   "cell_type": "markdown",
   "metadata": {},
   "source": [
    "## Atualizando `.env`\n",
    "\n",
    "### Tarefa:\n",
    "\n",
    "Atualize o arquivo `.env`. Por enquanto ele provavelmente contém apenas as variáveis criadas para a API de correção automática:\n",
    "\n",
    "```python\n",
    "IAG_SERVER_URL=\"https://bigdata.insper-comp.com.br/iag\"\n",
    "IAG_SUBJECT=\"megadados\"\n",
    "IAG_OFFERING=\"xxxx\"\n",
    "IAG_TOKEN=\"iagtok_xxxxxxxxxxxxxxxxxxxxxxxxxxxxxxxxxxxxxxxxxxxxxxxxx\"\n",
    "```\n",
    "\n",
    "Vamos adicionar três novas variáveis:\n",
    "\n",
    "- `MD_DB_SERVER`: o endereço para o host onde o mysql está instalado (provavelmente `\"localhost\"`)\n",
    "- `MD_DB_SERVER`: o usuário para acesso ao banco (provavelmente `\"root\"`)\n",
    "- `MD_DB_SERVER`: a senha do usuário.\n",
    "\n",
    "\n",
    "O `.env` ficará neste formato (veja as três novas variáveis ao final):\n",
    "\n",
    "```python\n",
    "IAG_SERVER_URL=\"https://bigdata.insper-comp.com.br/iag\"\n",
    "IAG_SUBJECT=\"megadados\"\n",
    "IAG_OFFERING=\"xxxx\"\n",
    "IAG_TOKEN=\"iagtok_xxxxxxxxxxxxxxxxxxxxxxxxxxxxxxxxxxxxxxxxxxxxxxxxx\"\n",
    "MD_DB_SERVER=\"localhost\"\n",
    "MD_DB_USERNAME=\"root\"\n",
    "MD_DB_PASSWORD=\"alguma_senha\"\n",
    "```"
   ]
  },
  {
   "cell_type": "code",
   "execution_count": 9,
   "metadata": {},
   "outputs": [],
   "source": [
    "load_dotenv(override=True)\n",
    "\n",
    "connection_options = {\n",
    "    \"host\": os.getenv(\"MD_DB_SERVER\"),\n",
    "    \"user\": os.getenv(\"MD_DB_USERNAME\"),\n",
    "    \"password\": os.getenv(\"MD_DB_PASSWORD\"),\n",
    "    \"database\": \"torneio\"\n",
    "}"
   ]
  },
  {
   "cell_type": "markdown",
   "metadata": {},
   "source": [
    "**Abrindo a conexão:**"
   ]
  },
  {
   "cell_type": "code",
   "execution_count": 10,
   "metadata": {},
   "outputs": [],
   "source": [
    "#A notação de duplo asterisco em Python permite usar um dicionário \n",
    "#no lugar de argumentos nomeados. A linha a ser executada abaixo equivale á:\n",
    "\n",
    "connection = mysql.connector.connect(\n",
    "    host=os.getenv(\"MD_DB_SERVER\"),\n",
    "    user=os.getenv(\"MD_DB_USERNAME\"),\n",
    "    password=os.getenv(\"MD_DB_PASSWORD\"),\n",
    "    database=\"torneio\"\n",
    ")\n",
    "\n",
    "connection = mysql.connector.connect(**connection_options)"
   ]
  },
  {
   "cell_type": "markdown",
   "metadata": {},
   "source": [
    "<div class=\"alert alert-info\">\n",
    "\n",
    "**IMPORTANTE:**\n",
    "\n",
    "TODAS AS OPERAÇÕES REALIZADAS NESTA CONEXÃO SÃO TEMPORÁRIAS, ATÉ QUE O COMANDO `connection.commit()` seja executado!\n",
    "\n",
    "</div>\n",
    "\n",
    "<div class=\"alert alert-warning\" role=\"alert\">\n",
    "    \n",
    "**MAIS IMPORTANTE AINDA:**\n",
    "\n",
    "ISSO NÃO VALE SE `AUTOCOMMIT` ESTIVER LIGADO!\n",
    "\n",
    "</div>\n",
    "\n",
    "\n",
    "Estudaremos melhor essa questão quando discutirmos transações em maiores detalhes.\n",
    "\n",
    "Vamos criar alguns dados iniciais:"
   ]
  },
  {
   "cell_type": "code",
   "execution_count": 11,
   "metadata": {},
   "outputs": [],
   "source": [
    "T1 = \"Raposas Nerds\"\n",
    "T2 = \"É nois\"\n",
    "\n",
    "NINJA = 0\n",
    "COWBOY = 1\n",
    "URSO = 2\n",
    "\n",
    "times = {\n",
    "    T1: \"sudo vencer!\",\n",
    "    T2: \"Olha eu mamãe!\",\n",
    "}\n",
    "\n",
    "jogadores = [\n",
    "    (\"Raul Ayres\", T1, NINJA),\n",
    "    (\"Luciano Hashimoto\", T1, COWBOY),\n",
    "    (\"Rafael Montaigner\", T1, URSO),\n",
    "    (\"Igor Miranda\", T2, URSO),\n",
    "    (\"Andrew Ikeda\", T2, COWBOY),\n",
    "    (\"Fábio Kurauchi\", T2, NINJA),\n",
    "]"
   ]
  },
  {
   "cell_type": "markdown",
   "metadata": {},
   "source": [
    "Vamos inserir os dados dos times.\n",
    "\n",
    "**Atividade:** Quem devemos inserir primeiro: dados na tabela `equipe` ou na tabela `jogador`?"
   ]
  },
  {
   "cell_type": "markdown",
   "metadata": {},
   "source": [
    "<div class=\"alert alert-success\">\n",
    "\n",
    "Sua resposta aqui! Dê dois cliques e edite.\n",
    "    \n",
    "    Escreva AQUI!\n",
    "\n",
    "</div>"
   ]
  },
  {
   "cell_type": "markdown",
   "metadata": {},
   "source": [
    "Quando uma tabela tem chave estrangeira para outra tabela dizemos que ela é filha (*child*) da outra tabela, e que a outra tabela é a pai (*parent*).\n",
    "\n",
    "Um *cursor* é o objeto que permite executar queries SQL e interagir com os resultados obtidos.\n",
    "\n",
    "### Tentando inserir um jogador\n",
    "\n",
    "Vamos tentar inserir um jogador:"
   ]
  },
  {
   "cell_type": "code",
   "execution_count": 12,
   "metadata": {},
   "outputs": [
    {
     "name": "stdout",
     "output_type": "stream",
     "text": [
      "IntegrityError: 1452 (23000): Cannot add or update a child row: a foreign key constraint fails (`torneio`.`jogador`, CONSTRAINT `jogador_ibfk_1` FOREIGN KEY (`nome_equipe`) REFERENCES `equipe` (`nome`) ON DELETE CASCADE ON UPDATE CASCADE)\n"
     ]
    }
   ],
   "source": [
    "try:\n",
    "    with connection.cursor() as cursor:\n",
    "        cursor.execute(\"INSERT INTO jogador (nome, nome_equipe, preferencia) VALUES ('Joao', 'sete e meia', 0)\")\n",
    "    connection.commit()\n",
    "except mysql.connector.IntegrityError as exception:\n",
    "    print(f\"IntegrityError: {exception}\")\n",
    "    connection.rollback()"
   ]
  },
  {
   "cell_type": "markdown",
   "metadata": {},
   "source": [
    "Perceba que obtemos uma exceção, pois estamos tentando utilizar uma equipe inexistente na tabela de `equipe`.\n",
    "\n",
    "Isto responde nossa pergunta anterior: precisamos inserir primeiro as equipes. Vamos fazer isto utilizando um laço que fará todas as inserções:"
   ]
  },
  {
   "cell_type": "code",
   "execution_count": 13,
   "metadata": {},
   "outputs": [
    {
     "name": "stdout",
     "output_type": "stream",
     "text": [
      "IntegrityError: 1062 (23000): Duplicate entry 'Raposas Nerds' for key 'equipe.PRIMARY'\n"
     ]
    }
   ],
   "source": [
    "try:\n",
    "    with connection.cursor() as cursor:\n",
    "        # Outra opção aqui seria o uso de cursor.executemany()\n",
    "        for time, grito in times.items():\n",
    "            cursor.execute(\"INSERT INTO equipe VALUES (%s, %s)\", (time, grito))\n",
    "    connection.commit()\n",
    "except mysql.connector.IntegrityError as exception:\n",
    "    print(f\"IntegrityError: {exception}\")\n",
    "    connection.rollback()"
   ]
  },
  {
   "cell_type": "markdown",
   "metadata": {},
   "source": [
    "Note o comando ``commit`` acima: ele serve para efetivar a operação no banco de dados. Verifique no MySQL Workbench que a operação foi bem sucedida.\n",
    "\n",
    "**Atividade:** Perceba que desta vez não especificamos os nomes das colunas no `INSERT`. É necessário deixar claro os campos da tabela?"
   ]
  },
  {
   "cell_type": "markdown",
   "metadata": {},
   "source": [
    "<div class=\"alert alert-success\">\n",
    "\n",
    "Sua resposta aqui! Dê dois cliques e edite.\n",
    "    \n",
    "    Escreva AQUI!\n",
    "\n",
    "</div>"
   ]
  },
  {
   "cell_type": "markdown",
   "metadata": {},
   "source": [
    "Podemos tambem usar nossa conexão para verificar o estado da tabela ``equipe``:"
   ]
  },
  {
   "cell_type": "code",
   "execution_count": 14,
   "metadata": {},
   "outputs": [
    {
     "name": "stdout",
     "output_type": "stream",
     "text": [
      "('É nois', 'Olha eu mamãe!')\n",
      "('Raposas Nerds', 'sudo vencer --force!')\n"
     ]
    }
   ],
   "source": [
    "with connection.cursor() as cursor:\n",
    "    cursor.execute(\"SELECT * FROM equipe\")\n",
    "    for item in cursor:\n",
    "        print(item)"
   ]
  },
  {
   "cell_type": "markdown",
   "metadata": {},
   "source": [
    "Podemos usar também nosso velho conhecido `pandas`!"
   ]
  },
  {
   "cell_type": "code",
   "execution_count": 15,
   "metadata": {},
   "outputs": [
    {
     "ename": "ModuleNotFoundError",
     "evalue": "No module named 'pandas'",
     "output_type": "error",
     "traceback": [
      "\u001b[1;31m---------------------------------------------------------------------------\u001b[0m",
      "\u001b[1;31mModuleNotFoundError\u001b[0m                       Traceback (most recent call last)",
      "Cell \u001b[1;32mIn[15], line 1\u001b[0m\n\u001b[1;32m----> 1\u001b[0m \u001b[38;5;28;01mimport\u001b[39;00m\u001b[38;5;250m \u001b[39m\u001b[38;5;21;01mpandas\u001b[39;00m\u001b[38;5;250m \u001b[39m\u001b[38;5;28;01mas\u001b[39;00m\u001b[38;5;250m \u001b[39m\u001b[38;5;21;01mpd\u001b[39;00m\n\u001b[0;32m      2\u001b[0m pd\u001b[38;5;241m.\u001b[39mread_sql_query(\u001b[38;5;124m\"\u001b[39m\u001b[38;5;124mSELECT * FROM equipe\u001b[39m\u001b[38;5;124m\"\u001b[39m, connection)\n",
      "\u001b[1;31mModuleNotFoundError\u001b[0m: No module named 'pandas'"
     ]
    }
   ],
   "source": [
    "import pandas as pd\n",
    "pd.read_sql_query(\"SELECT * FROM equipe\", connection)"
   ]
  },
  {
   "cell_type": "markdown",
   "metadata": {},
   "source": [
    "**Atividade:** Tente executar novamente a inserção de dados, o que acontece?"
   ]
  },
  {
   "cell_type": "markdown",
   "metadata": {},
   "source": [
    "<div class=\"alert alert-success\">\n",
    "\n",
    "Sua resposta aqui! Dê dois cliques e edite.\n",
    "    \n",
    "    Escreva AQUI!\n",
    "\n",
    "</div>"
   ]
  },
  {
   "cell_type": "markdown",
   "metadata": {},
   "source": [
    "## Interlúdio: sanitização de entradas de dados"
   ]
  },
  {
   "cell_type": "markdown",
   "metadata": {},
   "source": [
    "Por que usamos aqueles ``%s`` no comando a ser executado? Por que não simplesmente incluir diretamente os dados na *string* do comando SQL? Por exemplo:\n",
    "\n",
    "```Python\n",
    "cursor.execute(\"INSERT INTO equipe VALUES ('\" + time + \"', '\" + grito + \"')\")\n",
    "```"
   ]
  },
  {
   "cell_type": "markdown",
   "metadata": {},
   "source": [
    "Muitas vezes o resultado é o mesmo! Contudo, e SE executássemos a query abaixo..."
   ]
  },
  {
   "cell_type": "markdown",
   "metadata": {},
   "source": [
    "time = \"Robert', ''); DROP DATABASE torneio; -- \"\n",
    "grito = \"\"\n",
    "\n",
    "with connection.cursor() as cursor:\n",
    "    for result in cursor.execute(\n",
    "            \"INSERT INTO equipe VALUES ('\" + time + \"', '\" + grito + \"')\",\n",
    "            multi=True,\n",
    "    ):\n",
    "        print(result)\n",
    "    connection.commit()\n",
    "\n",
    "with connection.cursor() as cursor:\n",
    "    cursor.execute(\"SELECT * FROM equipe\")\n",
    "    for item in cursor:\n",
    "        print(item)\n",
    "\n",
    "connection.close()"
   ]
  },
  {
   "cell_type": "markdown",
   "metadata": {},
   "source": [
    "A célula acima está desabilitada. Mas se quiser executar passe para tipo \"Code\" e rode. Depois, garanta que a conexão está fechada com `connection.close()`, volte para o começo do notebook e rode tudo de novo exceto a célula mortal!\n",
    "\n",
    "![Little Bobby Tables](imgs/exploits_of_a_mom.png)\n",
    "\n",
    "[Exploits of a mom](https://xkcd.com/327/)\n",
    "\n",
    "\n",
    "Existem jeitos de quebrar o sistema com esse tipo de ataque, onde o hacker tenta inserir código SQL mal-intencionado em formulários, na expectativa de que o programador não tenha feito a sanitização das entradas. Esse ataque chama-se ***'SQL injection'***."
   ]
  },
  {
   "cell_type": "markdown",
   "metadata": {},
   "source": [
    "Fim do interlúdio, voltamos à apresentação principal.\n",
    "\n",
    "Vamos agora inserir os jogadores. Neste caso não precisamos inserir a chave primária, pois ela é gerada automaticamente. Consequentemente temos que especificar que estamos inserindo apenas as demais colunas - temos que nomear as colunas na qual estamos inserindo os dados."
   ]
  },
  {
   "cell_type": "code",
   "execution_count": 16,
   "metadata": {},
   "outputs": [],
   "source": [
    "try:\n",
    "    with connection.cursor() as cursor:\n",
    "        cursor.executemany(\n",
    "            \"INSERT INTO jogador (nome, nome_equipe, preferencia) VALUES (%s, %s, %s)\",\n",
    "            jogadores)\n",
    "    connection.commit()\n",
    "except Exception as e:\n",
    "    print(e)\n",
    "    connection.rollback()"
   ]
  },
  {
   "cell_type": "markdown",
   "metadata": {},
   "source": [
    "Vamos verificar se funcionou. Para evitar ter criar os cursores a todo momento e coletar os resultados vamos construir uma classe auxiliar, só para simplificar o código:"
   ]
  },
  {
   "cell_type": "code",
   "execution_count": 17,
   "metadata": {},
   "outputs": [],
   "source": [
    "class ConnectionHelper:\n",
    "\n",
    "    def __init__(self, connection):\n",
    "        self.connection = connection\n",
    "\n",
    "    def __call__(self, query, args=None):\n",
    "        with self.connection.cursor() as cursor:\n",
    "            print(\"Executando query:\")\n",
    "            cursor.execute(query, args)\n",
    "            for result in cursor:\n",
    "                print(result)"
   ]
  },
  {
   "cell_type": "code",
   "execution_count": 18,
   "metadata": {},
   "outputs": [],
   "source": [
    "db = ConnectionHelper(connection)"
   ]
  },
  {
   "cell_type": "markdown",
   "metadata": {},
   "source": [
    "Note o padrão de *'dependency injection'* aqui: ao invés de criar a conexão dentro do construtor da classe ConnectionHelper, passamos um objeto 'connection' que será armazenado dentro do ConnectionHelper. Qualquer objeto 'connection' pode ser passado, de qualquer classe, desde que obedeça a interface (implícita) de um objeto de conexão ao banco de dados. Neste nosso caso, tem que ter o método `cursor()` que retorne um objeto de interação com a base de dados."
   ]
  },
  {
   "cell_type": "markdown",
   "metadata": {},
   "source": [
    "## Explorando a estrutura da base de dados\n",
    "\n",
    "Vamos ver quais tabelas existem na base ``torneio``:"
   ]
  },
  {
   "cell_type": "code",
   "execution_count": 19,
   "metadata": {},
   "outputs": [
    {
     "name": "stdout",
     "output_type": "stream",
     "text": [
      "Executando query:\n",
      "('equipe',)\n",
      "('jogador',)\n"
     ]
    }
   ],
   "source": [
    "db(\"SHOW TABLES\")"
   ]
  },
  {
   "cell_type": "markdown",
   "metadata": {},
   "source": [
    "Para saber qual o schema da tabela `jogador`, podemos usar o comando '`DESCRIBE`'"
   ]
  },
  {
   "cell_type": "code",
   "execution_count": 20,
   "metadata": {
    "scrolled": true
   },
   "outputs": [
    {
     "name": "stdout",
     "output_type": "stream",
     "text": [
      "Executando query:\n",
      "('id', 'int', 'NO', 'PRI', None, 'auto_increment')\n",
      "('nome_equipe', 'varchar(80)', 'NO', 'MUL', None, '')\n",
      "('nome', 'varchar(80)', 'NO', '', None, '')\n",
      "('preferencia', 'int', 'NO', '', None, '')\n"
     ]
    }
   ],
   "source": [
    "db(\"DESCRIBE jogador\")"
   ]
  },
  {
   "cell_type": "markdown",
   "metadata": {},
   "source": [
    "## Consultando a base de dados\n",
    "\n",
    "Vamos usar o comando `SELECT` para listar os conteudos da tabela 'Jogador'"
   ]
  },
  {
   "cell_type": "code",
   "execution_count": 21,
   "metadata": {},
   "outputs": [
    {
     "name": "stdout",
     "output_type": "stream",
     "text": [
      "Executando query:\n",
      "(2, 'Raposas Nerds', 'Raul Ayres', 0)\n",
      "(3, 'Raposas Nerds', 'Luciano Hashimoto', 1)\n",
      "(4, 'É nois', 'Rafael Montaigner', 2)\n",
      "(5, 'É nois', 'Igor Miranda', 2)\n",
      "(6, 'É nois', 'Andrew Gomes da Silva', 1)\n",
      "(9, 'Raposas Nerds', 'Raul Ayres', 0)\n",
      "(10, 'Raposas Nerds', 'Luciano Hashimoto', 1)\n",
      "(11, 'Raposas Nerds', 'Rafael Montaigner', 2)\n",
      "(12, 'É nois', 'Igor Miranda', 2)\n",
      "(13, 'É nois', 'Andrew Ikeda', 1)\n",
      "(14, 'É nois', 'Fábio Kurauchi', 0)\n"
     ]
    }
   ],
   "source": [
    "db(\"SELECT * FROM jogador\")"
   ]
  },
  {
   "cell_type": "markdown",
   "metadata": {},
   "source": [
    "O comando acima lista todos os registros da tabela `jogador`, com todas as colunas presentes:\n",
    "\n",
    "![Seleção da tabela inteira](imgs/tudo.png)\n",
    "\n",
    "Vamos agora selecionar apenas algumas colunas para exibir."
   ]
  },
  {
   "cell_type": "code",
   "execution_count": 22,
   "metadata": {
    "scrolled": true
   },
   "outputs": [
    {
     "name": "stdout",
     "output_type": "stream",
     "text": [
      "Executando query:\n",
      "('Raul Ayres', 'Raposas Nerds')\n",
      "('Luciano Hashimoto', 'Raposas Nerds')\n",
      "('Rafael Montaigner', 'É nois')\n",
      "('Igor Miranda', 'É nois')\n",
      "('Andrew Gomes da Silva', 'É nois')\n",
      "('Raul Ayres', 'Raposas Nerds')\n",
      "('Luciano Hashimoto', 'Raposas Nerds')\n",
      "('Rafael Montaigner', 'Raposas Nerds')\n",
      "('Igor Miranda', 'É nois')\n",
      "('Andrew Ikeda', 'É nois')\n",
      "('Fábio Kurauchi', 'É nois')\n"
     ]
    }
   ],
   "source": [
    "db(\"SELECT nome, nome_equipe FROM jogador\")"
   ]
  },
  {
   "cell_type": "markdown",
   "metadata": {},
   "source": [
    "Agora vemos apenas as colunas escolhidas.  A operação de seleção de colunas chama-se **projeção**.\n",
    "\n",
    "![Projeção](imgs/projecao.png)\n",
    "\n",
    "Vamos agora atuar na escolha de linhas, selecionando quais desejamos. Para escolher todas as linhas cujo `nome_equipe` começa com 'Rap' podemos executar a query a seguir:"
   ]
  },
  {
   "cell_type": "code",
   "execution_count": 23,
   "metadata": {},
   "outputs": [
    {
     "name": "stdout",
     "output_type": "stream",
     "text": [
      "Executando query:\n",
      "(2, 'Raposas Nerds', 'Raul Ayres', 0)\n",
      "(3, 'Raposas Nerds', 'Luciano Hashimoto', 1)\n",
      "(9, 'Raposas Nerds', 'Raul Ayres', 0)\n",
      "(10, 'Raposas Nerds', 'Luciano Hashimoto', 1)\n",
      "(11, 'Raposas Nerds', 'Rafael Montaigner', 2)\n"
     ]
    }
   ],
   "source": [
    "db(\"SELECT * FROM jogador WHERE nome_equipe LIKE 'Rap%'\")"
   ]
  },
  {
   "cell_type": "markdown",
   "metadata": {},
   "source": [
    "Vemos apenas as linhas escolhidas. A operação de filtragem de linhas apropriadas chama-se ... **seleção**!!!\n",
    "\n",
    "![Seleção](imgs/selecao.png)\n",
    "\n",
    "Seleção e projeção são termos advindos da *álgebra relacional*, tópico que discutiremos em aulas futuras.\n",
    "\n",
    "O comando `SELECT` também pode ser usado para efetuar cálculos:"
   ]
  },
  {
   "cell_type": "code",
   "execution_count": 24,
   "metadata": {},
   "outputs": [
    {
     "name": "stdout",
     "output_type": "stream",
     "text": [
      "Executando query:\n",
      "(2,)\n"
     ]
    }
   ],
   "source": [
    "db(\"SELECT 1 + 1\")"
   ]
  },
  {
   "cell_type": "markdown",
   "metadata": {},
   "source": [
    "## Onde foram parar os dados?\n",
    "\n",
    "MySQL mantém um grande conjunto de variáveis globais para que possamos verificar o estado do sistema. Podemos consultar essas variáveis usando SQL! Afinal, se queremos armazenar informação (neste caso, sobre o próprio sistema), nada melhor que um SGBD!"
   ]
  },
  {
   "cell_type": "code",
   "execution_count": 25,
   "metadata": {
    "tags": []
   },
   "outputs": [
    {
     "name": "stdout",
     "output_type": "stream",
     "text": [
      "Executando query:\n",
      "('activate_all_roles_on_login', 'OFF')\n",
      "('admin_address', '')\n",
      "('admin_port', '33062')\n",
      "('admin_ssl_ca', '')\n",
      "('admin_ssl_capath', '')\n",
      "('admin_ssl_cert', '')\n",
      "('admin_ssl_cipher', '')\n",
      "('admin_ssl_crl', '')\n",
      "('admin_ssl_crlpath', '')\n",
      "('admin_ssl_key', '')\n",
      "('admin_tls_ciphersuites', '')\n",
      "('admin_tls_version', 'TLSv1.2,TLSv1.3')\n",
      "('authentication_policy', '*,,')\n",
      "('auto_generate_certs', 'ON')\n",
      "('auto_increment_increment', '1')\n",
      "('auto_increment_offset', '1')\n",
      "('autocommit', 'OFF')\n",
      "('automatic_sp_privileges', 'ON')\n",
      "('avoid_temporal_upgrade', 'OFF')\n",
      "('back_log', '151')\n",
      "('basedir', 'C:\\\\Program Files\\\\MySQL\\\\MySQL Server 8.0\\\\')\n",
      "('big_tables', 'OFF')\n",
      "('bind_address', '*')\n",
      "('binlog_cache_size', '32768')\n",
      "('binlog_checksum', 'CRC32')\n",
      "('binlog_direct_non_transactional_updates', 'OFF')\n",
      "('binlog_encryption', 'OFF')\n",
      "('binlog_error_action', 'ABORT_SERVER')\n",
      "('binlog_expire_logs_auto_purge', 'ON')\n",
      "('binlog_expire_logs_seconds', '2592000')\n",
      "('binlog_format', 'ROW')\n",
      "('binlog_group_commit_sync_delay', '0')\n",
      "('binlog_group_commit_sync_no_delay_count', '0')\n",
      "('binlog_gtid_simple_recovery', 'ON')\n",
      "('binlog_max_flush_queue_time', '0')\n",
      "('binlog_order_commits', 'ON')\n",
      "('binlog_rotate_encryption_master_key_at_startup', 'OFF')\n",
      "('binlog_row_event_max_size', '8192')\n",
      "('binlog_row_image', 'FULL')\n",
      "('binlog_row_metadata', 'MINIMAL')\n",
      "('binlog_row_value_options', '')\n",
      "('binlog_rows_query_log_events', 'OFF')\n",
      "('binlog_stmt_cache_size', '32768')\n",
      "('binlog_transaction_compression', 'OFF')\n",
      "('binlog_transaction_compression_level_zstd', '3')\n",
      "('binlog_transaction_dependency_history_size', '25000')\n",
      "('binlog_transaction_dependency_tracking', 'COMMIT_ORDER')\n",
      "('block_encryption_mode', 'aes-128-ecb')\n",
      "('bulk_insert_buffer_size', '8388608')\n",
      "('caching_sha2_password_auto_generate_rsa_keys', 'ON')\n",
      "('caching_sha2_password_digest_rounds', '5000')\n",
      "('caching_sha2_password_private_key_path', 'private_key.pem')\n",
      "('caching_sha2_password_public_key_path', 'public_key.pem')\n",
      "('character_set_client', 'utf8mb4')\n",
      "('character_set_connection', 'utf8mb4')\n",
      "('character_set_database', 'utf8mb4')\n",
      "('character_set_filesystem', 'binary')\n",
      "('character_set_results', 'utf8mb4')\n",
      "('character_set_server', 'utf8mb4')\n",
      "('character_set_system', 'utf8mb3')\n",
      "('character_sets_dir', 'C:\\\\Program Files\\\\MySQL\\\\MySQL Server 8.0\\\\share\\\\charsets\\\\')\n",
      "('check_proxy_users', 'OFF')\n",
      "('collation_connection', 'utf8mb4_0900_ai_ci')\n",
      "('collation_database', 'utf8mb4_0900_ai_ci')\n",
      "('collation_server', 'utf8mb4_0900_ai_ci')\n",
      "('completion_type', 'NO_CHAIN')\n",
      "('concurrent_insert', 'AUTO')\n",
      "('connect_timeout', '10')\n",
      "('connection_memory_chunk_size', '8192')\n",
      "('connection_memory_limit', '18446744073709551615')\n",
      "('core_file', 'OFF')\n",
      "('create_admin_listener_thread', 'OFF')\n",
      "('cte_max_recursion_depth', '1000')\n",
      "('datadir', 'C:\\\\ProgramData\\\\MySQL\\\\MySQL Server 8.0\\\\Data\\\\')\n",
      "('default_authentication_plugin', 'caching_sha2_password')\n",
      "('default_collation_for_utf8mb4', 'utf8mb4_0900_ai_ci')\n",
      "('default_password_lifetime', '0')\n",
      "('default_storage_engine', 'InnoDB')\n",
      "('default_table_encryption', 'OFF')\n",
      "('default_tmp_storage_engine', 'InnoDB')\n",
      "('default_week_format', '0')\n",
      "('delay_key_write', 'ON')\n",
      "('delayed_insert_limit', '100')\n",
      "('delayed_insert_timeout', '300')\n",
      "('delayed_queue_size', '1000')\n",
      "('disabled_storage_engines', '')\n",
      "('disconnect_on_expired_password', 'ON')\n",
      "('div_precision_increment', '4')\n",
      "('end_markers_in_json', 'OFF')\n",
      "('enforce_gtid_consistency', 'OFF')\n",
      "('eq_range_index_dive_limit', '200')\n",
      "('error_count', '0')\n",
      "('event_scheduler', 'ON')\n",
      "('expire_logs_days', '0')\n",
      "('explain_format', 'TRADITIONAL')\n",
      "('explicit_defaults_for_timestamp', 'ON')\n",
      "('external_user', '')\n",
      "('flush', 'OFF')\n",
      "('flush_time', '0')\n",
      "('foreign_key_checks', 'ON')\n",
      "('ft_boolean_syntax', '+ -><()~*:\"\"&|')\n",
      "('ft_max_word_len', '84')\n",
      "('ft_min_word_len', '4')\n",
      "('ft_query_expansion_limit', '20')\n",
      "('ft_stopword_file', '(built-in)')\n",
      "('general_log', 'OFF')\n",
      "('general_log_file', 'DESKTOP-LBP05L6.log')\n",
      "('generated_random_password_length', '20')\n",
      "('global_connection_memory_limit', '18446744073709551615')\n",
      "('global_connection_memory_tracking', 'OFF')\n",
      "('group_concat_max_len', '1024')\n",
      "('group_replication_consistency', 'EVENTUAL')\n",
      "('gtid_executed', '')\n",
      "('gtid_executed_compression_period', '0')\n",
      "('gtid_mode', 'OFF')\n",
      "('gtid_next', 'AUTOMATIC')\n",
      "('gtid_owned', '')\n",
      "('gtid_purged', '')\n",
      "('have_compress', 'YES')\n",
      "('have_dynamic_loading', 'YES')\n",
      "('have_geometry', 'YES')\n",
      "('have_openssl', 'YES')\n",
      "('have_profiling', 'YES')\n",
      "('have_query_cache', 'NO')\n",
      "('have_rtree_keys', 'YES')\n",
      "('have_ssl', 'YES')\n",
      "('have_statement_timeout', 'YES')\n",
      "('have_symlink', 'DISABLED')\n",
      "('histogram_generation_max_mem_size', '20000000')\n",
      "('host_cache_size', '279')\n",
      "('hostname', 'DESKTOP-LBP05L6')\n",
      "('identity', '9')\n",
      "('immediate_server_version', '999999')\n",
      "('information_schema_stats_expiry', '86400')\n",
      "('init_connect', '')\n",
      "('init_file', '')\n",
      "('init_replica', '')\n",
      "('init_slave', '')\n",
      "('innodb_adaptive_flushing', 'ON')\n",
      "('innodb_adaptive_flushing_lwm', '10')\n",
      "('innodb_adaptive_hash_index', 'ON')\n",
      "('innodb_adaptive_hash_index_parts', '8')\n",
      "('innodb_adaptive_max_sleep_delay', '150000')\n",
      "('innodb_api_bk_commit_interval', '5')\n",
      "('innodb_api_disable_rowlock', 'OFF')\n",
      "('innodb_api_enable_binlog', 'OFF')\n",
      "('innodb_api_enable_mdl', 'OFF')\n",
      "('innodb_api_trx_level', '0')\n",
      "('innodb_autoextend_increment', '64')\n",
      "('innodb_autoinc_lock_mode', '2')\n",
      "('innodb_buffer_pool_chunk_size', '134217728')\n",
      "('innodb_buffer_pool_dump_at_shutdown', 'ON')\n",
      "('innodb_buffer_pool_dump_now', 'OFF')\n",
      "('innodb_buffer_pool_dump_pct', '25')\n",
      "('innodb_buffer_pool_filename', 'ib_buffer_pool')\n",
      "('innodb_buffer_pool_in_core_file', 'ON')\n",
      "('innodb_buffer_pool_instances', '1')\n",
      "('innodb_buffer_pool_load_abort', 'OFF')\n",
      "('innodb_buffer_pool_load_at_startup', 'ON')\n",
      "('innodb_buffer_pool_load_now', 'OFF')\n",
      "('innodb_buffer_pool_size', '134217728')\n",
      "('innodb_change_buffer_max_size', '25')\n",
      "('innodb_change_buffering', 'all')\n",
      "('innodb_checksum_algorithm', 'crc32')\n",
      "('innodb_cmp_per_index_enabled', 'OFF')\n",
      "('innodb_commit_concurrency', '0')\n",
      "('innodb_compression_failure_threshold_pct', '5')\n",
      "('innodb_compression_level', '6')\n",
      "('innodb_compression_pad_pct_max', '50')\n",
      "('innodb_concurrency_tickets', '5000')\n",
      "('innodb_data_file_path', 'ibdata1:12M:autoextend')\n",
      "('innodb_data_home_dir', '')\n",
      "('innodb_ddl_buffer_size', '1048576')\n",
      "('innodb_ddl_threads', '4')\n",
      "('innodb_deadlock_detect', 'ON')\n",
      "('innodb_dedicated_server', 'OFF')\n",
      "('innodb_default_row_format', 'dynamic')\n",
      "('innodb_directories', '')\n",
      "('innodb_disable_sort_file_cache', 'OFF')\n",
      "('innodb_doublewrite', 'ON')\n",
      "('innodb_doublewrite_batch_size', '0')\n",
      "('innodb_doublewrite_dir', '')\n",
      "('innodb_doublewrite_files', '2')\n",
      "('innodb_doublewrite_pages', '4')\n",
      "('innodb_extend_and_initialize', 'ON')\n",
      "('innodb_fast_shutdown', '1')\n",
      "('innodb_file_per_table', 'ON')\n",
      "('innodb_fill_factor', '100')\n",
      "('innodb_flush_log_at_timeout', '1')\n",
      "('innodb_flush_log_at_trx_commit', '1')\n",
      "('innodb_flush_method', 'unbuffered')\n",
      "('innodb_flush_neighbors', '0')\n",
      "('innodb_flush_sync', 'ON')\n",
      "('innodb_flushing_avg_loops', '30')\n",
      "('innodb_force_load_corrupted', 'OFF')\n",
      "('innodb_force_recovery', '0')\n",
      "('innodb_fsync_threshold', '0')\n",
      "('innodb_ft_aux_table', '')\n",
      "('innodb_ft_cache_size', '8000000')\n",
      "('innodb_ft_enable_diag_print', 'OFF')\n",
      "('innodb_ft_enable_stopword', 'ON')\n",
      "('innodb_ft_max_token_size', '84')\n",
      "('innodb_ft_min_token_size', '3')\n",
      "('innodb_ft_num_word_optimize', '2000')\n",
      "('innodb_ft_result_cache_limit', '2000000000')\n",
      "('innodb_ft_server_stopword_table', '')\n",
      "('innodb_ft_sort_pll_degree', '2')\n",
      "('innodb_ft_total_cache_size', '640000000')\n",
      "('innodb_ft_user_stopword_table', '')\n",
      "('innodb_idle_flush_pct', '100')\n",
      "('innodb_io_capacity', '200')\n",
      "('innodb_io_capacity_max', '2000')\n",
      "('innodb_lock_wait_timeout', '50')\n",
      "('innodb_log_buffer_size', '16777216')\n",
      "('innodb_log_checksums', 'ON')\n",
      "('innodb_log_compressed_pages', 'ON')\n",
      "('innodb_log_file_size', '50331648')\n",
      "('innodb_log_files_in_group', '2')\n",
      "('innodb_log_group_home_dir', '.\\\\')\n",
      "('innodb_log_spin_cpu_abs_lwm', '80')\n",
      "('innodb_log_spin_cpu_pct_hwm', '50')\n",
      "('innodb_log_wait_for_flush_spin_hwm', '400')\n",
      "('innodb_log_write_ahead_size', '8192')\n",
      "('innodb_log_writer_threads', 'ON')\n",
      "('innodb_lru_scan_depth', '1024')\n",
      "('innodb_max_dirty_pages_pct', '90.000000')\n",
      "('innodb_max_dirty_pages_pct_lwm', '10.000000')\n",
      "('innodb_max_purge_lag', '0')\n",
      "('innodb_max_purge_lag_delay', '0')\n",
      "('innodb_max_undo_log_size', '1073741824')\n",
      "('innodb_monitor_disable', '')\n",
      "('innodb_monitor_enable', '')\n",
      "('innodb_monitor_reset', '')\n",
      "('innodb_monitor_reset_all', '')\n",
      "('innodb_old_blocks_pct', '37')\n",
      "('innodb_old_blocks_time', '1000')\n",
      "('innodb_online_alter_log_max_size', '134217728')\n",
      "('innodb_open_files', '4000')\n",
      "('innodb_optimize_fulltext_only', 'OFF')\n",
      "('innodb_page_cleaners', '1')\n",
      "('innodb_page_size', '16384')\n",
      "('innodb_parallel_read_threads', '4')\n",
      "('innodb_print_all_deadlocks', 'OFF')\n",
      "('innodb_print_ddl_logs', 'OFF')\n",
      "('innodb_purge_batch_size', '300')\n",
      "('innodb_purge_rseg_truncate_frequency', '128')\n",
      "('innodb_purge_threads', '4')\n",
      "('innodb_random_read_ahead', 'OFF')\n",
      "('innodb_read_ahead_threshold', '56')\n",
      "('innodb_read_io_threads', '4')\n",
      "('innodb_read_only', 'OFF')\n",
      "('innodb_redo_log_archive_dirs', '')\n",
      "('innodb_redo_log_capacity', '104857600')\n",
      "('innodb_redo_log_encrypt', 'OFF')\n",
      "('innodb_replication_delay', '0')\n",
      "('innodb_rollback_on_timeout', 'OFF')\n",
      "('innodb_rollback_segments', '128')\n",
      "('innodb_segment_reserve_factor', '12.500000')\n",
      "('innodb_sort_buffer_size', '1048576')\n",
      "('innodb_spin_wait_delay', '6')\n",
      "('innodb_spin_wait_pause_multiplier', '50')\n",
      "('innodb_stats_auto_recalc', 'ON')\n",
      "('innodb_stats_include_delete_marked', 'OFF')\n",
      "('innodb_stats_method', 'nulls_equal')\n",
      "('innodb_stats_on_metadata', 'OFF')\n",
      "('innodb_stats_persistent', 'ON')\n",
      "('innodb_stats_persistent_sample_pages', '20')\n",
      "('innodb_stats_transient_sample_pages', '8')\n",
      "('innodb_status_output', 'OFF')\n",
      "('innodb_status_output_locks', 'OFF')\n",
      "('innodb_strict_mode', 'ON')\n",
      "('innodb_sync_array_size', '1')\n",
      "('innodb_sync_spin_loops', '30')\n",
      "('innodb_table_locks', 'ON')\n",
      "('innodb_temp_data_file_path', 'ibtmp1:12M:autoextend')\n",
      "('innodb_temp_tablespaces_dir', '.\\\\#innodb_temp\\\\')\n",
      "('innodb_thread_concurrency', '25')\n",
      "('innodb_thread_sleep_delay', '0')\n",
      "('innodb_tmpdir', '')\n",
      "('innodb_undo_directory', '.\\\\')\n",
      "('innodb_undo_log_encrypt', 'OFF')\n",
      "('innodb_undo_log_truncate', 'ON')\n",
      "('innodb_undo_tablespaces', '2')\n",
      "('innodb_use_fdatasync', 'OFF')\n",
      "('innodb_use_native_aio', 'ON')\n",
      "('innodb_validate_tablespace_paths', 'ON')\n",
      "('innodb_version', '8.0.41')\n",
      "('innodb_write_io_threads', '4')\n",
      "('insert_id', '0')\n",
      "('interactive_timeout', '28800')\n",
      "('internal_tmp_mem_storage_engine', 'TempTable')\n",
      "('join_buffer_size', '262144')\n",
      "('keep_files_on_create', 'OFF')\n",
      "('key_buffer_size', '8388608')\n",
      "('key_cache_age_threshold', '300')\n",
      "('key_cache_block_size', '1024')\n",
      "('key_cache_division_limit', '100')\n",
      "('keyring_operations', 'ON')\n",
      "('large_files_support', 'ON')\n",
      "('large_page_size', '0')\n",
      "('large_pages', 'OFF')\n",
      "('last_insert_id', '9')\n",
      "('lc_messages', 'en_US')\n",
      "('lc_messages_dir', 'C:\\\\Program Files\\\\MySQL\\\\MySQL Server 8.0\\\\share\\\\')\n",
      "('lc_time_names', 'en_US')\n",
      "('license', 'GPL')\n",
      "('local_infile', 'OFF')\n",
      "('lock_wait_timeout', '31536000')\n",
      "('log_bin', 'ON')\n",
      "('log_bin_basename', 'C:\\\\ProgramData\\\\MySQL\\\\MySQL Server 8.0\\\\Data\\\\DESKTOP-LBP05L6-bin')\n",
      "('log_bin_index', 'C:\\\\ProgramData\\\\MySQL\\\\MySQL Server 8.0\\\\Data\\\\DESKTOP-LBP05L6-bin.index')\n",
      "('log_bin_trust_function_creators', 'OFF')\n",
      "('log_bin_use_v1_row_events', 'OFF')\n",
      "('log_error', '.\\\\DESKTOP-LBP05L6.err')\n",
      "('log_error_services', 'log_filter_internal; log_sink_internal')\n",
      "('log_error_suppression_list', '')\n",
      "('log_error_verbosity', '2')\n",
      "('log_output', 'FILE')\n",
      "('log_queries_not_using_indexes', 'OFF')\n",
      "('log_raw', 'OFF')\n",
      "('log_replica_updates', 'ON')\n",
      "('log_slave_updates', 'ON')\n",
      "('log_slow_admin_statements', 'OFF')\n",
      "('log_slow_extra', 'OFF')\n",
      "('log_slow_replica_statements', 'OFF')\n",
      "('log_slow_slave_statements', 'OFF')\n",
      "('log_statements_unsafe_for_binlog', 'ON')\n",
      "('log_throttle_queries_not_using_indexes', '0')\n",
      "('log_timestamps', 'UTC')\n",
      "('long_query_time', '10.000000')\n",
      "('low_priority_updates', 'OFF')\n",
      "('lower_case_file_system', 'ON')\n",
      "('lower_case_table_names', '1')\n",
      "('mandatory_roles', '')\n",
      "('master_info_repository', 'TABLE')\n",
      "('master_verify_checksum', 'OFF')\n",
      "('max_allowed_packet', '67108864')\n",
      "('max_binlog_cache_size', '18446744073709547520')\n",
      "('max_binlog_size', '1073741824')\n",
      "('max_binlog_stmt_cache_size', '18446744073709547520')\n",
      "('max_connect_errors', '100')\n",
      "('max_connections', '151')\n",
      "('max_delayed_threads', '20')\n",
      "('max_digest_length', '1024')\n",
      "('max_error_count', '1024')\n",
      "('max_execution_time', '0')\n",
      "('max_heap_table_size', '16777216')\n",
      "('max_insert_delayed_threads', '20')\n",
      "('max_join_size', '18446744073709551615')\n",
      "('max_length_for_sort_data', '4096')\n",
      "('max_points_in_geometry', '65536')\n",
      "('max_prepared_stmt_count', '16382')\n",
      "('max_relay_log_size', '0')\n",
      "('max_seeks_for_key', '4294967295')\n",
      "('max_sort_length', '1024')\n",
      "('max_sp_recursion_depth', '0')\n",
      "('max_user_connections', '0')\n",
      "('max_write_lock_count', '4294967295')\n",
      "('min_examined_row_limit', '0')\n",
      "('myisam_data_pointer_size', '6')\n",
      "('myisam_max_sort_file_size', '2146435072')\n",
      "('myisam_mmap_size', '18446744073709551615')\n",
      "('myisam_recover_options', 'OFF')\n",
      "('myisam_sort_buffer_size', '8388608')\n",
      "('myisam_stats_method', 'nulls_unequal')\n",
      "('myisam_use_mmap', 'OFF')\n",
      "('mysql_native_password_proxy_users', 'OFF')\n",
      "('mysqlx_bind_address', '*')\n",
      "('mysqlx_compression_algorithms', 'DEFLATE_STREAM,LZ4_MESSAGE,ZSTD_STREAM')\n",
      "('mysqlx_connect_timeout', '30')\n",
      "('mysqlx_deflate_default_compression_level', '3')\n",
      "('mysqlx_deflate_max_client_compression_level', '5')\n",
      "('mysqlx_document_id_unique_prefix', '0')\n",
      "('mysqlx_enable_hello_notice', 'ON')\n",
      "('mysqlx_idle_worker_thread_timeout', '60')\n",
      "('mysqlx_interactive_timeout', '28800')\n",
      "('mysqlx_lz4_default_compression_level', '2')\n",
      "('mysqlx_lz4_max_client_compression_level', '8')\n",
      "('mysqlx_max_allowed_packet', '67108864')\n",
      "('mysqlx_max_connections', '100')\n",
      "('mysqlx_min_worker_threads', '2')\n",
      "('mysqlx_port', '33060')\n",
      "('mysqlx_port_open_timeout', '0')\n",
      "('mysqlx_read_timeout', '30')\n",
      "('mysqlx_socket', '/tmp/mysqlx.sock')\n",
      "('mysqlx_ssl_ca', '')\n",
      "('mysqlx_ssl_capath', '')\n",
      "('mysqlx_ssl_cert', '')\n",
      "('mysqlx_ssl_cipher', '')\n",
      "('mysqlx_ssl_crl', '')\n",
      "('mysqlx_ssl_crlpath', '')\n",
      "('mysqlx_ssl_key', '')\n",
      "('mysqlx_wait_timeout', '28800')\n",
      "('mysqlx_write_timeout', '60')\n",
      "('mysqlx_zstd_default_compression_level', '3')\n",
      "('mysqlx_zstd_max_client_compression_level', '11')\n",
      "('named_pipe', 'OFF')\n",
      "('named_pipe_full_access_group', '')\n",
      "('net_buffer_length', '16384')\n",
      "('net_read_timeout', '30')\n",
      "('net_retry_count', '10')\n",
      "('net_write_timeout', '60')\n",
      "('new', 'OFF')\n",
      "('ngram_token_size', '2')\n",
      "('offline_mode', 'OFF')\n",
      "('old', 'OFF')\n",
      "('old_alter_table', 'OFF')\n",
      "('open_files_limit', '10209')\n",
      "('optimizer_max_subgraph_pairs', '100000')\n",
      "('optimizer_prune_level', '1')\n",
      "('optimizer_search_depth', '62')\n",
      "('optimizer_switch', 'index_merge=on,index_merge_union=on,index_merge_sort_union=on,index_merge_intersection=on,engine_condition_pushdown=on,index_condition_pushdown=on,mrr=on,mrr_cost_based=on,block_nested_loop=on,batched_key_access=off,materialization=on,semijoin=on,loosescan=on,firstmatch=on,duplicateweedout=on,subquery_materialization_cost_based=on,use_index_extensions=on,condition_fanout_filter=on,derived_merge=on,use_invisible_indexes=off,skip_scan=on,hash_join=on,subquery_to_derived=off,prefer_ordering_index=on,hypergraph_optimizer=off,derived_condition_pushdown=on')\n",
      "('optimizer_trace', 'enabled=off,one_line=off')\n",
      "('optimizer_trace_features', 'greedy_search=on,range_optimizer=on,dynamic_range=on,repeated_subselect=on')\n",
      "('optimizer_trace_limit', '1')\n",
      "('optimizer_trace_max_mem_size', '1048576')\n",
      "('optimizer_trace_offset', '-1')\n",
      "('original_commit_timestamp', '36028797018963968')\n",
      "('original_server_version', '999999')\n",
      "('parser_max_mem_size', '18446744073709551615')\n",
      "('partial_revokes', 'OFF')\n",
      "('password_history', '0')\n",
      "('password_require_current', 'OFF')\n",
      "('password_reuse_interval', '0')\n",
      "('performance_schema', 'ON')\n",
      "('performance_schema_accounts_size', '-1')\n",
      "('performance_schema_digests_size', '10000')\n",
      "('performance_schema_error_size', '5314')\n",
      "('performance_schema_events_stages_history_long_size', '10000')\n",
      "('performance_schema_events_stages_history_size', '10')\n",
      "('performance_schema_events_statements_history_long_size', '10000')\n",
      "('performance_schema_events_statements_history_size', '10')\n",
      "('performance_schema_events_transactions_history_long_size', '10000')\n",
      "('performance_schema_events_transactions_history_size', '10')\n",
      "('performance_schema_events_waits_history_long_size', '10000')\n",
      "('performance_schema_events_waits_history_size', '10')\n",
      "('performance_schema_hosts_size', '-1')\n",
      "('performance_schema_max_cond_classes', '150')\n",
      "('performance_schema_max_cond_instances', '-1')\n",
      "('performance_schema_max_digest_length', '1024')\n",
      "('performance_schema_max_digest_sample_age', '60')\n",
      "('performance_schema_max_file_classes', '80')\n",
      "('performance_schema_max_file_handles', '32768')\n",
      "('performance_schema_max_file_instances', '-1')\n",
      "('performance_schema_max_index_stat', '-1')\n",
      "('performance_schema_max_memory_classes', '450')\n",
      "('performance_schema_max_metadata_locks', '-1')\n",
      "('performance_schema_max_mutex_classes', '350')\n",
      "('performance_schema_max_mutex_instances', '-1')\n",
      "('performance_schema_max_prepared_statements_instances', '-1')\n",
      "('performance_schema_max_program_instances', '-1')\n",
      "('performance_schema_max_rwlock_classes', '60')\n",
      "('performance_schema_max_rwlock_instances', '-1')\n",
      "('performance_schema_max_socket_classes', '10')\n",
      "('performance_schema_max_socket_instances', '-1')\n",
      "('performance_schema_max_sql_text_length', '1024')\n",
      "('performance_schema_max_stage_classes', '175')\n",
      "('performance_schema_max_statement_classes', '219')\n",
      "('performance_schema_max_statement_stack', '10')\n",
      "('performance_schema_max_table_handles', '-1')\n",
      "('performance_schema_max_table_instances', '-1')\n",
      "('performance_schema_max_table_lock_stat', '-1')\n",
      "('performance_schema_max_thread_classes', '100')\n",
      "('performance_schema_max_thread_instances', '-1')\n",
      "('performance_schema_session_connect_attrs_size', '512')\n",
      "('performance_schema_setup_actors_size', '-1')\n",
      "('performance_schema_setup_objects_size', '-1')\n",
      "('performance_schema_show_processlist', 'OFF')\n",
      "('performance_schema_users_size', '-1')\n",
      "('persist_only_admin_x509_subject', '')\n",
      "('persist_sensitive_variables_in_plaintext', 'ON')\n",
      "('persisted_globals_load', 'ON')\n",
      "('pid_file', 'C:\\\\ProgramData\\\\MySQL\\\\MySQL Server 8.0\\\\Data\\\\DESKTOP-LBP05L6.pid')\n",
      "('plugin_dir', 'C:\\\\Program Files\\\\MySQL\\\\MySQL Server 8.0\\\\lib\\\\plugin\\\\')\n",
      "('port', '3306')\n",
      "('preload_buffer_size', '32768')\n",
      "('print_identified_with_as_hex', 'OFF')\n",
      "('profiling', 'OFF')\n",
      "('profiling_history_size', '15')\n",
      "('protocol_compression_algorithms', 'zlib,zstd,uncompressed')\n",
      "('protocol_version', '10')\n",
      "('proxy_user', '')\n",
      "('pseudo_replica_mode', 'OFF')\n",
      "('pseudo_slave_mode', 'OFF')\n",
      "('pseudo_thread_id', '12')\n",
      "('query_alloc_block_size', '8192')\n",
      "('query_prealloc_size', '8192')\n",
      "('rand_seed1', '0')\n",
      "('rand_seed2', '0')\n",
      "('range_alloc_block_size', '4096')\n",
      "('range_optimizer_max_mem_size', '8388608')\n",
      "('rbr_exec_mode', 'STRICT')\n",
      "('read_buffer_size', '8192')\n",
      "('read_only', 'OFF')\n",
      "('read_rnd_buffer_size', '92160')\n",
      "('regexp_stack_limit', '8000000')\n",
      "('regexp_time_limit', '32')\n",
      "('relay_log', 'DESKTOP-LBP05L6-relay-bin')\n",
      "('relay_log_basename', 'C:\\\\ProgramData\\\\MySQL\\\\MySQL Server 8.0\\\\Data\\\\DESKTOP-LBP05L6-relay-bin')\n",
      "('relay_log_index', 'C:\\\\ProgramData\\\\MySQL\\\\MySQL Server 8.0\\\\Data\\\\DESKTOP-LBP05L6-relay-bin.index')\n",
      "('relay_log_info_file', 'relay-log.info')\n",
      "('relay_log_info_repository', 'TABLE')\n",
      "('relay_log_purge', 'ON')\n",
      "('relay_log_recovery', 'OFF')\n",
      "('relay_log_space_limit', '0')\n",
      "('replica_allow_batching', 'ON')\n",
      "('replica_checkpoint_group', '512')\n",
      "('replica_checkpoint_period', '300')\n",
      "('replica_compressed_protocol', 'OFF')\n",
      "('replica_exec_mode', 'STRICT')\n",
      "('replica_load_tmpdir', 'C:\\\\WINDOWS\\\\SERVIC~1\\\\NETWOR~1\\\\AppData\\\\Local\\\\Temp')\n",
      "('replica_max_allowed_packet', '1073741824')\n",
      "('replica_net_timeout', '60')\n",
      "('replica_parallel_type', 'LOGICAL_CLOCK')\n",
      "('replica_parallel_workers', '4')\n",
      "('replica_pending_jobs_size_max', '134217728')\n",
      "('replica_preserve_commit_order', 'ON')\n",
      "('replica_skip_errors', 'OFF')\n",
      "('replica_sql_verify_checksum', 'ON')\n",
      "('replica_transaction_retries', '10')\n",
      "('replica_type_conversions', '')\n",
      "('replication_optimize_for_static_plugin_config', 'OFF')\n",
      "('replication_sender_observe_commit_only', 'OFF')\n",
      "('report_host', '')\n",
      "('report_password', '')\n",
      "('report_port', '3306')\n",
      "('report_user', '')\n",
      "('require_row_format', 'OFF')\n",
      "('require_secure_transport', 'OFF')\n",
      "('resultset_metadata', 'FULL')\n",
      "('rpl_read_size', '8192')\n",
      "('rpl_stop_replica_timeout', '31536000')\n",
      "('rpl_stop_slave_timeout', '31536000')\n",
      "('schema_definition_cache', '256')\n",
      "('secondary_engine_cost_threshold', '100000.000000')\n",
      "('secure_file_priv', 'C:\\\\ProgramData\\\\MySQL\\\\MySQL Server 8.0\\\\Uploads\\\\')\n",
      "('select_into_buffer_size', '131072')\n",
      "('select_into_disk_sync', 'OFF')\n",
      "('select_into_disk_sync_delay', '0')\n",
      "('server_id', '1')\n",
      "('server_id_bits', '32')\n",
      "('server_uuid', 'fa2eab21-e224-11ef-af9b-b44506c4abe7')\n",
      "('session_track_gtids', 'OFF')\n",
      "('session_track_schema', 'ON')\n",
      "('session_track_state_change', 'OFF')\n",
      "('session_track_system_variables', 'time_zone,autocommit,character_set_client,character_set_results,character_set_connection')\n",
      "('session_track_transaction_info', 'OFF')\n",
      "('sha256_password_auto_generate_rsa_keys', 'ON')\n",
      "('sha256_password_private_key_path', 'private_key.pem')\n",
      "('sha256_password_proxy_users', 'OFF')\n",
      "('sha256_password_public_key_path', 'public_key.pem')\n",
      "('shared_memory', 'OFF')\n",
      "('shared_memory_base_name', 'MYSQL')\n",
      "('show_create_table_skip_secondary_engine', 'OFF')\n",
      "('show_create_table_verbosity', 'OFF')\n",
      "('show_gipk_in_create_table_and_information_schema', 'ON')\n",
      "('show_old_temporals', 'OFF')\n",
      "('skip_external_locking', 'ON')\n",
      "('skip_name_resolve', 'OFF')\n",
      "('skip_networking', 'OFF')\n",
      "('skip_replica_start', 'OFF')\n",
      "('skip_show_database', 'OFF')\n",
      "('skip_slave_start', 'OFF')\n",
      "('slave_allow_batching', 'ON')\n",
      "('slave_checkpoint_group', '512')\n",
      "('slave_checkpoint_period', '300')\n",
      "('slave_compressed_protocol', 'OFF')\n",
      "('slave_exec_mode', 'STRICT')\n",
      "('slave_load_tmpdir', 'C:\\\\WINDOWS\\\\SERVIC~1\\\\NETWOR~1\\\\AppData\\\\Local\\\\Temp')\n",
      "('slave_max_allowed_packet', '1073741824')\n",
      "('slave_net_timeout', '60')\n",
      "('slave_parallel_type', 'LOGICAL_CLOCK')\n",
      "('slave_parallel_workers', '4')\n",
      "('slave_pending_jobs_size_max', '134217728')\n",
      "('slave_preserve_commit_order', 'ON')\n",
      "('slave_rows_search_algorithms', 'INDEX_SCAN,HASH_SCAN')\n",
      "('slave_skip_errors', 'OFF')\n",
      "('slave_sql_verify_checksum', 'ON')\n",
      "('slave_transaction_retries', '10')\n",
      "('slave_type_conversions', '')\n",
      "('slow_launch_time', '2')\n",
      "('slow_query_log', 'ON')\n",
      "('slow_query_log_file', 'DESKTOP-LBP05L6-slow.log')\n",
      "('socket', 'MySQL')\n",
      "('sort_buffer_size', '262144')\n",
      "('source_verify_checksum', 'OFF')\n",
      "('sql_auto_is_null', 'OFF')\n",
      "('sql_big_selects', 'ON')\n",
      "('sql_buffer_result', 'OFF')\n",
      "('sql_generate_invisible_primary_key', 'OFF')\n",
      "('sql_log_bin', 'ON')\n",
      "('sql_log_off', 'OFF')\n",
      "('sql_mode', 'ONLY_FULL_GROUP_BY,STRICT_TRANS_TABLES,NO_ZERO_IN_DATE,NO_ZERO_DATE,ERROR_FOR_DIVISION_BY_ZERO,NO_ENGINE_SUBSTITUTION')\n",
      "('sql_notes', 'ON')\n",
      "('sql_quote_show_create', 'ON')\n",
      "('sql_replica_skip_counter', '0')\n",
      "('sql_require_primary_key', 'OFF')\n",
      "('sql_safe_updates', 'OFF')\n",
      "('sql_select_limit', '18446744073709551615')\n",
      "('sql_slave_skip_counter', '0')\n",
      "('sql_warnings', 'OFF')\n",
      "('ssl_ca', 'ca.pem')\n",
      "('ssl_capath', '')\n",
      "('ssl_cert', 'server-cert.pem')\n",
      "('ssl_cipher', '')\n",
      "('ssl_crl', '')\n",
      "('ssl_crlpath', '')\n",
      "('ssl_fips_mode', 'OFF')\n",
      "('ssl_key', 'server-key.pem')\n",
      "('ssl_session_cache_mode', 'ON')\n",
      "('ssl_session_cache_timeout', '300')\n",
      "('statement_id', '69')\n",
      "('stored_program_cache', '256')\n",
      "('stored_program_definition_cache', '256')\n",
      "('super_read_only', 'OFF')\n",
      "('sync_binlog', '1')\n",
      "('sync_master_info', '10000')\n",
      "('sync_relay_log', '10000')\n",
      "('sync_relay_log_info', '10000')\n",
      "('sync_source_info', '10000')\n",
      "('system_time_zone', 'Hora oficial do Brasil')\n",
      "('table_definition_cache', '2000')\n",
      "('table_encryption_privilege_check', 'OFF')\n",
      "('table_open_cache', '4000')\n",
      "('table_open_cache_instances', '16')\n",
      "('tablespace_definition_cache', '256')\n",
      "('temptable_max_mmap', '1073741824')\n",
      "('temptable_max_ram', '1073741824')\n",
      "('temptable_use_mmap', 'ON')\n",
      "('terminology_use_previous', 'NONE')\n",
      "('thread_cache_size', '9')\n",
      "('thread_handling', 'one-thread-per-connection')\n",
      "('thread_stack', '1048576')\n",
      "('time_zone', 'SYSTEM')\n",
      "('timestamp', '1741552748.329042')\n",
      "('tls_ciphersuites', '')\n",
      "('tls_version', 'TLSv1.2,TLSv1.3')\n",
      "('tmp_table_size', '6291456')\n",
      "('tmpdir', 'C:\\\\WINDOWS\\\\SERVIC~1\\\\NETWOR~1\\\\AppData\\\\Local\\\\Temp')\n",
      "('transaction_alloc_block_size', '8192')\n",
      "('transaction_allow_batching', 'OFF')\n",
      "('transaction_isolation', 'REPEATABLE-READ')\n",
      "('transaction_prealloc_size', '4096')\n",
      "('transaction_read_only', 'OFF')\n",
      "('transaction_write_set_extraction', 'XXHASH64')\n",
      "('unique_checks', 'ON')\n",
      "('updatable_views_with_limit', 'YES')\n",
      "('use_secondary_engine', 'ON')\n",
      "('version', '8.0.41')\n",
      "('version_comment', 'MySQL Community Server - GPL')\n",
      "('version_compile_machine', 'x86_64')\n",
      "('version_compile_os', 'Win64')\n",
      "('version_compile_zlib', '1.3.1')\n",
      "('wait_timeout', '28800')\n",
      "('warning_count', '0')\n",
      "('windowing_use_high_precision', 'ON')\n",
      "('xa_detach_on_prepare', 'ON')\n"
     ]
    }
   ],
   "source": [
    "db(\"SHOW VARIABLES\")"
   ]
  },
  {
   "cell_type": "markdown",
   "metadata": {},
   "source": [
    "Para descobrir o valor de uma variável específica, use a cláusula `WHERE`:"
   ]
  },
  {
   "cell_type": "code",
   "execution_count": 26,
   "metadata": {},
   "outputs": [
    {
     "name": "stdout",
     "output_type": "stream",
     "text": [
      "Executando query:\n",
      "('version', '8.0.41')\n"
     ]
    }
   ],
   "source": [
    "db(\"SHOW VARIABLES WHERE Variable_name = 'version'\")"
   ]
  },
  {
   "cell_type": "markdown",
   "metadata": {},
   "source": [
    "Para listar todas as variáveis com \"dir\" no nome:"
   ]
  },
  {
   "cell_type": "code",
   "execution_count": 27,
   "metadata": {},
   "outputs": [
    {
     "name": "stdout",
     "output_type": "stream",
     "text": [
      "Executando query:\n",
      "('basedir', 'C:\\\\Program Files\\\\MySQL\\\\MySQL Server 8.0\\\\')\n",
      "('binlog_direct_non_transactional_updates', 'OFF')\n",
      "('character_sets_dir', 'C:\\\\Program Files\\\\MySQL\\\\MySQL Server 8.0\\\\share\\\\charsets\\\\')\n",
      "('datadir', 'C:\\\\ProgramData\\\\MySQL\\\\MySQL Server 8.0\\\\Data\\\\')\n",
      "('innodb_data_home_dir', '')\n",
      "('innodb_directories', '')\n",
      "('innodb_doublewrite_dir', '')\n",
      "('innodb_log_group_home_dir', '.\\\\')\n",
      "('innodb_max_dirty_pages_pct', '90.000000')\n",
      "('innodb_max_dirty_pages_pct_lwm', '10.000000')\n",
      "('innodb_redo_log_archive_dirs', '')\n",
      "('innodb_temp_tablespaces_dir', '.\\\\#innodb_temp\\\\')\n",
      "('innodb_tmpdir', '')\n",
      "('innodb_undo_directory', '.\\\\')\n",
      "('lc_messages_dir', 'C:\\\\Program Files\\\\MySQL\\\\MySQL Server 8.0\\\\share\\\\')\n",
      "('plugin_dir', 'C:\\\\Program Files\\\\MySQL\\\\MySQL Server 8.0\\\\lib\\\\plugin\\\\')\n",
      "('replica_load_tmpdir', 'C:\\\\WINDOWS\\\\SERVIC~1\\\\NETWOR~1\\\\AppData\\\\Local\\\\Temp')\n",
      "('slave_load_tmpdir', 'C:\\\\WINDOWS\\\\SERVIC~1\\\\NETWOR~1\\\\AppData\\\\Local\\\\Temp')\n",
      "('tmpdir', 'C:\\\\WINDOWS\\\\SERVIC~1\\\\NETWOR~1\\\\AppData\\\\Local\\\\Temp')\n"
     ]
    }
   ],
   "source": [
    "db(\"SHOW VARIABLES WHERE Variable_name LIKE '%dir%'\")"
   ]
  },
  {
   "cell_type": "markdown",
   "metadata": {},
   "source": [
    "Observe a variável `datadir`: ela contém o diretório onde o MySQL armazena nossos dados. Por exemplo no Windows: `C:\\ProgramData\\MySQL\\MySQL Server 8.0\\Data\\`\n",
    "\n",
    "<center><img src='imgs/datadir.png'/></center>\n",
    "\n",
    "Note que esse diretório também tem várias chaves criptográficas! Uma vez que o acesso físico ao seu servidor for comprometido, você pode perder completamente o controle, pois o invasor agora tem até mesmo as chaves de acesso!\n",
    "\n",
    "Dentro do diretório `torneio` temos nossa base de dados no disco:\n",
    "\n",
    "<center><img src='imgs/torneio.png'/></center>\n"
   ]
  },
  {
   "cell_type": "markdown",
   "metadata": {},
   "source": [
    "## Carregando dados em massa\n",
    "\n",
    "Se você tem um arquivo com vários itens de dados, o melhor jeito de inserí-los no banco de dados é usar os comandos de carga de dados do seu SGBD preferido. No MySQL, veja a documentação do comando `LOAD DATA` em https://dev.mysql.com/doc/refman/8.0/en/load-data.html\n",
    "\n",
    "Daqui para frente acostume-se a consultar a documentação de todo novo comando que você descobrir!\n",
    "\n",
    "# `UPDATE`\n",
    "\n",
    "Vamos alterar informações na nossa base. Para isso vamos usar o comando `UPDATE`. \n",
    "\n",
    "Suponha que desejamos alterar o grito de guerra da equipe \"Raposas Nerds\" de 'sudo vencer!' para 'sudo vencer --force!':"
   ]
  },
  {
   "cell_type": "code",
   "execution_count": 28,
   "metadata": {},
   "outputs": [
    {
     "name": "stdout",
     "output_type": "stream",
     "text": [
      "Executando query:\n"
     ]
    }
   ],
   "source": [
    "db(\"UPDATE equipe SET grito='sudo vencer --force!' WHERE nome='Raposas Nerds'\")"
   ]
  },
  {
   "cell_type": "markdown",
   "metadata": {},
   "source": [
    "Verificando o resultado:"
   ]
  },
  {
   "cell_type": "code",
   "execution_count": 29,
   "metadata": {},
   "outputs": [
    {
     "name": "stdout",
     "output_type": "stream",
     "text": [
      "Executando query:\n",
      "('É nois', 'Olha eu mamãe!')\n",
      "('Raposas Nerds', 'sudo vencer --force!')\n"
     ]
    }
   ],
   "source": [
    "db(\"SELECT * from equipe\")"
   ]
  },
  {
   "cell_type": "markdown",
   "metadata": {},
   "source": [
    "**Atividade:** Passe o \"Rafael Montaigner\" para o time \"É nois\"."
   ]
  },
  {
   "cell_type": "code",
   "execution_count": 30,
   "metadata": {},
   "outputs": [
    {
     "name": "stdout",
     "output_type": "stream",
     "text": [
      "Executando query:\n",
      "(2, 'Raposas Nerds', 'Raul Ayres', 0)\n",
      "(3, 'Raposas Nerds', 'Luciano Hashimoto', 1)\n",
      "(4, 'É nois', 'Rafael Montaigner', 2)\n",
      "(5, 'É nois', 'Igor Miranda', 2)\n",
      "(6, 'É nois', 'Andrew Gomes da Silva', 1)\n",
      "(9, 'Raposas Nerds', 'Raul Ayres', 0)\n",
      "(10, 'Raposas Nerds', 'Luciano Hashimoto', 1)\n",
      "(11, 'Raposas Nerds', 'Rafael Montaigner', 2)\n",
      "(12, 'É nois', 'Igor Miranda', 2)\n",
      "(13, 'É nois', 'Andrew Ikeda', 1)\n",
      "(14, 'É nois', 'Fábio Kurauchi', 0)\n"
     ]
    }
   ],
   "source": [
    "db(\"SELECT * FROM jogador\")"
   ]
  },
  {
   "cell_type": "code",
   "execution_count": 31,
   "metadata": {},
   "outputs": [
    {
     "name": "stdout",
     "output_type": "stream",
     "text": [
      "Executando query:\n"
     ]
    }
   ],
   "source": [
    "# Responda aqui!\n",
    "db(\"UPDATE jogador SET nome_equipe='É nois' where nome='Rafael Montaigner'\")"
   ]
  },
  {
   "cell_type": "code",
   "execution_count": 32,
   "metadata": {},
   "outputs": [
    {
     "name": "stdout",
     "output_type": "stream",
     "text": [
      "Executando query:\n",
      "(2, 'Raposas Nerds', 'Raul Ayres', 0)\n",
      "(3, 'Raposas Nerds', 'Luciano Hashimoto', 1)\n",
      "(4, 'É nois', 'Rafael Montaigner', 2)\n",
      "(5, 'É nois', 'Igor Miranda', 2)\n",
      "(6, 'É nois', 'Andrew Gomes da Silva', 1)\n",
      "(9, 'Raposas Nerds', 'Raul Ayres', 0)\n",
      "(10, 'Raposas Nerds', 'Luciano Hashimoto', 1)\n",
      "(11, 'É nois', 'Rafael Montaigner', 2)\n",
      "(12, 'É nois', 'Igor Miranda', 2)\n",
      "(13, 'É nois', 'Andrew Ikeda', 1)\n",
      "(14, 'É nois', 'Fábio Kurauchi', 0)\n"
     ]
    }
   ],
   "source": [
    "db(\"SELECT * FROM jogador\")"
   ]
  },
  {
   "cell_type": "markdown",
   "metadata": {},
   "source": [
    "**Atividade:** Tente mudar o nome de \"Andrew Ikeda\" para \"Andrew Gomes da Silva\". O que aconteceu?"
   ]
  },
  {
   "cell_type": "code",
   "execution_count": 33,
   "metadata": {},
   "outputs": [
    {
     "name": "stdout",
     "output_type": "stream",
     "text": [
      "Executando query:\n"
     ]
    }
   ],
   "source": [
    "# Responda aqui!\n",
    "db(\"UPDATE jogador SET nome='Andrew Gomes da Silva' where nome='Andrew Ikeda'\")"
   ]
  },
  {
   "cell_type": "code",
   "execution_count": 34,
   "metadata": {},
   "outputs": [
    {
     "name": "stdout",
     "output_type": "stream",
     "text": [
      "Executando query:\n",
      "(2, 'Raposas Nerds', 'Raul Ayres', 0)\n",
      "(3, 'Raposas Nerds', 'Luciano Hashimoto', 1)\n",
      "(4, 'É nois', 'Rafael Montaigner', 2)\n",
      "(5, 'É nois', 'Igor Miranda', 2)\n",
      "(6, 'É nois', 'Andrew Gomes da Silva', 1)\n",
      "(9, 'Raposas Nerds', 'Raul Ayres', 0)\n",
      "(10, 'Raposas Nerds', 'Luciano Hashimoto', 1)\n",
      "(11, 'É nois', 'Rafael Montaigner', 2)\n",
      "(12, 'É nois', 'Igor Miranda', 2)\n",
      "(13, 'É nois', 'Andrew Gomes da Silva', 1)\n",
      "(14, 'É nois', 'Fábio Kurauchi', 0)\n"
     ]
    }
   ],
   "source": [
    "db(\"SELECT * FROM jogador\")"
   ]
  },
  {
   "cell_type": "markdown",
   "metadata": {},
   "source": [
    "**Atividade:** Tente agora mudar o nome do time \"É nois\" para \"Somos nos\". O que aconteceu?"
   ]
  },
  {
   "cell_type": "code",
   "execution_count": 35,
   "metadata": {},
   "outputs": [
    {
     "name": "stdout",
     "output_type": "stream",
     "text": [
      "Executando query:\n"
     ]
    }
   ],
   "source": [
    "# Responda aqui!\n",
    "db(\"UPDATE equipe SET nome='Somos nos' where nome='É nois'\")"
   ]
  },
  {
   "cell_type": "code",
   "execution_count": 36,
   "metadata": {},
   "outputs": [
    {
     "name": "stdout",
     "output_type": "stream",
     "text": [
      "Executando query:\n",
      "('Raposas Nerds', 'sudo vencer --force!')\n",
      "('Somos nos', 'Olha eu mamãe!')\n"
     ]
    }
   ],
   "source": [
    "db(\"SELECT * FROM equipe\")"
   ]
  },
  {
   "cell_type": "markdown",
   "metadata": {},
   "source": [
    "## `COMMIT` e `ROLLBACK`\n",
    "\n",
    "Note que as ultimas atividades (de `UPDATE`) foram feitas sem executar `connection.commit()`. Neste caso todas as modificações realizadas ainda não foram registradas no banco de dados! Estas mudanças existem apenas na nossa *sessão*. Vamos verificar esse fenômeno. Primeiro vamos ver o estado das nossas tabelas:"
   ]
  },
  {
   "cell_type": "code",
   "execution_count": 37,
   "metadata": {},
   "outputs": [
    {
     "name": "stdout",
     "output_type": "stream",
     "text": [
      "Executando query:\n",
      "(2, 'Raposas Nerds', 'Raul Ayres', 0)\n",
      "(3, 'Raposas Nerds', 'Luciano Hashimoto', 1)\n",
      "(4, 'Somos nos', 'Rafael Montaigner', 2)\n",
      "(5, 'Somos nos', 'Igor Miranda', 2)\n",
      "(6, 'Somos nos', 'Andrew Gomes da Silva', 1)\n",
      "(9, 'Raposas Nerds', 'Raul Ayres', 0)\n",
      "(10, 'Raposas Nerds', 'Luciano Hashimoto', 1)\n",
      "(11, 'Somos nos', 'Rafael Montaigner', 2)\n",
      "(12, 'Somos nos', 'Igor Miranda', 2)\n",
      "(13, 'Somos nos', 'Andrew Gomes da Silva', 1)\n",
      "(14, 'Somos nos', 'Fábio Kurauchi', 0)\n"
     ]
    }
   ],
   "source": [
    "db(\"SELECT * FROM jogador\")"
   ]
  },
  {
   "cell_type": "code",
   "execution_count": 38,
   "metadata": {},
   "outputs": [
    {
     "name": "stdout",
     "output_type": "stream",
     "text": [
      "Executando query:\n",
      "('Raposas Nerds', 'sudo vencer --force!')\n",
      "('Somos nos', 'Olha eu mamãe!')\n"
     ]
    }
   ],
   "source": [
    "db(\"SELECT * FROM equipe\")"
   ]
  },
  {
   "cell_type": "markdown",
   "metadata": {},
   "source": [
    "Agora vamos verificar o estado do banco de dados lá no MySQL Workbench:\n",
    "\n",
    "<center><img src='imgs/equipes.png'/></center>\n",
    "\n",
    "<center><img src='imgs/jogadores.png'/></center>\n",
    "\n",
    "Está diferente! Isso acontece porque as mudanças da nossa sessão ainda não foram *committed*, não foram registradas em definitivo. Para registrar as mudanças você pode executar o comando `connection.commit()`, ou equivalentemente rodar o comando SQL `COMMIT`. Se você se arrependeu das mudanças realizadas na sessão, jogue elas fora com o comando `connection.rollback()` ou equivalentemente o comando SQL `ROLLBACK`.\n",
    "\n",
    "Vamos então concretizar nossas mudanças:"
   ]
  },
  {
   "cell_type": "code",
   "execution_count": null,
   "metadata": {},
   "outputs": [],
   "source": [
    "connection.commit()\n",
    "# ou então db(\"COMMIT\"), é a mesma coisa."
   ]
  },
  {
   "cell_type": "markdown",
   "metadata": {},
   "source": [
    "Agora vamos verificar lá no MySQL Workbench:\n",
    "\n",
    "<center><img src='imgs/equipes2.png'/></center>\n",
    "\n",
    "<center><img src='imgs/jogadores2.png'/></center>"
   ]
  },
  {
   "cell_type": "markdown",
   "metadata": {},
   "source": [
    "Podemos constatar que as mudanças feitas na nossa sessão agora são visíveis na outra sessão (a do MySQL Workbench). Vamos revisitar futuramente os comandos `COMMIT` e `ROLLBACK` na aula de transações SQL."
   ]
  },
  {
   "cell_type": "markdown",
   "metadata": {},
   "source": [
    "## `DELETE`"
   ]
  },
  {
   "cell_type": "markdown",
   "metadata": {},
   "source": [
    "Vamos remover o 'Fábio Kurauchi' da tabela `jogador`"
   ]
  },
  {
   "cell_type": "code",
   "execution_count": 39,
   "metadata": {},
   "outputs": [
    {
     "name": "stdout",
     "output_type": "stream",
     "text": [
      "Executando query:\n"
     ]
    }
   ],
   "source": [
    "try:\n",
    "    db(\"DELETE FROM jogador WHERE nome='Fábio Kurauchi'\")\n",
    "    connection.commit()\n",
    "except Exception as e:\n",
    "    print(f\"{type(e)}: {e}\")\n",
    "    connection.rollback()"
   ]
  },
  {
   "cell_type": "markdown",
   "metadata": {},
   "source": [
    "Verificando o resultado:"
   ]
  },
  {
   "cell_type": "code",
   "execution_count": 40,
   "metadata": {},
   "outputs": [
    {
     "name": "stdout",
     "output_type": "stream",
     "text": [
      "Executando query:\n",
      "(2, 'Raposas Nerds', 'Raul Ayres', 0)\n",
      "(3, 'Raposas Nerds', 'Luciano Hashimoto', 1)\n",
      "(4, 'Somos nos', 'Rafael Montaigner', 2)\n",
      "(5, 'Somos nos', 'Igor Miranda', 2)\n",
      "(6, 'Somos nos', 'Andrew Gomes da Silva', 1)\n",
      "(9, 'Raposas Nerds', 'Raul Ayres', 0)\n",
      "(10, 'Raposas Nerds', 'Luciano Hashimoto', 1)\n",
      "(11, 'Somos nos', 'Rafael Montaigner', 2)\n",
      "(12, 'Somos nos', 'Igor Miranda', 2)\n",
      "(13, 'Somos nos', 'Andrew Gomes da Silva', 1)\n"
     ]
    }
   ],
   "source": [
    "db(\"SELECT * FROM jogador\")"
   ]
  },
  {
   "cell_type": "markdown",
   "metadata": {},
   "source": [
    "**Atividade:** Remova da tabela de jogadores todos aqueles que preferem jogar cowboy."
   ]
  },
  {
   "cell_type": "code",
   "execution_count": null,
   "metadata": {},
   "outputs": [
    {
     "data": {
      "text/plain": [
       "1"
      ]
     },
     "execution_count": 55,
     "metadata": {},
     "output_type": "execute_result"
    }
   ],
   "source": [
    "COWBOY"
   ]
  },
  {
   "cell_type": "code",
   "execution_count": null,
   "metadata": {},
   "outputs": [
    {
     "name": "stdout",
     "output_type": "stream",
     "text": [
      "Executando query:\n"
     ]
    }
   ],
   "source": [
    "# Responda aqui!\n",
    "db(f\"DELETE FROM jogador WHERE preferencia={COWBOY}\")"
   ]
  },
  {
   "cell_type": "code",
   "execution_count": null,
   "metadata": {},
   "outputs": [
    {
     "name": "stdout",
     "output_type": "stream",
     "text": [
      "Executando query:\n",
      "(2, 'Raposas Nerds', 'Raul Ayres', 0)\n",
      "(4, 'É nois', 'Rafael Montaigner', 2)\n",
      "(5, 'É nois', 'Igor Miranda', 2)\n"
     ]
    }
   ],
   "source": [
    "db(\"SELECT * FROM jogador\")"
   ]
  },
  {
   "cell_type": "markdown",
   "metadata": {},
   "source": [
    "Agora vamos tentar remover o time 'É nois':"
   ]
  },
  {
   "cell_type": "code",
   "execution_count": null,
   "metadata": {},
   "outputs": [
    {
     "name": "stdout",
     "output_type": "stream",
     "text": [
      "Executando query:\n",
      "<class 'mysql.connector.errors.IntegrityError'>: 1451 (23000): Cannot delete or update a parent row: a foreign key constraint fails (`torneio`.`jogador`, CONSTRAINT `jogador_ibfk_1` FOREIGN KEY (`nome_equipe`) REFERENCES `equipe` (`nome`))\n"
     ]
    }
   ],
   "source": [
    "try:\n",
    "    db(\"DELETE FROM equipe WHERE nome='É nois'\")\n",
    "    connection.commit()\n",
    "except Exception as e:\n",
    "    print(f\"{type(e)}: {e}\")\n",
    "    connection.rollback()"
   ]
  },
  {
   "cell_type": "markdown",
   "metadata": {},
   "source": [
    "Novamente o malfadado erro `IntegrityError`. Isso acontece porque o SGBD está fazendo exatamente o que você pediu: garantindo a integridade dos dados! Afinal, se removermos a equipe `'É nois'`, o que fazemos com as linhas da tabela-filha que referenciam esse registro?\n",
    "\n",
    "A restrição de chave estrangeira no nome da equipe (em `script_001.sql` ela foi chamada de `fk_equipe`) especifica, implicitamente, que a ação de apagar um registro deve ser bloqueada se impactar tabelas filhas. Podemos mudar essa restrição.\n",
    "\n",
    "## `ON UPDATE / ON DELETE`\n",
    "\n",
    "Vamos reescrever a restrição de chave estrangeira. Copie o script a seguir para `script_002.sql`.\n",
    "\n",
    "```mysql\n",
    "USE torneio;\n",
    "\n",
    "ALTER TABLE jogador\n",
    "    DROP FOREIGN KEY fk_equipe;\n",
    "\n",
    "ALTER TABLE jogador\n",
    "    ADD CONSTRAINT fk_equipe FOREIGN KEY (nome_equipe) REFERENCES equipe (nome)\n",
    "    ON DELETE CASCADE\n",
    "    ON UPDATE CASCADE;\n",
    "\n",
    "```"
   ]
  },
  {
   "cell_type": "markdown",
   "metadata": {},
   "source": [
    "Feche a conexão atual com o banco de dados: ela está bloqueando alterações no schema. Não se esqueça de efetivar as modificações passadas com `commit()`, se elas não foram *committed* até o momento:"
   ]
  },
  {
   "cell_type": "code",
   "execution_count": null,
   "metadata": {},
   "outputs": [],
   "source": [
    "connection.commit()\n",
    "connection.close()"
   ]
  },
  {
   "cell_type": "markdown",
   "metadata": {},
   "source": [
    "Agora rode `script_002.sql` no MySQL Workbench. Se tudo deu certo você deve observar a mudança de ação na restrição de chave estrageira:\n",
    "\n",
    "<center><img src='imgs/cascade.png'/></center>\n",
    "\n",
    "Reabra a conexão e recrie o *helper*"
   ]
  },
  {
   "cell_type": "code",
   "execution_count": 43,
   "metadata": {},
   "outputs": [],
   "source": [
    "connection = mysql.connector.connect(**connection_options)\n",
    "db = ConnectionHelper(connection)"
   ]
  },
  {
   "cell_type": "markdown",
   "metadata": {},
   "source": [
    "Vamos agora tentar mudar o nome da equipe 'É nois' para 'Somos nós':"
   ]
  },
  {
   "cell_type": "code",
   "execution_count": null,
   "metadata": {},
   "outputs": [
    {
     "name": "stdout",
     "output_type": "stream",
     "text": [
      "Executando query:\n"
     ]
    }
   ],
   "source": [
    "db(\"UPDATE equipe SET nome='Somos nós' WHERE nome='É nois'\")"
   ]
  },
  {
   "cell_type": "markdown",
   "metadata": {},
   "source": [
    "Verificando o resultado:"
   ]
  },
  {
   "cell_type": "code",
   "execution_count": null,
   "metadata": {},
   "outputs": [
    {
     "name": "stdout",
     "output_type": "stream",
     "text": [
      "Executando query:\n",
      "('Raposas Nerds', 'sudo vencer --force!')\n",
      "('Somos nós', 'Olha eu mamãe!')\n"
     ]
    }
   ],
   "source": [
    "db(\"SELECT * from equipe\")"
   ]
  },
  {
   "cell_type": "markdown",
   "metadata": {},
   "source": [
    "Vamos verificar o que aconteceu com a tabela `jogador`"
   ]
  },
  {
   "cell_type": "code",
   "execution_count": null,
   "metadata": {},
   "outputs": [
    {
     "name": "stdout",
     "output_type": "stream",
     "text": [
      "Executando query:\n",
      "(2, 'Raposas Nerds', 'Raul Ayres', 0)\n",
      "(3, 'Raposas Nerds', 'Luciano Hashimoto', 1)\n",
      "(4, 'Somos nós', 'Rafael Montaigner', 2)\n",
      "(5, 'Somos nós', 'Igor Miranda', 2)\n",
      "(6, 'Somos nós', 'Andrew Gomes da Silva', 1)\n"
     ]
    }
   ],
   "source": [
    "db(\"SELECT * FROM jogador\")"
   ]
  },
  {
   "cell_type": "markdown",
   "metadata": {},
   "source": [
    "Como você pode ver, a mudança de nome foi devidamente propagada, cortesia do `ON UPDATE CASCADE`.\n",
    "\n",
    "Já o `ON DELETE CASCADE` é mais bruto. Vamos remover o time 'Somos nós':"
   ]
  },
  {
   "cell_type": "code",
   "execution_count": null,
   "metadata": {},
   "outputs": [
    {
     "name": "stdout",
     "output_type": "stream",
     "text": [
      "Executando query:\n"
     ]
    }
   ],
   "source": [
    "db(\"DELETE FROM equipe WHERE nome='Somos nós'\")"
   ]
  },
  {
   "cell_type": "code",
   "execution_count": null,
   "metadata": {},
   "outputs": [
    {
     "name": "stdout",
     "output_type": "stream",
     "text": [
      "Executando query:\n",
      "('Raposas Nerds', 'sudo vencer --force!')\n"
     ]
    }
   ],
   "source": [
    "db(\"SELECT * from equipe\")"
   ]
  },
  {
   "cell_type": "markdown",
   "metadata": {},
   "source": [
    "Ok. E os jogadores?"
   ]
  },
  {
   "cell_type": "code",
   "execution_count": null,
   "metadata": {},
   "outputs": [
    {
     "name": "stdout",
     "output_type": "stream",
     "text": [
      "Executando query:\n",
      "(2, 'Raposas Nerds', 'Raul Ayres', 0)\n",
      "(3, 'Raposas Nerds', 'Luciano Hashimoto', 1)\n"
     ]
    }
   ],
   "source": [
    "db(\"SELECT * FROM jogador\")"
   ]
  },
  {
   "cell_type": "markdown",
   "metadata": {},
   "source": [
    "A ação `CASCADE` associada ao evento `ON DELETE` acabou por limpar a tabela `jogador` tambem.\n",
    "\n",
    "Vamos cancelar todas essas ações com o comando `rollback()`, que é o oposto de `commit()`"
   ]
  },
  {
   "cell_type": "code",
   "execution_count": null,
   "metadata": {},
   "outputs": [],
   "source": [
    "connection.rollback()"
   ]
  },
  {
   "cell_type": "markdown",
   "metadata": {},
   "source": [
    "Verificando se deu certo:"
   ]
  },
  {
   "cell_type": "code",
   "execution_count": null,
   "metadata": {},
   "outputs": [
    {
     "name": "stdout",
     "output_type": "stream",
     "text": [
      "Executando query:\n",
      "(2, 'Raposas Nerds', 'Raul Ayres', 0)\n",
      "(3, 'Raposas Nerds', 'Luciano Hashimoto', 1)\n",
      "(4, 'É nois', 'Rafael Montaigner', 2)\n",
      "(5, 'É nois', 'Igor Miranda', 2)\n",
      "(6, 'É nois', 'Andrew Gomes da Silva', 1)\n"
     ]
    }
   ],
   "source": [
    "db(\"SELECT * FROM jogador\")"
   ]
  },
  {
   "cell_type": "markdown",
   "metadata": {},
   "source": [
    "**Atividade:** Alem de `CASCADE` e `RESTRICT` existem outros especificadores de ação. Ache a URL da documentação que mostra essas opções."
   ]
  },
  {
   "cell_type": "markdown",
   "metadata": {},
   "source": [
    "<div class=\"alert alert-success\">\n",
    "\n",
    "Sua resposta aqui! Dê dois cliques e edite.\n",
    "    \n",
    "    Escreva AQUI!\n",
    "\n",
    "</div>"
   ]
  },
  {
   "cell_type": "markdown",
   "metadata": {},
   "source": [
    "## `REPLACE` = `DELETE` + `INSERT`\n",
    "\n",
    "O comando `REPLACE` lembra um pouco o comando `UPDATE`, e é aí que mora o perigo! `REPLACE` é na verdade uma combinação de `DELETE` seguido de `INSERT`. Vamos exemplificar: suponha que eu quero atualizar o grito do time 'É nois' para 'Vai dar ruim!', mas ao invés de usar o `UPDATE` resolvi usar o `REPLACE`:"
   ]
  },
  {
   "cell_type": "code",
   "execution_count": null,
   "metadata": {},
   "outputs": [
    {
     "name": "stdout",
     "output_type": "stream",
     "text": [
      "Executando query:\n",
      "('É nois', 'Olha eu mamãe!')\n",
      "('Raposas Nerds', 'sudo vencer --force!')\n",
      "Executando query:\n",
      "(2, 'Raposas Nerds', 'Raul Ayres', 0)\n",
      "(3, 'Raposas Nerds', 'Luciano Hashimoto', 1)\n",
      "(4, 'É nois', 'Rafael Montaigner', 2)\n",
      "(5, 'É nois', 'Igor Miranda', 2)\n",
      "(6, 'É nois', 'Andrew Gomes da Silva', 1)\n"
     ]
    }
   ],
   "source": [
    "db(\"SELECT * from equipe\")\n",
    "db(\"SELECT * from jogador\")"
   ]
  },
  {
   "cell_type": "code",
   "execution_count": null,
   "metadata": {},
   "outputs": [
    {
     "name": "stdout",
     "output_type": "stream",
     "text": [
      "Executando query:\n"
     ]
    }
   ],
   "source": [
    "db(\"REPLACE INTO equipe VALUES ('É nois', 'Vai dar ruim!')\")"
   ]
  },
  {
   "cell_type": "code",
   "execution_count": null,
   "metadata": {},
   "outputs": [
    {
     "name": "stdout",
     "output_type": "stream",
     "text": [
      "Executando query:\n",
      "('É nois', 'Vai dar ruim!')\n",
      "('Raposas Nerds', 'sudo vencer --force!')\n"
     ]
    }
   ],
   "source": [
    "db(\"SELECT * from equipe\")"
   ]
  },
  {
   "cell_type": "code",
   "execution_count": null,
   "metadata": {},
   "outputs": [
    {
     "name": "stdout",
     "output_type": "stream",
     "text": [
      "Executando query:\n",
      "(2, 'Raposas Nerds', 'Raul Ayres', 0)\n",
      "(3, 'Raposas Nerds', 'Luciano Hashimoto', 1)\n"
     ]
    }
   ],
   "source": [
    "db(\"SELECT * from jogador\")"
   ]
  },
  {
   "cell_type": "markdown",
   "metadata": {},
   "source": [
    "Aparentemente deu ruim!\n",
    "\n",
    "**Atividade:** Explique"
   ]
  },
  {
   "cell_type": "markdown",
   "metadata": {},
   "source": [
    "<div class=\"alert alert-success\">\n",
    "\n",
    "Sua resposta aqui! Dê dois cliques e edite.\n",
    "    \n",
    "    Escreva AQUI!\n",
    "\n",
    "</div>"
   ]
  },
  {
   "cell_type": "markdown",
   "metadata": {},
   "source": [
    "Ufa, por hoje é só! Feche a conexão e até a próxima aula!"
   ]
  },
  {
   "cell_type": "code",
   "execution_count": 44,
   "metadata": {},
   "outputs": [],
   "source": [
    "connection.rollback()\n",
    "connection.close()"
   ]
  },
  {
   "cell_type": "markdown",
   "metadata": {},
   "source": [
    "## Atividade para prática de DML\n",
    "\n",
    "Faça a atividade para prática de DML.\n",
    "\n",
    "### Conferindo a API de Autograding\n",
    "\n",
    "#### Tarefas e Notas\n",
    "Vamos conferir as tarefas e notas"
   ]
  },
  {
   "cell_type": "code",
   "execution_count": 45,
   "metadata": {
    "scrolled": true
   },
   "outputs": [
    {
     "data": {
      "text/markdown": [
       "|    | Atividade   | De                  | Até                 |\n",
       "|---:|:------------|:--------------------|:--------------------|\n",
       "|  0 | newborn     | 2025-02-01 00:00:00 | 2025-05-30 00:00:00 |\n",
       "|  1 | select01    | 2025-02-05 00:00:00 | 2025-02-15 23:59:59 |\n",
       "|  2 | ddl         | 2025-02-19 00:00:00 | 2025-02-26 23:59:59 |\n",
       "|  3 | dml         | 2025-02-24 00:00:00 | 2025-03-09 23:59:59 |\n",
       "|  4 | agg_join    | 2025-02-26 00:00:00 | 2025-03-09 23:59:59 |"
      ],
      "text/plain": [
       "<IPython.core.display.Markdown object>"
      ]
     },
     "metadata": {},
     "output_type": "display_data"
    }
   ],
   "source": [
    "ia.tasks()"
   ]
  },
  {
   "cell_type": "code",
   "execution_count": 46,
   "metadata": {},
   "outputs": [
    {
     "data": {
      "text/markdown": [
       "|    | Atividade   | Exercício   |   Peso |   Nota |\n",
       "|---:|:------------|:------------|-------:|-------:|\n",
       "|  0 | dml         | ex01        |      1 |     10 |\n",
       "|  1 | dml         | ex02        |      1 |     10 |\n",
       "|  2 | dml         | ex03        |      1 |     10 |\n",
       "|  3 | dml         | ex04        |      1 |     10 |\n",
       "|  4 | dml         | ex05        |      1 |      0 |\n",
       "|  5 | dml         | ex06        |      1 |      0 |"
      ],
      "text/plain": [
       "<IPython.core.display.Markdown object>"
      ]
     },
     "metadata": {},
     "output_type": "display_data"
    }
   ],
   "source": [
    "ia.grades(task=\"dml\")"
   ]
  },
  {
   "cell_type": "code",
   "execution_count": 47,
   "metadata": {},
   "outputs": [
    {
     "data": {
      "text/markdown": [
       "|    | Tarefa   |   Nota |\n",
       "|---:|:---------|-------:|\n",
       "|  0 | agg_join |   0    |\n",
       "|  1 | ddl      |  10    |\n",
       "|  2 | dml      |   6.67 |\n",
       "|  3 | newborn  |  10    |\n",
       "|  4 | select01 |  10    |"
      ],
      "text/plain": [
       "<IPython.core.display.Markdown object>"
      ]
     },
     "metadata": {},
     "output_type": "display_data"
    }
   ],
   "source": [
    "ia.grades(by=\"TASK\")"
   ]
  },
  {
   "cell_type": "markdown",
   "metadata": {},
   "source": [
    "### Criar Base de Dados\n",
    "\n",
    "Vamos começar pela criação da base de dados. Ela deverá se chamar `vendinha`.\n",
    "\n",
    "<img src=\"imgs/vendinha.png\">\n",
    "\n",
    "<div class=\"alert alert-info\">\n",
    "\n",
    "Execute no workbench o script `vendinha.sql` disponibilizado pelo professor.\n",
    "    \n",
    "</div>"
   ]
  },
  {
   "cell_type": "code",
   "execution_count": 48,
   "metadata": {},
   "outputs": [],
   "source": [
    "connection_options_atv = {\n",
    "    \"host\": os.getenv(\"MD_DB_SERVER\"),\n",
    "    \"user\": os.getenv(\"MD_DB_USERNAME\"),\n",
    "    \"password\": os.getenv(\"MD_DB_PASSWORD\"),\n",
    "    \"database\": \"vendinha\"\n",
    "}\n",
    "\n",
    "connection_atv = mysql.connector.connect(**connection_options_atv)\n",
    "\n",
    "db_atv = ConnectionHelper(connection_atv)"
   ]
  },
  {
   "cell_type": "markdown",
   "metadata": {},
   "source": [
    "**Exercício 1**: Faça uma query para inserir a região `\"N\"` com descrição `\"Norte\"` na tabela `regiao`."
   ]
  },
  {
   "cell_type": "markdown",
   "metadata": {},
   "source": [
    "<div class=\"alert alert-info\">\n",
    "\n",
    "**DICA:**\n",
    "    \n",
    "Agora que temos a função `db` para conexão com o banco, podemos testar nossas queries aqui mesmo no notebook, alternando comandos de **DML** com `SELECT` para conferir o resultado.\n",
    "</div>"
   ]
  },
  {
   "cell_type": "code",
   "execution_count": 49,
   "metadata": {},
   "outputs": [
    {
     "name": "stdout",
     "output_type": "stream",
     "text": [
      "Executando query:\n"
     ]
    }
   ],
   "source": [
    "# Deixa eu ver como está\n",
    "db_atv(\"SELECT * FROM regiao\")"
   ]
  },
  {
   "cell_type": "code",
   "execution_count": 50,
   "metadata": {},
   "outputs": [
    {
     "name": "stdout",
     "output_type": "stream",
     "text": [
      "Executando query:\n"
     ]
    }
   ],
   "source": [
    "# Agora deixa eu responder a questão\n",
    "\n",
    "\n",
    "sql_ex01 = \"\"\"\n",
    "INSERT INTO regiao (regiao, descricao) VALUES ('N', 'Norte')\n",
    "\"\"\"\n",
    "\n",
    "db_atv(sql_ex01)"
   ]
  },
  {
   "cell_type": "code",
   "execution_count": 51,
   "metadata": {},
   "outputs": [
    {
     "name": "stdout",
     "output_type": "stream",
     "text": [
      "Executando query:\n",
      "('N', 'Norte')\n"
     ]
    }
   ],
   "source": [
    "# Deixa eu ver o RESULTADO!\n",
    "db_atv(\"SELECT * FROM regiao\")"
   ]
  },
  {
   "cell_type": "code",
   "execution_count": null,
   "metadata": {},
   "outputs": [
    {
     "data": {
      "application/vnd.jupyter.widget-view+json": {
       "model_id": "21af08b87dc44916829e89ba6ecea7ee",
       "version_major": 2,
       "version_minor": 0
      },
      "text/plain": [
       "interactive(children=(Button(description='Enviar ex01', style=ButtonStyle()), Output()), _dom_classes=('widget…"
      ]
     },
     "metadata": {},
     "output_type": "display_data"
    }
   ],
   "source": [
    "ia.sender(answer=\"sql_ex01\", task=\"dml\", question=\"ex01\", answer_type=\"pyvar\")"
   ]
  },
  {
   "cell_type": "markdown",
   "metadata": {},
   "source": [
    "**Exercício 2**: Em uma única query (sem fazer vários `INSERT`), insira as regiões na tabela `regiao`:\n",
    "\n",
    "- a região `\"NE\"` com descrição `\"Nordeste\"`.\n",
    "- a região `\"SE\"` com descrição `\"Sudeste\"`.\n",
    "- a região `\"S\"` com descrição `\"Sul\"`.\n",
    "- a região `\"CO\"` com descrição `\"Centro-Oeste\"`."
   ]
  },
  {
   "cell_type": "code",
   "execution_count": 52,
   "metadata": {},
   "outputs": [
    {
     "name": "stdout",
     "output_type": "stream",
     "text": [
      "Executando query:\n",
      "('N', 'Norte')\n"
     ]
    }
   ],
   "source": [
    "# Deixa eu ver como está\n",
    "db_atv(\"SELECT * FROM regiao\")"
   ]
  },
  {
   "cell_type": "code",
   "execution_count": 53,
   "metadata": {},
   "outputs": [
    {
     "name": "stdout",
     "output_type": "stream",
     "text": [
      "Executando query:\n"
     ]
    }
   ],
   "source": [
    "# Agora deixa eu responder a questão\n",
    "sql_ex02 = \"\"\"\n",
    "INSERT INTO regiao (regiao, descricao) VALUES \n",
    "    ('NE', 'Nordeste'),\n",
    "    ('SE', 'Sudeste'),\n",
    "    ('S', 'Sul'),\n",
    "    ('CO', 'Centro-Oeste');\n",
    "\"\"\"\n",
    "\n",
    "db_atv(sql_ex02)"
   ]
  },
  {
   "cell_type": "code",
   "execution_count": 54,
   "metadata": {
    "scrolled": true
   },
   "outputs": [
    {
     "name": "stdout",
     "output_type": "stream",
     "text": [
      "Executando query:\n",
      "('CO', 'Centro-Oeste')\n",
      "('N', 'Norte')\n",
      "('NE', 'Nordeste')\n",
      "('S', 'Sul')\n",
      "('SE', 'Sudeste')\n"
     ]
    }
   ],
   "source": [
    "# Deixa eu ver o RESULTADO!\n",
    "db_atv(\"SELECT * FROM regiao\")"
   ]
  },
  {
   "cell_type": "code",
   "execution_count": null,
   "metadata": {
    "scrolled": true
   },
   "outputs": [
    {
     "data": {
      "application/vnd.jupyter.widget-view+json": {
       "model_id": "2a6806cf175149a08a51271f2414ee1b",
       "version_major": 2,
       "version_minor": 0
      },
      "text/plain": [
       "interactive(children=(Button(description='Enviar ex02', style=ButtonStyle()), Output()), _dom_classes=('widget…"
      ]
     },
     "metadata": {},
     "output_type": "display_data"
    }
   ],
   "source": [
    "ia.sender(answer=\"sql_ex02\", task=\"dml\", question=\"ex02\", answer_type=\"pyvar\")"
   ]
  },
  {
   "cell_type": "code",
   "execution_count": 55,
   "metadata": {},
   "outputs": [],
   "source": [
    "connection_atv.commit()"
   ]
  },
  {
   "cell_type": "markdown",
   "metadata": {},
   "source": [
    "**Exercício 3**: Considere que as seguinte queries foram executadas:\n",
    "\n",
    "```mysql\n",
    "INSERT INTO vendinha.uf\n",
    "    (uf, descricao, regiao)\n",
    "VALUES\n",
    "    ('sp', 'São Paulo', 'SE'),\n",
    "    ('mg', 'Minas Gerais', 'SE'),\n",
    "    ('pr', 'Paraná', 'S'),\n",
    "    ('am', 'Amazonas', 'N'),\n",
    "    ('ba', 'Bahia', 'NE');\n",
    "```\n",
    "\n",
    "**Obs**: vamos supor que as cinco regiões do BR estão cadastradas. Cadastre-as em sua base local usando a chamada do banco (aqui do notebook mesmo)!\n",
    "\n",
    "Crie uma que altere para **maiúsculo** o `uf` apenas dos estados da região **sudeste**."
   ]
  },
  {
   "cell_type": "code",
   "execution_count": null,
   "metadata": {},
   "outputs": [
    {
     "name": "stdout",
     "output_type": "stream",
     "text": [
      "Executando query:\n"
     ]
    }
   ],
   "source": [
    "db_atv(\"\"\"\n",
    "INSERT INTO vendinha.uf\n",
    "    (uf, descricao, regiao)\n",
    "VALUES\n",
    "    ('sp', 'São Paulo', 'SE'),\n",
    "    ('mg', 'Minas Gerais', 'SE'),\n",
    "    ('pr', 'Paraná', 'S'),\n",
    "    ('am', 'Amazonas', 'N'),\n",
    "    ('ba', 'Bahia', 'NE');\n",
    "\"\"\")"
   ]
  },
  {
   "cell_type": "code",
   "execution_count": null,
   "metadata": {},
   "outputs": [
    {
     "name": "stdout",
     "output_type": "stream",
     "text": [
      "Executando query:\n",
      "('am', 'Amazonas', 'N')\n",
      "('ba', 'Bahia', 'NE')\n",
      "('mg', 'Minas Gerais', 'SE')\n",
      "('pr', 'Paraná', 'S')\n",
      "('sp', 'São Paulo', 'SE')\n"
     ]
    }
   ],
   "source": [
    "# Deixa eu ver como está\n",
    "db_atv(\"SELECT * FROM uf\")"
   ]
  },
  {
   "cell_type": "code",
   "execution_count": null,
   "metadata": {},
   "outputs": [
    {
     "name": "stdout",
     "output_type": "stream",
     "text": [
      "Executando query:\n"
     ]
    }
   ],
   "source": [
    "# Agora deixa eu responder a questão\n",
    "sql_ex03 = \"\"\"\n",
    "UPDATE uf SET uf=UPPER(uf) WHERE regiao='SE';\n",
    "\"\"\"\n",
    "\n",
    "db_atv(sql_ex03)"
   ]
  },
  {
   "cell_type": "code",
   "execution_count": null,
   "metadata": {
    "scrolled": false
   },
   "outputs": [
    {
     "name": "stdout",
     "output_type": "stream",
     "text": [
      "Executando query:\n",
      "('am', 'Amazonas', 'N')\n",
      "('ba', 'Bahia', 'NE')\n",
      "('MG', 'Minas Gerais', 'SE')\n",
      "('pr', 'Paraná', 'S')\n",
      "('SP', 'São Paulo', 'SE')\n"
     ]
    }
   ],
   "source": [
    "# Deixa eu ver o RESULTADO!\n",
    "db_atv(\"SELECT * FROM uf\")"
   ]
  },
  {
   "cell_type": "code",
   "execution_count": null,
   "metadata": {
    "scrolled": false
   },
   "outputs": [
    {
     "data": {
      "application/vnd.jupyter.widget-view+json": {
       "model_id": "e9c42b3acab145a7a8d00869204acd30",
       "version_major": 2,
       "version_minor": 0
      },
      "text/plain": [
       "interactive(children=(Button(description='Enviar ex03', style=ButtonStyle()), Output()), _dom_classes=('widget…"
      ]
     },
     "metadata": {},
     "output_type": "display_data"
    }
   ],
   "source": [
    "ia.sender(answer=\"sql_ex03\", task=\"dml\", question=\"ex03\", answer_type=\"pyvar\")"
   ]
  },
  {
   "cell_type": "markdown",
   "metadata": {},
   "source": [
    "**Exercício 4**: Considere que as seguinte queries foram executadas:\n",
    "\n",
    "<div class=\"alert alert-info\">\n",
    "\n",
    "Perceba que os `uf` estão em maúsculo neste exercício!\n",
    "\n",
    "</div>\n",
    "\n",
    "**Tabela `uf`**:\n",
    "```mysql\n",
    "INSERT INTO vendinha.uf\n",
    "    (uf, descricao, regiao)\n",
    "VALUES\n",
    "    ('SP', 'São Paulo', 'SE'),\n",
    "    ('MG', 'Minas Gerais', 'SE'),\n",
    "    ('PR', 'Paraná', 'S'),\n",
    "    ('AM', 'Amazonas', 'N'),\n",
    "    ('BA', 'Bahia', 'NE');\n",
    "```\n",
    "\n",
    "**Tabela `cidade`**:\n",
    "```mysql\n",
    "INSERT INTO vendinha.cidade\n",
    "    (id, descricao, uf)\n",
    "VALUES\n",
    "    (20, 'São Paulo', 'SP'),\n",
    "    (21, 'Campinas', 'SP'),\n",
    "    (22, 'Salvador', 'BA'),\n",
    "    (23, 'Manaus', 'AM'),\n",
    "    (24, 'Belo Horizonte', 'MG'),\n",
    "    (25, 'São Roque de Minas', 'MG');\n",
    "```\n",
    "\n",
    "**Tabela `vendedor`**:\n",
    "```mysql\n",
    "INSERT INTO vendinha.vendedor\n",
    "    (id, nome, data_nasc, data_cad, ativo)\n",
    "VALUES\n",
    "    (100, 'Maria Roque', '1988-01-01', '2023-06-11', 1),\n",
    "    (101, 'Ana Benedita', '1970-12-09', '2023-07-15', 1),\n",
    "    (102, 'Silvio Jardim', '1988-12-25', '2023-08-01', 1),\n",
    "    (103, 'Bruna Fontana', '1981-07-05', '2023-09-01', 1),\n",
    "    (104, 'Tulio Maravilha', '1978-09-22', '2023-08-07', 1),\n",
    "    (105, 'Gino Pereira', '1964-04-03', '2023-08-25', 0),\n",
    "    (106, 'Camila Oliveira', '1992-08-05', '2023-09-01', 1),\n",
    "    (107, 'Mariana Souza', '1985-08-29', '2023-09-01', 1);\n",
    "```\n",
    "\n",
    "\n",
    "**Obs**: vamos supor que as cinco regiões do BR estão cadastradas. Cadastre-as em sua base local usando a chamada do banco (aqui do notebook mesmo)!\n",
    "\n",
    "Foi descoberto que todos os vendedores cadastrados em **agosto de 2023** são bots e devem ser removidos da base. Construa sua query!"
   ]
  },
  {
   "cell_type": "code",
   "execution_count": null,
   "metadata": {},
   "outputs": [],
   "source": [
    "connection_atv.rollback()"
   ]
  },
  {
   "cell_type": "code",
   "execution_count": null,
   "metadata": {},
   "outputs": [
    {
     "name": "stdout",
     "output_type": "stream",
     "text": [
      "Executando query:\n",
      "(100, 'Maria Roque', datetime.date(1988, 1, 1), datetime.date(2023, 6, 11), 1)\n",
      "(101, 'Ana Benedita', datetime.date(1970, 12, 9), datetime.date(2023, 7, 15), 1)\n",
      "(102, 'Silvio Jardim', datetime.date(1988, 12, 25), datetime.date(2023, 8, 1), 1)\n",
      "(103, 'Bruna Fontana', datetime.date(1981, 7, 5), datetime.date(2023, 9, 1), 1)\n",
      "(104, 'Tulio Maravilha', datetime.date(1978, 9, 22), datetime.date(2023, 8, 7), 1)\n",
      "(105, 'Gino Pereira', datetime.date(1964, 4, 3), datetime.date(2023, 8, 25), 0)\n",
      "(106, 'Camila Oliveira', datetime.date(1992, 8, 5), datetime.date(2023, 9, 1), 1)\n",
      "(107, 'Mariana Souza', datetime.date(1985, 8, 29), datetime.date(2023, 9, 1), 1)\n"
     ]
    }
   ],
   "source": [
    "# Deixa eu ver como está\n",
    "db_atv(\"SELECT * FROM vendedor\")"
   ]
  },
  {
   "cell_type": "code",
   "execution_count": null,
   "metadata": {},
   "outputs": [
    {
     "name": "stdout",
     "output_type": "stream",
     "text": [
      "Executando query:\n"
     ]
    }
   ],
   "source": [
    "# Agora deixa eu responder a questão\n",
    "sql_ex04 = \"\"\"\n",
    "DELETE FROM vendedor WHERE data_cad BETWEEN '2023-8-1' and '2023-8-31';\n",
    "\"\"\"\n",
    "\n",
    "db_atv(sql_ex04)"
   ]
  },
  {
   "cell_type": "code",
   "execution_count": null,
   "metadata": {
    "scrolled": true
   },
   "outputs": [
    {
     "name": "stdout",
     "output_type": "stream",
     "text": [
      "Executando query:\n",
      "(100, 'Maria Roque', datetime.date(1988, 1, 1), datetime.date(2023, 6, 11), 1)\n",
      "(101, 'Ana Benedita', datetime.date(1970, 12, 9), datetime.date(2023, 7, 15), 1)\n",
      "(103, 'Bruna Fontana', datetime.date(1981, 7, 5), datetime.date(2023, 9, 1), 1)\n",
      "(106, 'Camila Oliveira', datetime.date(1992, 8, 5), datetime.date(2023, 9, 1), 1)\n",
      "(107, 'Mariana Souza', datetime.date(1985, 8, 29), datetime.date(2023, 9, 1), 1)\n"
     ]
    }
   ],
   "source": [
    "# Deixa eu ver o RESULTADO!\n",
    "db_atv(\"SELECT * FROM vendedor\")"
   ]
  },
  {
   "cell_type": "code",
   "execution_count": null,
   "metadata": {
    "scrolled": false
   },
   "outputs": [
    {
     "data": {
      "application/vnd.jupyter.widget-view+json": {
       "model_id": "5198c4ef4bae4d6a8a7c3a88e9898db6",
       "version_major": 2,
       "version_minor": 0
      },
      "text/plain": [
       "interactive(children=(Button(description='Enviar ex04', style=ButtonStyle()), Output()), _dom_classes=('widget…"
      ]
     },
     "metadata": {},
     "output_type": "display_data"
    }
   ],
   "source": [
    "ia.sender(answer=\"sql_ex04\", task=\"dml\", question=\"ex04\", answer_type=\"pyvar\")"
   ]
  },
  {
   "cell_type": "markdown",
   "metadata": {},
   "source": [
    "**Exercício 5**: Considere que as seguinte queries foram executadas:\n",
    "\n",
    "<div class=\"alert alert-info\">\n",
    "\n",
    "Perceba que os `uf` estão em maúsculo neste exercício!\n",
    "\n",
    "</div>\n",
    "\n",
    "**Tabela `uf`**:\n",
    "```mysql\n",
    "INSERT INTO vendinha.uf\n",
    "    (uf, descricao, regiao)\n",
    "VALUES\n",
    "    ('SP', 'São Paulo', 'SE'),\n",
    "    ('MG', 'Minas Gerais', 'SE'),\n",
    "    ('PR', 'Paraná', 'S'),\n",
    "    ('AM', 'Amazonas', 'N'),\n",
    "    ('BA', 'Bahia', 'NE');\n",
    "```\n",
    "\n",
    "**Tabela `cidade`**:\n",
    "```mysql\n",
    "INSERT INTO vendinha.cidade\n",
    "    (id, descricao, uf)\n",
    "VALUES\n",
    "    (20, 'São Paulo', 'SP'),\n",
    "    (21, 'Campinas', 'SP'),\n",
    "    (22, 'Salvador', 'BA'),\n",
    "    (23, 'Manaus', 'AM'),\n",
    "    (24, 'Belo Horizonte', 'MG'),\n",
    "    (25, 'São Roque de Minas', 'MG');\n",
    "```\n",
    "\n",
    "**Tabela `vendedor`**:\n",
    "```mysql\n",
    "INSERT INTO vendinha.vendedor\n",
    "    (id, nome, data_nasc, data_cad, ativo)\n",
    "VALUES\n",
    "    (100, 'Maria Roque', '1988-01-01', '2023-06-11', 1),\n",
    "    (101, 'Ana Benedita', '1970-12-09', '2023-07-15', 1),\n",
    "    (102, 'Silvio Jardim', '1988-12-25', '2023-08-01', 1),\n",
    "    (103, 'Bruna Fontana', '1981-07-05', '2023-09-01', 1),\n",
    "    (104, 'Tulio Maravilha', '1978-09-22', '2023-08-07', 1),\n",
    "    (105, 'Gino Pereira', '1964-04-03', '2023-08-25', 0),\n",
    "    (106, 'Camila Oliveira', '1992-08-05', '2023-09-01', 1),\n",
    "    (107, 'Mariana Souza', '1985-08-29', '2023-09-01', 1);\n",
    "```\n",
    "\n",
    "\n",
    "**Obs**: vamos supor que as cinco regiões do BR estão cadastradas. Cadastre-as em sua base local usando a chamada do banco (aqui do notebook mesmo)!\n",
    "\n",
    "Dadas as relações de **vendedores** e **cidades onde vendedor vende**:\n",
    "\n",
    "- Bruna Fontana:\n",
    "    - São Paulo SP\n",
    "    - Campinas SP\n",
    "- Silvio Jardim:\n",
    "    - São Paulo SP\n",
    "    - Belo Horizonte MG\n",
    "    - São Roque de Minas\n",
    "- Camila Oliveira:\n",
    "    - Manaus AM\n",
    "    \n",
    "Construa uma query para popular a tabela `vendedor_vende_cidade`."
   ]
  },
  {
   "cell_type": "code",
   "execution_count": 56,
   "metadata": {},
   "outputs": [
    {
     "name": "stdout",
     "output_type": "stream",
     "text": [
      "Executando query:\n",
      "('AM', 'Amazonas', 'N')\n",
      "('BA', 'Bahia', 'NE')\n",
      "('MG', 'Minas Gerais', 'SE')\n",
      "('PR', 'Paraná', 'S')\n",
      "('SP', 'São Paulo', 'SE')\n"
     ]
    }
   ],
   "source": [
    "db_atv(\"SELECT * FROM uf\")"
   ]
  },
  {
   "cell_type": "code",
   "execution_count": 57,
   "metadata": {},
   "outputs": [
    {
     "name": "stdout",
     "output_type": "stream",
     "text": [
      "Executando query:\n"
     ]
    }
   ],
   "source": [
    "# Deixa eu ver como está\n",
    "db_atv(\"SELECT * FROM vendedor_vende_cidade\")"
   ]
  },
  {
   "cell_type": "code",
   "execution_count": 59,
   "metadata": {},
   "outputs": [
    {
     "name": "stdout",
     "output_type": "stream",
     "text": [
      "Executando query:\n"
     ]
    }
   ],
   "source": [
    "# Agora deixa eu responder a questão\n",
    "sql_ex05 = \"\"\"\n",
    "INSERT INTO vendinha.vendedor_vende_cidade\n",
    "    (id_vendedor, id_cidade)\n",
    "VALUES\n",
    "    (103, 20),\n",
    "    (103, 21),\n",
    "    (102, 20),\n",
    "    (102, 24),\n",
    "    (102, 25),\n",
    "    (106, 23);\n",
    "\"\"\"\n",
    "\n",
    "db_atv(sql_ex05)"
   ]
  },
  {
   "cell_type": "code",
   "execution_count": 60,
   "metadata": {
    "scrolled": true
   },
   "outputs": [
    {
     "name": "stdout",
     "output_type": "stream",
     "text": [
      "Executando query:\n",
      "(102, 20)\n",
      "(103, 20)\n",
      "(103, 21)\n",
      "(106, 23)\n",
      "(102, 24)\n",
      "(102, 25)\n"
     ]
    }
   ],
   "source": [
    "# Deixa eu ver o RESULTADO!\n",
    "db_atv(\"SELECT * FROM vendedor_vende_cidade\")"
   ]
  },
  {
   "cell_type": "code",
   "execution_count": 61,
   "metadata": {},
   "outputs": [
    {
     "data": {
      "application/vnd.jupyter.widget-view+json": {
       "model_id": "5964766f363e4fecacdc0f536c1cd37d",
       "version_major": 2,
       "version_minor": 0
      },
      "text/plain": [
       "interactive(children=(Button(description='Enviar ex05', style=ButtonStyle()), Output()), _dom_classes=('widget…"
      ]
     },
     "metadata": {},
     "output_type": "display_data"
    }
   ],
   "source": [
    "ia.sender(answer=\"sql_ex05\", task=\"dml\", question=\"ex05\", answer_type=\"pyvar\")"
   ]
  },
  {
   "cell_type": "markdown",
   "metadata": {},
   "source": [
    "**Exercício 6**: Considere que as seguinte queries foram executadas:\n",
    "\n",
    "**Tabela `uf`**:\n",
    "```mysql\n",
    "INSERT INTO vendinha.uf\n",
    "    (uf, descricao, regiao)\n",
    "VALUES\n",
    "    ('SP', 'São Paulo', 'SE'),\n",
    "    ('MG', 'Minas Gerais', 'SE'),\n",
    "    ('PR', 'Paraná', 'S'),\n",
    "    ('AM', 'Amazonas', 'N'),\n",
    "    ('BA', 'Bahia', 'NE');\n",
    "```\n",
    "\n",
    "**Tabela `cidade`**:\n",
    "```mysql\n",
    "INSERT INTO vendinha.cidade\n",
    "    (id, descricao, uf)\n",
    "VALUES\n",
    "    (20, 'São Paulo', 'SP'),\n",
    "    (21, 'Campinas', 'SP'),\n",
    "    (22, 'Salvador', 'BA'),\n",
    "    (23, 'Manaus', 'AM'),\n",
    "    (24, 'Belo Horizonte', 'MG'),\n",
    "    (25, 'São Roque de Minas', 'MG');\n",
    "```\n",
    "\n",
    "**Tabela `vendedor`**:\n",
    "```mysql\n",
    "INSERT INTO vendinha.vendedor\n",
    "    (id, nome, data_nasc, data_cad, ativo)\n",
    "VALUES\n",
    "    (100, 'Maria Roque', '1988-01-01', '2023-06-11', 1),\n",
    "    (101, 'Ana Benedita', '1970-12-09', '2023-07-15', 1),\n",
    "    (102, 'Silvio Jardim', '1988-12-25', '2023-08-01', 1),\n",
    "    (103, 'Bruna Fontana', '1981-07-05', '2023-09-01', 1),\n",
    "    (104, 'Tulio Maravilha', '1978-09-22', '2023-08-07', 1),\n",
    "    (105, 'Gino Pereira', '1964-04-03', '2023-08-25', 0),\n",
    "    (106, 'Camila Oliveira', '1992-08-05', '2023-09-01', 1),\n",
    "    (107, 'Mariana Souza', '1985-08-29', '2023-09-01', 1);\n",
    "```\n",
    "\n",
    "Ainda, considere uma nova tabela chamada `vendedor_ativo_dia` com o esquema:\n",
    "\n",
    "| Coluna         | Tipo         | PK (Primary Key?) | Not Null? | Autoinc?\n",
    "|----------------|--------------|-------------------|-----------|-----------|\n",
    "| id             | INT          |   True            |    True   |     True  |\n",
    "| id_vendedor    | INT          |                   |    True   |           |\n",
    "| ativo          | TYNYINT      |                   |    True   |           |\n",
    "| data_registro  | DATE         |                   |    True   |           |\n",
    "\n",
    "Considere que a tabela `vendedor_ativo_dia` é utilizada para criar um registro histórico de todos os vendedores que estão ativos em cada data.\n",
    "\n",
    "**Obs**: vamos supor que as cinco regiões do BR estão cadastradas. Cadastre-as em sua base local usando a chamada do banco (aqui do notebook mesmo)!\n",
    "\n",
    "Construa uma query que faça a inserção dos dados na tabela `vendedor_ativo_dia` a partir de um `SELECT` dos vendedores ativos da tabela de vendedor.\n",
    "\n",
    "<div class=\"alert alert-danger\">\n",
    "\n",
    "Não deixe a data **hardcoded**. Pesquise como recuperar a data atual do sistema em uma query.\n",
    "\n",
    "</div>\n",
    "  \n",
    "<div class=\"alert alert-info\">\n",
    "\n",
    "Por simplificação, não é necessário criar as constraints de chave extrangeira na tabela `vendedor_ativo_dia`.\n",
    "\n",
    "</div>\n",
    "\n",
    "Sugestão de resolução:\n",
    "- Criar DDL para `vendedor_ativo_dia`\n",
    "- Criar SELECT para pegar:\n",
    "    - Vendedores ativos\n",
    "    - com o dia de hoje\n",
    "- Inserir estes dados (usando `SELECT`) na tabela `vendedor_ativo_dia`.\n",
    "\n",
    "Não é necessário enviar a **DDL** para o servidor."
   ]
  },
  {
   "cell_type": "code",
   "execution_count": 67,
   "metadata": {},
   "outputs": [],
   "source": [
    "connection_atv.reconnect()"
   ]
  },
  {
   "cell_type": "code",
   "execution_count": 70,
   "metadata": {},
   "outputs": [
    {
     "name": "stdout",
     "output_type": "stream",
     "text": [
      "Executando query:\n",
      "(100, 'Maria Roque', datetime.date(1988, 1, 1), datetime.date(2023, 6, 11), 1)\n",
      "(101, 'Ana Benedita', datetime.date(1970, 12, 9), datetime.date(2023, 7, 15), 1)\n",
      "(102, 'Silvio Jardim', datetime.date(1988, 12, 25), datetime.date(2023, 8, 1), 1)\n",
      "(103, 'Bruna Fontana', datetime.date(1981, 7, 5), datetime.date(2023, 9, 1), 1)\n",
      "(104, 'Tulio Maravilha', datetime.date(1978, 9, 22), datetime.date(2023, 8, 7), 1)\n",
      "(106, 'Camila Oliveira', datetime.date(1992, 8, 5), datetime.date(2023, 9, 1), 1)\n",
      "(107, 'Mariana Souza', datetime.date(1985, 8, 29), datetime.date(2023, 9, 1), 1)\n"
     ]
    }
   ],
   "source": [
    "# Deixa eu ver como está\n",
    "db_atv(\"SELECT * FROM vendedor WHERE ativo=1\")"
   ]
  },
  {
   "cell_type": "code",
   "execution_count": 73,
   "metadata": {},
   "outputs": [
    {
     "name": "stdout",
     "output_type": "stream",
     "text": [
      "Executando query:\n"
     ]
    }
   ],
   "source": [
    "# Agora deixa eu responder a questão\n",
    "sql_ex06 = \"\"\"\n",
    "INSERT INTO vendinha.vendedor_ativo_dia\n",
    "    (id_vendedor, ativo, data_registro)\n",
    "SELECT\n",
    "    id, ativo, CURRENT_DATE\n",
    "FROM\n",
    "    vendedor\n",
    "WHERE\n",
    "    ativo = 1;\n",
    "\"\"\"\n",
    "\n",
    "db_atv(sql_ex06)"
   ]
  },
  {
   "cell_type": "code",
   "execution_count": 74,
   "metadata": {
    "scrolled": true
   },
   "outputs": [
    {
     "name": "stdout",
     "output_type": "stream",
     "text": [
      "Executando query:\n",
      "(1, 100, 1, datetime.date(2025, 3, 9))\n",
      "(2, 101, 1, datetime.date(2025, 3, 9))\n",
      "(3, 102, 1, datetime.date(2025, 3, 9))\n",
      "(4, 103, 1, datetime.date(2025, 3, 9))\n",
      "(5, 104, 1, datetime.date(2025, 3, 9))\n",
      "(6, 106, 1, datetime.date(2025, 3, 9))\n",
      "(7, 107, 1, datetime.date(2025, 3, 9))\n"
     ]
    }
   ],
   "source": [
    "# Deixa eu ver o RESULTADO!\n",
    "db_atv(\"SELECT * FROM vendedor_ativo_dia\")"
   ]
  },
  {
   "cell_type": "code",
   "execution_count": 75,
   "metadata": {},
   "outputs": [
    {
     "data": {
      "application/vnd.jupyter.widget-view+json": {
       "model_id": "bb330d7a6e2d4895a64d08bff0be7097",
       "version_major": 2,
       "version_minor": 0
      },
      "text/plain": [
       "interactive(children=(Button(description='Enviar ex06', style=ButtonStyle()), Output()), _dom_classes=('widget…"
      ]
     },
     "metadata": {},
     "output_type": "display_data"
    }
   ],
   "source": [
    "ia.sender(answer=\"sql_ex06\", task=\"dml\", question=\"ex06\", answer_type=\"pyvar\")"
   ]
  },
  {
   "cell_type": "markdown",
   "metadata": {},
   "source": [
    "### Conferir Notas\n",
    "\n",
    "Confira se as notas na atividade são as esperadas!\n",
    "\n",
    "Primeiro na atividade atual!"
   ]
  },
  {
   "cell_type": "code",
   "execution_count": 76,
   "metadata": {
    "scrolled": true
   },
   "outputs": [
    {
     "data": {
      "text/markdown": [
       "|    | Tarefa   |   Nota |\n",
       "|---:|:---------|-------:|\n",
       "|  0 | dml      |     10 |"
      ],
      "text/plain": [
       "<IPython.core.display.Markdown object>"
      ]
     },
     "metadata": {},
     "output_type": "display_data"
    }
   ],
   "source": [
    "ia.grades(by=\"TASK\", task=\"dml\")"
   ]
  },
  {
   "cell_type": "code",
   "execution_count": 77,
   "metadata": {},
   "outputs": [
    {
     "data": {
      "text/markdown": [
       "|    | Atividade   | Exercício   |   Peso |   Nota |\n",
       "|---:|:------------|:------------|-------:|-------:|\n",
       "|  0 | dml         | ex01        |      1 |     10 |\n",
       "|  1 | dml         | ex02        |      1 |     10 |\n",
       "|  2 | dml         | ex03        |      1 |     10 |\n",
       "|  3 | dml         | ex04        |      1 |     10 |\n",
       "|  4 | dml         | ex05        |      1 |     10 |\n",
       "|  5 | dml         | ex06        |      1 |     10 |"
      ],
      "text/plain": [
       "<IPython.core.display.Markdown object>"
      ]
     },
     "metadata": {},
     "output_type": "display_data"
    }
   ],
   "source": [
    "ia.grades(task=\"dml\")"
   ]
  },
  {
   "cell_type": "markdown",
   "metadata": {},
   "source": [
    "E agora em todas as demais!"
   ]
  },
  {
   "cell_type": "code",
   "execution_count": 78,
   "metadata": {},
   "outputs": [
    {
     "data": {
      "text/markdown": [
       "|    | Tarefa   |   Nota |\n",
       "|---:|:---------|-------:|\n",
       "|  0 | agg_join |      0 |\n",
       "|  1 | ddl      |     10 |\n",
       "|  2 | dml      |     10 |\n",
       "|  3 | newborn  |     10 |\n",
       "|  4 | select01 |     10 |"
      ],
      "text/plain": [
       "<IPython.core.display.Markdown object>"
      ]
     },
     "metadata": {},
     "output_type": "display_data"
    }
   ],
   "source": [
    "ia.grades(by=\"TASK\")"
   ]
  },
  {
   "cell_type": "code",
   "execution_count": 79,
   "metadata": {},
   "outputs": [
    {
     "data": {
      "text/markdown": [
       "|    | Atividade   | Exercício   |   Peso |   Nota |\n",
       "|---:|:------------|:------------|-------:|-------:|\n",
       "|  0 | agg_join    | ex01        |      1 |      0 |\n",
       "|  1 | agg_join    | ex02        |      1 |      0 |\n",
       "|  2 | agg_join    | ex03        |      1 |      0 |\n",
       "|  3 | agg_join    | ex04        |      1 |      0 |\n",
       "|  4 | agg_join    | ex05        |      1 |      0 |\n",
       "|  5 | agg_join    | ex06        |      1 |      0 |\n",
       "|  6 | ddl         | ex02        |      1 |     10 |\n",
       "|  7 | ddl         | ex03        |      1 |     10 |\n",
       "|  8 | ddl         | ex04        |      1 |     10 |\n",
       "|  9 | ddl         | ex05        |      1 |     10 |\n",
       "| 10 | ddl         | ex06        |      1 |     10 |\n",
       "| 11 | ddl         | ex07        |      1 |     10 |\n",
       "| 12 | ddl         | ex09        |      1 |     10 |\n",
       "| 13 | ddl         | ex10        |      1 |     10 |\n",
       "| 14 | ddl         | ex11        |      1 |     10 |\n",
       "| 15 | dml         | ex01        |      1 |     10 |\n",
       "| 16 | dml         | ex02        |      1 |     10 |\n",
       "| 17 | dml         | ex03        |      1 |     10 |\n",
       "| 18 | dml         | ex04        |      1 |     10 |\n",
       "| 19 | dml         | ex05        |      1 |     10 |\n",
       "| 20 | dml         | ex06        |      1 |     10 |\n",
       "| 21 | newborn     | ex01        |      1 |     10 |\n",
       "| 22 | select01    | ex01        |      1 |     10 |\n",
       "| 23 | select01    | ex02        |      1 |     10 |\n",
       "| 24 | select01    | ex03        |      1 |     10 |\n",
       "| 25 | select01    | ex04        |      1 |     10 |\n",
       "| 26 | select01    | ex05        |      1 |     10 |"
      ],
      "text/plain": [
       "<IPython.core.display.Markdown object>"
      ]
     },
     "metadata": {},
     "output_type": "display_data"
    }
   ],
   "source": [
    "ia.grades()"
   ]
  },
  {
   "cell_type": "code",
   "execution_count": 80,
   "metadata": {},
   "outputs": [],
   "source": [
    "connection_atv.commit()\n",
    "connection_atv.close()"
   ]
  },
  {
   "cell_type": "code",
   "execution_count": null,
   "metadata": {},
   "outputs": [],
   "source": []
  }
 ],
 "metadata": {
  "kernelspec": {
   "display_name": "Python 3",
   "language": "python",
   "name": "python3"
  },
  "language_info": {
   "codemirror_mode": {
    "name": "ipython",
    "version": 3
   },
   "file_extension": ".py",
   "mimetype": "text/x-python",
   "name": "python",
   "nbconvert_exporter": "python",
   "pygments_lexer": "ipython3",
   "version": "3.10.11"
  }
 },
 "nbformat": 4,
 "nbformat_minor": 4
}
