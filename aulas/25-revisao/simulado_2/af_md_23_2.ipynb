{
 "cells": [
  {
   "cell_type": "markdown",
   "id": "f62ded59",
   "metadata": {},
   "source": [
    "# Simulado para AF de MEGADADOS\n",
    "\n",
    "A prova tem duração de **2h30**. Veja mais informações no Blackboard!\n",
    "\n",
    "Não se esqueça de **anexar o notebook** no **Blackboard** ao final da prova. Deixe as células **executadas**!"
   ]
  },
  {
   "cell_type": "markdown",
   "id": "ee1fa31d",
   "metadata": {},
   "source": [
    "**NOME**: SEU NOME AQUI!"
   ]
  },
  {
   "cell_type": "markdown",
   "id": "db9c8285",
   "metadata": {},
   "source": [
    "## Importante\n",
    "\n",
    "No VSCode ou ao utilizar o Docker (Spark) **abra apenas a pasta da prova**. É proibido abrir a pasta das aulas.\n",
    "\n",
    "Sugestão: Crie uma pasta e copie o `.env` para lá (assim não precisará da pasta aulas). Crie um **venv** nesta pasta e instale as dependências da prova.\n",
    "\n",
    "```console\n",
    "pip install -r requirements.txt\n",
    "```\n",
    "\n",
    "Já deixe seu ambiente (pasta com `.env` + **veenv**) preparado para a prova, de tal forma que no dia dia prova baste copiar o conteúdo da prova para a pasta já preparada."
   ]
  },
  {
   "cell_type": "markdown",
   "id": "80c0ca88",
   "metadata": {},
   "source": [
    "## Spark\n",
    "\n",
    "Comandos para inicialização do **Spark**. Para macOS e linux, utilize:\n",
    "\n",
    "```bash\n",
    "docker run \\\n",
    "    -it \\\n",
    "    --rm \\\n",
    "    -p 8888:8888 \\\n",
    "    -p 4040:4040 \\\n",
    "    -v \"`pwd`\":/home/jovyan/work \\\n",
    "    jupyter/pyspark-notebook\n",
    "\n",
    "\n",
    "```\n",
    "\n",
    "Se estiver no Windows estes comandos, utilize:\n",
    "\n",
    "- No Powershell: `docker run -it --rm -p 8888:8888 -p 4040:4040 -v ${PWD}:/home/jovyan/work jupyter/pyspark-notebook`\n",
    "\n",
    "- No Prompt de comando: `docker run -it --rm -p 8888:8888 -p 4040:4040 -v %cd%:/home/jovyan/work jupyter/pyspark-notebook`\n",
    "\n",
    "Agora abra esse notebook lá no container!"
   ]
  },
  {
   "cell_type": "markdown",
   "id": "5244ce30",
   "metadata": {},
   "source": [
    "## Insper autograding!\n",
    "\n",
    "Para receber feedback dos exercício, iremos utilizar o `insper autograding`."
   ]
  },
  {
   "cell_type": "code",
   "execution_count": 1,
   "id": "46762e1a-ab06-4efb-8d2f-896c3c56d7e5",
   "metadata": {},
   "outputs": [],
   "source": [
    "# !pip install -U git+https://github.com/macielcalebe/insperautograding.git"
   ]
  },
  {
   "cell_type": "markdown",
   "id": "b33a2a9b",
   "metadata": {},
   "source": [
    "## Como resolver os exercícios?\n",
    "\n",
    "Crie a base da prova em sua máquina (Exercício 1). Utilize o notebook, MySQL Workbench ou o conector para testar as queries e soluções. Quando estiver bastante certo de que a resposta está correta, faça a submissão para o servidor."
   ]
  },
  {
   "cell_type": "markdown",
   "id": "96d7f2f2-d556-4679-bad6-a426ffe68d27",
   "metadata": {},
   "source": [
    "## Base de dados\n",
    "\n",
    "Em alguns exercícios, iremos utilizar a base de dados `af_md_23_2`.\n",
    "\n",
    "Execute o script `mensagens.sql` no Workbench para criar e popular a base."
   ]
  },
  {
   "cell_type": "markdown",
   "id": "69ee33d4",
   "metadata": {},
   "source": [
    "## Import das bibliotecas\n",
    "\n",
    "Vamos realizar o import das bibliotecas."
   ]
  },
  {
   "cell_type": "code",
   "execution_count": null,
   "id": "b2f1597a",
   "metadata": {},
   "outputs": [],
   "source": [
    "import mysql.connector\n",
    "import os\n",
    "import insperautograder.jupyter as ia\n",
    "from functools import partial\n",
    "from dotenv import load_dotenv"
   ]
  },
  {
   "cell_type": "markdown",
   "id": "33eefa0d",
   "metadata": {},
   "source": [
    "E vamos criar nosso HELPER de conexão com o banco! Perceba que, uma vez configurado o `.env` não precisaremos mais informar usuários, senhas e URLs!"
   ]
  },
  {
   "cell_type": "code",
   "execution_count": null,
   "id": "f5147533",
   "metadata": {},
   "outputs": [],
   "source": [
    "load_dotenv(override=True)\n",
    "\n",
    "def get_connection_helper(database):\n",
    "\n",
    "    def run_db_query(connection, query, args=None):\n",
    "        with connection.cursor() as cursor:\n",
    "            results = cursor.execute(query, args, multi=True)\n",
    "            for i, result in enumerate(results):\n",
    "                if result.with_rows:\n",
    "                    print(f\"Resultado query {i}:\")\n",
    "                    for line in result.fetchall():\n",
    "                        print(line)\n",
    "                else:\n",
    "                    print(f\"Query {i} executada!\")\n",
    "\n",
    "    connection = mysql.connector.connect(\n",
    "        host=os.getenv(\"MD_DB_SERVER\"),\n",
    "        user=os.getenv(\"MD_DB_USERNAME\"),\n",
    "        password=os.getenv(\"MD_DB_PASSWORD\"),\n",
    "        database=database,\n",
    "    )\n",
    "    return connection, partial(run_db_query, connection)\n",
    "\n",
    "\n",
    "connection, db = get_connection_helper(\"af_md_23_2\")"
   ]
  },
  {
   "cell_type": "code",
   "execution_count": null,
   "id": "748da140",
   "metadata": {},
   "outputs": [],
   "source": [
    "# !pip install pyspark"
   ]
  },
  {
   "cell_type": "code",
   "execution_count": null,
   "id": "fbd412e5-b41e-4e7f-977c-7c0493c7020f",
   "metadata": {},
   "outputs": [],
   "source": [
    "from pyspark.sql import SparkSession\n",
    "\n",
    "spark = SparkSession.builder.appName(\"MinhaAplicacao\").getOrCreate()\n",
    "sc = spark.sparkContext\n",
    "sc"
   ]
  },
  {
   "cell_type": "markdown",
   "id": "86e481dc",
   "metadata": {},
   "source": [
    "### Notas\n",
    "\n",
    "As primeiras cinco questões, que possuem correção automática, valem 60% da nota da prova.\n",
    "\n",
    "Na API de correção automática a nota de cada questão será ponderada pelo seu peso. A nota será apresentada no intervalo 0 a 10, multiplique por 0.6 para saber a nota final considerando toda a prova.\n",
    "\n",
    "Para conferir a nota da correção automática da prova, utilize:"
   ]
  },
  {
   "cell_type": "code",
   "execution_count": null,
   "id": "9d0c9a82",
   "metadata": {},
   "outputs": [],
   "source": [
    "ia.grades(task=\"af_md_23_2\")"
   ]
  },
  {
   "cell_type": "code",
   "execution_count": null,
   "id": "088634f3",
   "metadata": {},
   "outputs": [],
   "source": [
    "ia.grades(by=\"TASK\", task=\"af_md_23_2\")"
   ]
  },
  {
   "cell_type": "code",
   "execution_count": null,
   "id": "9c5393c0",
   "metadata": {},
   "outputs": [],
   "source": [
    "ia.grades(by=\"TASK\")"
   ]
  },
  {
   "cell_type": "code",
   "execution_count": null,
   "id": "a08488be",
   "metadata": {},
   "outputs": [],
   "source": [
    "ia.average(excluded_count=2)"
   ]
  },
  {
   "cell_type": "markdown",
   "id": "f72f6b92-87dc-4151-9f9b-1fb0e33e2174",
   "metadata": {},
   "source": [
    "**Exercício 1**:\n",
    "\n",
    "O arquivo `data/timestamps.txt` contém uma lista de timestamps indicando quando foram feitos acessos a um sistema, um por linha. Cada timestamp é uma string no formato `YYYY-MM-DD HH:MM:SS`. Escreva uma função em Spark que recebe um rdd e um ano (nesta ordem) e retorna quantos acessos houveram em um determinado ano."
   ]
  },
  {
   "cell_type": "code",
   "execution_count": null,
   "id": "6ac26d97-8b4c-4d42-a708-857d1a16a5b2",
   "metadata": {},
   "outputs": [],
   "source": [
    "def total_acessos(rdd, ano):\n",
    "    # Altere esta função!\n",
    "    return 0\n",
    "\n",
    "rdd = sc.textFile(\"data/timestamps.txt\")\n",
    "\n",
    "print(total_acessos(rdd, \"2022\"))\n",
    "print(total_acessos(rdd, \"2023\"))"
   ]
  },
  {
   "cell_type": "markdown",
   "id": "b7501386-fd97-49e3-bd37-4887a0ec42ea",
   "metadata": {},
   "source": [
    "Após testar localmente e considerar sua solução correta, faça o envio clicando no botão abaixo!"
   ]
  },
  {
   "cell_type": "code",
   "execution_count": null,
   "id": "b21dc20f-d45b-44db-9db7-2a0af0c31f4a",
   "metadata": {},
   "outputs": [],
   "source": [
    "ia.sender(answer=\"total_acessos\", task=\"af_md_23_2\", question=\"ex01spark\", answer_type=\"pycode\")"
   ]
  },
  {
   "cell_type": "markdown",
   "id": "5f98e18c-e1e5-4b78-a503-03e2395f9292",
   "metadata": {},
   "source": [
    "**Exercício 2**:\n",
    "\n",
    "Ainda no arquivo `data/timestamps.txt`, escreva uma função em Spark que recebe um rdd e retorna em ordem decrescente as 20 datas em que houveram mais acessos junto da quantidade de acessos em cada data."
   ]
  },
  {
   "cell_type": "code",
   "execution_count": null,
   "id": "643c4c72-35a2-45c8-aa17-59ce864eb033",
   "metadata": {},
   "outputs": [],
   "source": [
    "def top20(rdd):\n",
    "    # Altere esta função!\n",
    "    return rdd\n",
    "\n",
    "top20(rdd)"
   ]
  },
  {
   "cell_type": "markdown",
   "id": "294e1c42-b9e5-4a8d-a19b-ce06f8904836",
   "metadata": {},
   "source": [
    "Após testar localmente e considerar sua solução correta, faça o envio clicando no botão abaixo!"
   ]
  },
  {
   "cell_type": "code",
   "execution_count": null,
   "id": "f2f77c03-6331-4488-aa1c-eba78ae97c25",
   "metadata": {},
   "outputs": [],
   "source": [
    "ia.sender(answer=\"total_acessos\", task=\"af_md_23_2\", question=\"ex02spark\", answer_type=\"pycode\")"
   ]
  },
  {
   "cell_type": "markdown",
   "id": "ee16915c-4fb3-42c5-bb78-edea6a169df0",
   "metadata": {},
   "source": [
    "**Exercício 3**:\n",
    "\n",
    "Vimos na primeira parte do curso como podemos utilizar índices para acelerar a performance de *queries*. RDBMS como o MySQL suportam, inclusive, a construção de índices por múltiplas colunas.\n",
    "\n",
    "Entretanto, em certas situações, como quando são realizadas primariamente buscar por igualdade em múltiplas colunas, uma alternativa é utilizar **hashing** de índices compostos. Nesta técnica, ao invés de construir um índice composto por múltiplas colunas e realizar as consultas neste formato:\n",
    "\n",
    "```mysql\n",
    "SELECT t.res1,\n",
    "       t.res2\n",
    "FROM tabela t\n",
    "WHERE t.col1 = 'algum valor'\n",
    "  AND t.col2 = 'outro valor'\n",
    "  AND t.col3 = 'criterio de busca'\n",
    "```\n",
    "\n",
    "É construida manualmente uma coluna que contém o **hash da concatenação das colunas utilizadas na query**. Então, é criado um índice apenas na coluna que contém o hash. Assim, a *query* de consulta passa a ser, por exemplo:\n",
    "\n",
    "\n",
    "```mysql\n",
    "SELECT t.res1,\n",
    "       t.res2\n",
    "FROM tabela t\n",
    "WHERE t.coluna_hash = MD5(CONCAT('algum valor', 'outro valor', 'criterio de busca'))\n",
    "```\n",
    "\n",
    "Neste exercício, você deve construir uma *trigger* para atualizar a coluna chamada `coluna_hash` da tabela de `mensagens` quando ocorrer um **update** na tabela de mensagens.\n",
    "\n",
    "A tabela estará assim:\n",
    "| id | col1    | col2     | col3    | mensagem                                 |\n",
    "|----|---------|----------|---------|------------------------------------------|\n",
    "| 1  | ANA     | SILVA    | ABACATE | Oi, bom dia                              |\n",
    "| 2  | MARIA   | PEREIRA  | PERA    | Me liga quando puder                     |\n",
    "| 3  | JOSE    | FERREIRA | ABACATE | Cade vc?                                 |\n",
    "| 4  | ANTONIO | SILVA    | MACA    | Qual o status do pedido?                 |\n",
    "| 5  | CAMILA  | WOK      | PERA    | Conseguiu analisar?                      |\n",
    "| 6  | DANILO  | SCHINLE  | MACA    | Tudo certo pro jantar, vc vem?           |\n",
    "| 7  | PEDRO   | PACKEL   | BANANA  | Complicado, vai ter que conferir com ela |\n",
    "| 8  | MANOELA | NANTES   | PERA    | O lugar era lindo                        |\n",
    "| 9  | CELSO   | ALIVERRI | ABACATE | A visao eh adequada                      |\n",
    "| 10 | ELLEN   | WETLKS   | UVA     | Vamos juntos                             |\n",
    "\n",
    "Por exemplo, após criar a coluna `coluna_hash`, ao fazer um *update* no id `1`, ficará assim:\n",
    "\n",
    "| id | col1    | col2     | col3    | mensagem                                 | coluna_hash                              |\n",
    "|----|---------|----------|---------|------------------------------------------|------------------------------------------|\n",
    "| 1  | ANA     | SILVA    | UVA     | Oi, bom dia                              | 2d0b14a194488b9080e080c8a7d82ef88fddbe1e |\n",
    "| 2  | MARIA   | PEREIRA  | PERA    | Me liga quando puder                     |                                          |\n",
    "| 3  | JOSE    | FERREIRA | ABACATE | Cade vc?                                 |                                          |\n",
    "| 4  | ANTONIO | SILVA    | MACA    | Qual o status do pedido?                 |                                          |\n",
    "| 5  | CAMILA  | WOK      | PERA    | Conseguiu analisar?                      |                                          |\n",
    "| 6  | DANILO  | SCHINLE  | MACA    | Tudo certo pro jantar, vc vem?           |                                          |\n",
    "| 7  | PEDRO   | PACKEL   | BANANA  | Complicado, vai ter que conferir com ela |                                          |\n",
    "| 8  | MANOELA | NANTES   | PERA    | O lugar era lindo                        |                                          |\n",
    "| 9  | CELSO   | ALIVERRI | ABACATE | A visao eh adequada                      |                                          |\n",
    "| 10 | ELLEN   | WETLKS   | UVA     | Vamos juntos                             |                                          |\n",
    "\n",
    "**Obs**:\n",
    "- Execute o script `mensagens.sql` para construir a base de dados;\n",
    "- Faça o DDL, em seu servidor local, para criar a coluna `coluna_hash` com array `CHAR` de tamanho 40. No servidor de testes esta coluna já existe e você não deve enviar esta parte;\n",
    "- Imagine que o índice já existe na coluna de hash (não é relevante para o exercício que ele realmente exista);\n",
    "- A coluna `coluna_hash` deve ser calculada com o uso da função `SHA1` a partir da concatenação dos colunas `col1`, `col2` e `col3` (nesta ordem e sem espaçadores).\n"
   ]
  },
  {
   "cell_type": "code",
   "execution_count": null,
   "id": "f9237653-9e99-4932-81b0-ebcfc948deaa",
   "metadata": {},
   "outputs": [],
   "source": [
    "sql_ex03 = \"\"\"\n",
    "-- Sua Trigger AQUI!\n",
    "\"\"\"\n",
    "\n",
    "db(sql_ex03)"
   ]
  },
  {
   "cell_type": "markdown",
   "id": "fb3e40b2-8bde-42cf-98fd-793996f20ffd",
   "metadata": {},
   "source": [
    "Após testar localmente e considerar sua solução correta, faça o envio clicando no botão abaixo!"
   ]
  },
  {
   "cell_type": "code",
   "execution_count": null,
   "id": "829d0f91-c6a7-4e51-8cef-a3c4ad0043d5",
   "metadata": {},
   "outputs": [],
   "source": [
    "ia.sender(answer=\"sql_ex03\", task=\"af_md_23_2\", question=\"ex03trigger\", answer_type=\"pyvar\")"
   ]
  },
  {
   "cell_type": "markdown",
   "id": "286f8304-3ec5-43df-8e8a-115009a95296",
   "metadata": {},
   "source": [
    "**Exercício 04**:\n",
    "\n",
    "Considere que foi criado o usuário `u_consult` com login a partir de qualquer host.\n",
    "\n",
    "O usuário possui permissão de **LEITURA** e **INSERÇÃO** na tabela de `mensagens` utilizada no exercício anterior. Entretanto, ele não deveria poder **INSERIR** na tabela `mensagens`.\n",
    "\n",
    "Faça as atualizações, revogando as permissões não mais necessárias."
   ]
  },
  {
   "cell_type": "code",
   "execution_count": null,
   "id": "65f91f41-7928-4e42-bf21-935117bba8e6",
   "metadata": {},
   "outputs": [],
   "source": [
    "sql_ex04 = \"\"\"\n",
    "-- Seu SQL AQUI!\n",
    "\"\"\"\n",
    "\n",
    "db(sql_ex04)"
   ]
  },
  {
   "cell_type": "markdown",
   "id": "d1d9fbbe-9cbb-4de6-b66b-551deb80029a",
   "metadata": {},
   "source": [
    "Após testar localmente e considerar sua solução correta, faça o envio clicando no botão abaixo!"
   ]
  },
  {
   "cell_type": "code",
   "execution_count": null,
   "id": "e5867621-6625-41ea-95ee-34585353d5aa",
   "metadata": {},
   "outputs": [],
   "source": [
    "ia.sender(answer=\"sql_ex04\", task=\"af_md_23_2\", question=\"ex04perm\", answer_type=\"pyvar\")"
   ]
  },
  {
   "cell_type": "markdown",
   "id": "0c42d590-f6e4-45bb-b919-ac5134a43873",
   "metadata": {},
   "source": [
    "**Exercício 5**:\n",
    "\n",
    "Um pesquisador irá analisar parte dos dados de um projeto científico para identificação de exoplanetas.\n",
    "\n",
    "Os dados do projeto são armazenados em um servidor com quatro HDs de 10TB configurados em RAID 5.\n",
    "\n",
    "Durante o projeto, surgiram questões como:\n",
    "\n",
    "*\"Considerando que são recebidos 14 GB por semana, quantos dias serão necessários para que se atinja 75% da capacidade disponível para armazenamento no servidor?\"*\n",
    "\n",
    "Para responder questões como esta rapidamente, você deve construir uma função `calc_dias_armazenamento` em python que recebe, nesta ordem:\n",
    "\n",
    "- `tb_por_hd`: quantidade de terabytes de cada um dos quatro HDs;\n",
    "- `gb_semana`: quantidade de novos dados recebidos a cada semana, em GB;\n",
    "- `perc`: capacidade percentual limite que se quer analisar. O percentual será passado no intervalo `[0.0 ... 1.0]`.\n",
    "\n",
    "Como resposta, você deve devolver a quantidade inteira de dias até que que a capacidade percentual seja atingida.\n",
    "\n",
    "**Obs**:\n",
    "- Considere o sistema internacional de unidades, ou seja, 1TB = 1000GB e 1GB=1000MB."
   ]
  },
  {
   "cell_type": "code",
   "execution_count": null,
   "id": "187ef163-422a-4ec4-8abf-7ecae7155680",
   "metadata": {},
   "outputs": [],
   "source": [
    "def calc_dias_armazenamento(tb_por_hd, gb_semana, perc):\n",
    "    # Altere esta função!\n",
    "    return 0"
   ]
  },
  {
   "cell_type": "code",
   "execution_count": null,
   "id": "c850584a-0dd9-4df5-99ef-e9a1b3cc4602",
   "metadata": {},
   "outputs": [],
   "source": [
    "# Alguns testes locais\n",
    "assert calc_dias_armazenamento(10, 14000, 0.5) == 7\n",
    "assert calc_dias_armazenamento(20, 12800, 0.9) == 29"
   ]
  },
  {
   "cell_type": "markdown",
   "id": "0969701f-811d-41e5-a790-c637fac3fd07",
   "metadata": {},
   "source": [
    "Após testar localmente e considerar sua solução correta, faça o envio clicando no botão abaixo!"
   ]
  },
  {
   "cell_type": "code",
   "execution_count": null,
   "id": "a028bd6e",
   "metadata": {
    "scrolled": true
   },
   "outputs": [],
   "source": [
    "ia.sender(answer=\"calc_dias_armazenamento\", task=\"af_md_23_2\", question=\"ex05python\", answer_type=\"pycode\")"
   ]
  },
  {
   "cell_type": "markdown",
   "id": "ebf33a4c",
   "metadata": {},
   "source": [
    "**Exercício 6**: (**Nota: 1,5**)\n",
    "\n",
    "Na atividade da próxima *sprint*, foi atribuido ao seu time de analistas de negócio a entrega de um *Dashboard* para acompanhamento dos números de vendas da empresa (vendas por região, vendas por categoria de produto, vendas por canal, etc.)\n",
    "\n",
    "Dado que isolamento é uma das propriedades fundamentais de bancos de dados relacionais e considerando que parte da especificação envolve:\n",
    "\n",
    "- O acompanhamento será feito em tempo real;\n",
    "- É ok ocorrerem imprecisões momentâneas.\n",
    "\n",
    "Justifique **qual nível de isolamento de transações** você recomendaria que fosse utilizado no projeto.\n",
    "\n",
    "Esta questão será corrigida considerando a seguinte rubrica:\n",
    "\n",
    "| Conceito | Nota | Descrição                                                                                                                                               |\n",
    "|:----------:|----------:|:---------------------------------------------------------------------------------------------------------------------------------------------------------|\n",
    "| I        | 0.0 |Apenas citou o assunto ou alguns fatos sem explicações                                                                                                  |\n",
    "| D        | 0.3 |Explicou superficialmente o assunto ou fatos mas sem muitos detalhes conclusivos                                                                        |\n",
    "| C        | 0.6 |Explicou com detalhes, apresentando definições concretas.                                                                                               |\n",
    "| B        | 0.8 |Explicou com detalhes, apresentando definições concretas e exemplos de uso.                                                                            |\n",
    "| A        | 1.0 |Explicou com detalhes, apresentando definições concretas, exemplos de uso e ainda outros tópicos correlatos, fazendo uma conexão lógica entre eles. |"
   ]
  },
  {
   "cell_type": "markdown",
   "id": "513de6bb",
   "metadata": {},
   "source": [
    "<div class=\"alert alert-success\">\n",
    "\n",
    "Sua resposta AQUI!\n",
    "\n",
    "</div>"
   ]
  },
  {
   "cell_type": "markdown",
   "id": "8d13d933",
   "metadata": {},
   "source": [
    "**Exercício 7**:\n",
    "\n",
    "Considere um cenário onde projetos são propostos por empresas em busca de financiamento. Cada projeto é proposto por apenas uma empresa, mas a empresa pode propor muitos projetos.\n",
    "\n",
    "Os projetos podem ou não receber apoio financeiro. Esta decisão é tomada por meio de uma votação, onde usuários membros de um grupo qualquer decidirão se apoiam ou não cada projeto. Cada usuário vota apenas uma vez em cada projeto (`S: sim`, `N: não`, `A: anula`).\n",
    "\n",
    "Considerando esta tabela de `votos`:\n",
    "\n",
    "| id_usuario(PK) | nome           | id_projeto(PK) | projeto     | descricao                              | id_empresa | empresa | voto |\n",
    "|----------------|----------------|----------------|-------------|----------------------------------------|------------|---------|------|\n",
    "| 20             | Antonio Soares | 1              | Sockerator  | Emparelhador de meias                  | 50         | UniX    | S    |\n",
    "| 21             | Marina Pereira | 1              | Sockerator  | Emparelhador de meias                  | 50         | UniX    | S    |\n",
    "| 22             | Camila Mert    | 1              | Sockerator  | Emparelhador de meias                  | 50         | UniX    | N    |\n",
    "| 20             | Antonio Soares | 2              | Snacktapult | Lança petiscos diretamente para a boca | 51         | Abx     | S    |\n",
    "| 22             | Camila Mert    | 2              | Snacktapult | Lança petiscos diretamente para a boca | 51         | Abx     | N    |\n",
    "| 20             | Antonio Soares | 3              | LazyHat     | Um boné com apoio para petiscos        | 50         | UniX    | A    |\n",
    "| 21             | Marina Pereira | 3              | Lazy Hat    | Um boné com apoio para petiscos        | 50         | UniX    | A    |\n",
    "\n",
    "Chamamos de normalização o processo de rearranjar o banco de dados para que obedeça às várias formas normais. Assim, reduzimos a redundância, aumentamos o desempenho e a integridade de dados.\n",
    "\n",
    "**a)** (**Nota: 1,0**) Ao analisar a tabela, um aluno fez a seguinte afirmação:\n",
    "\n",
    "*\"A tabela de `votos` está na `2NF` mas não está na `1NF`\"*\n",
    "\n",
    "A afirmação do aluno está correta? Justifique detalhadamente.\n",
    "\n",
    "Esta questão será corrigida considerando a seguinte rubrica:\n",
    "\n",
    "| Conceito | Nota | Descrição                                                                                                                                               |\n",
    "|:----------:|----------:|:---------------------------------------------------------------------------------------------------------------------------------------------------------|\n",
    "| I        | 0.0 |Apenas citou o assunto ou alguns fatos sem explicações                                                                                                  |\n",
    "| D        | 0.3 |Explicou superficialmente o assunto ou fatos mas sem muitos detalhes conclusivos                                                                        |\n",
    "| C        | 0.6 |Explicou com detalhes, apresentando definições concretas.                                                                                               |\n",
    "| B        | 0.8 |Explicou com detalhes, apresentando definições concretas e exemplos de uso.                                                                            |\n",
    "| A        | 1.0 |Explicou com detalhes, apresentando definições concretas, exemplos de uso e ainda outros tópicos correlatos, fazendo uma conexão lógica entre eles. |"
   ]
  },
  {
   "cell_type": "markdown",
   "id": "d0be9d61-2838-4134-8776-f3e37c27bb8c",
   "metadata": {},
   "source": [
    "<div class=\"alert alert-success\">\n",
    "\n",
    "Sua resposta AQUI!\n",
    "\n",
    "</div>"
   ]
  },
  {
   "cell_type": "markdown",
   "id": "838877f5-1cf9-44c3-a518-503ea44bf721",
   "metadata": {},
   "source": [
    "**b**) (**Nota: 1,5**) Baseado na tabela denormalizada fornecida, normalize os dados até a 3ª Forma Normal (`3NF`), garantindo:\n",
    "\n",
    "1. Eliminação de redundâncias.\n",
    "2. Integridade referencial entre as entidades.\n",
    "3. Relacionamento correto entre jogos, times, jogadores e técnicos.\n",
    "\n",
    "Crie no **MySQL Workbench** ou **Draw.io** o **Diagrama do modelo relacional (EER Diagram)** que representa a base de dados normalizada.\n",
    "\n",
    "**Instruções:**\n",
    "- Salve o DER na pasta `resposta_der`. Utilize formato **png** ou **jpg**.\n",
    "- Insira o caminho do arquivo no notebook usando uma tag para exibir a imagem.\n",
    "\n",
    "**Critérios de Avaliação (Rubrica):**\n",
    "\n",
    "| Conceito | Nota Porcentual | Descrição                                                                                                                                               |\n",
    "|:----------:|----------:|:---------------------------------------------------------------------------------------------------------------------------------------------------------|\n",
    "| I        | 0.0 |Insuficiente, as modificações propostas não consideram as informações a serem armazenadas ou consideram um cenário diferente do proposto |\n",
    "| D        | 0.3 |Não está na 1NF, mas a solução está em desenvolvimento e permite armazenar boa parte das informações |\n",
    "| C        | 0.6 |Está na 1NF, sem erros, redundâncias ou ineficiências | |\n",
    "| B        | 0.8 |Está na 2NF, sem erros, redundâncias ou ineficiências | |\n",
    "| A        | 1.0 |Está na 3NF, sem erros, redundâncias ou ineficiências |"
   ]
  },
  {
   "cell_type": "markdown",
   "id": "3b3813fa",
   "metadata": {},
   "source": [
    "<div class=\"alert alert-success\">\n",
    "\n",
    "Seu diagrama do workbench AQUI!\n",
    "\n",
    "<img src=\"resposta_der/exemplo.png\">\n",
    "\n",
    "</div>"
   ]
  },
  {
   "cell_type": "markdown",
   "id": "405230dc",
   "metadata": {},
   "source": [
    "### Conferindo as notas!"
   ]
  },
  {
   "cell_type": "code",
   "execution_count": null,
   "id": "b65540cb",
   "metadata": {},
   "outputs": [],
   "source": [
    "ia.grades(task=\"af_md_23_2\")"
   ]
  },
  {
   "cell_type": "code",
   "execution_count": null,
   "id": "342db676-b092-4966-b277-94c02f8fc98b",
   "metadata": {},
   "outputs": [],
   "source": [
    "ia.grades(by=\"TASK\", task=\"af_md_23_2\")"
   ]
  },
  {
   "cell_type": "code",
   "execution_count": null,
   "id": "fad41f57",
   "metadata": {},
   "outputs": [],
   "source": [
    "ia.grades(by=\"TASK\")"
   ]
  },
  {
   "cell_type": "code",
   "execution_count": null,
   "id": "02843162",
   "metadata": {},
   "outputs": [],
   "source": [
    "ia.average(excluded_count=2)"
   ]
  },
  {
   "cell_type": "markdown",
   "id": "5f091821",
   "metadata": {},
   "source": [
    "## Entrega!\n",
    "\n",
    "É hora de entregar. Envie um **ZIP** (não **RAR**) e finalize o teste no proctorio!"
   ]
  }
 ],
 "metadata": {
  "kernelspec": {
   "display_name": "md",
   "language": "python",
   "name": "python3"
  },
  "language_info": {
   "codemirror_mode": {
    "name": "ipython",
    "version": 3
   },
   "file_extension": ".py",
   "mimetype": "text/x-python",
   "name": "python",
   "nbconvert_exporter": "python",
   "pygments_lexer": "ipython3",
   "version": "3.10.12"
  }
 },
 "nbformat": 4,
 "nbformat_minor": 5
}
