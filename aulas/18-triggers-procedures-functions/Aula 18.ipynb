{
 "cells": [
  {
   "cell_type": "markdown",
   "metadata": {
    "tags": []
   },
   "source": [
    "# SQL pré-armazenado: stored procedures, triggers, views\n",
    "\n",
    "Além de armazenar nossos dados em tabelas, os bancos de dados também podem armazenar código SQL na forma de vários tipos de objetos:\n",
    "\n",
    "- **Stored procedures**: procedimentos escritos em SQL, executados através da chamada `CALL`.\n",
    "- **Stored functions**: funções escritas em SQL e que podem ser usadas nas mesmas situações que uma função pré-definida seria usada, como `SUM()` ou `COUNT()`\n",
    "- **Triggers**: Um procedimento que será executado automaticamente quando determinadas condições ocorrem, como `INSERT`, `UPDATE` ou `DELETE` em uma tabela.\n",
    "- **Eventos**: Procedimentos que podem ser executados pelo banco de dados em horários pré-definidos.\n",
    "- **Views**: Diferente dos outros objetos, uma view é como um `SELECT` pré-definido, e resulta em uma tabela virtual.\n",
    "\n",
    "Vamos continuar trabalhando com a base de dados **emprestimo** de uma aula anterior.\n",
    "\n",
    "<img src=\"img/diagrama.png\">\n",
    "\n",
    "Para facilitar a atividade de hoje, vamos começar do zero rodando o script `emprestimos.sql`:\n",
    "\n",
    "```SQL\n",
    "DROP DATABASE IF EXISTS emprestimos;\n",
    "CREATE DATABASE emprestimos;\n",
    "USE emprestimos;\n",
    "\n",
    "CREATE TABLE usuario (\n",
    "    id_usuario INT NOT NULL AUTO_INCREMENT,\n",
    "    nome VARCHAR(80) NOT NULL,\n",
    "    sobrenome VARCHAR(80) NOT NULL,\n",
    "    saldo DECIMAL(30 , 2 ) NOT NULL DEFAULT 0.0,\n",
    "    PRIMARY KEY (id_usuario),\n",
    "    CONSTRAINT c_saldo CHECK (saldo >= 0.0)\n",
    ");\n",
    "\n",
    "CREATE TABLE emprestimo (\n",
    "    id_emprestimo INT NOT NULL AUTO_INCREMENT,\n",
    "    id_credor INT NOT NULL,\n",
    "    id_devedor INT NOT NULL,\n",
    "    valor_atual DECIMAL(30 , 2 ) NOT NULL DEFAULT 0.0,\n",
    "    data_inicio DATETIME NOT NULL DEFAULT CURRENT_TIMESTAMP,\n",
    "    data_modificação DATETIME NOT NULL DEFAULT CURRENT_TIMESTAMP ON UPDATE CURRENT_TIMESTAMP,\n",
    "    PRIMARY KEY (id_emprestimo),\n",
    "    CONSTRAINT fk_credor FOREIGN KEY (id_credor)\n",
    "        REFERENCES usuario (id_usuario),\n",
    "    CONSTRAINT fk_devedor FOREIGN KEY (id_devedor)\n",
    "        REFERENCES usuario (id_usuario),\n",
    "    CONSTRAINT c_valor CHECK (valor_atual >= 0.0)\n",
    ");\n",
    "\n",
    "CREATE TABLE operacao (\n",
    "    id_operacao INT NOT NULL AUTO_INCREMENT,\n",
    "    id_emprestimo INT NOT NULL,\n",
    "    valor DECIMAL(30 , 2 ),\n",
    "    data_operacao DATETIME NOT NULL DEFAULT CURRENT_TIMESTAMP,\n",
    "    PRIMARY KEY (id_operacao),\n",
    "    CONSTRAINT fk_emprestimo FOREIGN KEY (id_emprestimo)\n",
    "        REFERENCES emprestimo (id_emprestimo)\n",
    ");\n",
    "\n",
    "CREATE TABLE movimentacao (\n",
    "    id_movimentacao INT NOT NULL AUTO_INCREMENT,\n",
    "    id_usuario INT NOT NULL,\n",
    "    valor DECIMAL(30 , 2 ),\n",
    "    data_operacao DATETIME NOT NULL DEFAULT CURRENT_TIMESTAMP,\n",
    "    PRIMARY KEY (id_movimentacao),\n",
    "    CONSTRAINT fk_usuario FOREIGN KEY (id_usuario)\n",
    "        REFERENCES usuario (id_usuario)\n",
    ");\n",
    "```\n",
    "\n",
    "Em seguida, vamos abrir a conexão com o banco de dados."
   ]
  },
  {
   "cell_type": "code",
   "execution_count": 5,
   "metadata": {},
   "outputs": [
    {
     "name": "stdout",
     "output_type": "stream",
     "text": [
      "Collecting mysql-connector-python==8.3.0\n",
      "  Downloading mysql_connector_python-8.3.0-cp310-cp310-win_amd64.whl.metadata (2.0 kB)\n",
      "Downloading mysql_connector_python-8.3.0-cp310-cp310-win_amd64.whl (15.4 MB)\n",
      "   ---------------------------------------- 0.0/15.4 MB ? eta -:--:--\n",
      "    --------------------------------------- 0.3/15.4 MB ? eta -:--:--\n",
      "   -- ------------------------------------- 0.8/15.4 MB 1.9 MB/s eta 0:00:08\n",
      "   --- ------------------------------------ 1.3/15.4 MB 2.2 MB/s eta 0:00:07\n",
      "   ---- ----------------------------------- 1.6/15.4 MB 2.2 MB/s eta 0:00:07\n",
      "   ---- ----------------------------------- 1.8/15.4 MB 1.9 MB/s eta 0:00:08\n",
      "   ----- ---------------------------------- 2.1/15.4 MB 1.7 MB/s eta 0:00:08\n",
      "   ------ --------------------------------- 2.6/15.4 MB 1.8 MB/s eta 0:00:08\n",
      "   ------ --------------------------------- 2.6/15.4 MB 1.8 MB/s eta 0:00:08\n",
      "   ------- -------------------------------- 2.9/15.4 MB 1.6 MB/s eta 0:00:08\n",
      "   -------- ------------------------------- 3.1/15.4 MB 1.6 MB/s eta 0:00:08\n",
      "   -------- ------------------------------- 3.4/15.4 MB 1.5 MB/s eta 0:00:08\n",
      "   --------- ------------------------------ 3.7/15.4 MB 1.5 MB/s eta 0:00:08\n",
      "   ---------- ----------------------------- 3.9/15.4 MB 1.4 MB/s eta 0:00:09\n",
      "   ---------- ----------------------------- 3.9/15.4 MB 1.4 MB/s eta 0:00:09\n",
      "   ---------- ----------------------------- 4.2/15.4 MB 1.3 MB/s eta 0:00:09\n",
      "   ---------- ----------------------------- 4.2/15.4 MB 1.3 MB/s eta 0:00:09\n",
      "   ---------- ----------------------------- 4.2/15.4 MB 1.3 MB/s eta 0:00:09\n",
      "   ---------- ----------------------------- 4.2/15.4 MB 1.3 MB/s eta 0:00:09\n",
      "   ----------- ---------------------------- 4.5/15.4 MB 1.1 MB/s eta 0:00:10\n",
      "   ------------ --------------------------- 5.0/15.4 MB 1.1 MB/s eta 0:00:10\n",
      "   ------------- -------------------------- 5.2/15.4 MB 1.2 MB/s eta 0:00:09\n",
      "   -------------- ------------------------- 5.8/15.4 MB 1.2 MB/s eta 0:00:08\n",
      "   ----------------- ---------------------- 6.6/15.4 MB 1.3 MB/s eta 0:00:07\n",
      "   ------------------- -------------------- 7.3/15.4 MB 1.4 MB/s eta 0:00:06\n",
      "   --------------------- ------------------ 8.1/15.4 MB 1.5 MB/s eta 0:00:05\n",
      "   ---------------------- ----------------- 8.7/15.4 MB 1.6 MB/s eta 0:00:05\n",
      "   ----------------------- ---------------- 8.9/15.4 MB 1.6 MB/s eta 0:00:05\n",
      "   ------------------------- -------------- 9.7/15.4 MB 1.6 MB/s eta 0:00:04\n",
      "   ------------------------- -------------- 10.0/15.4 MB 1.6 MB/s eta 0:00:04\n",
      "   --------------------------- ------------ 10.5/15.4 MB 1.6 MB/s eta 0:00:04\n",
      "   ----------------------------- ---------- 11.3/15.4 MB 1.7 MB/s eta 0:00:03\n",
      "   ------------------------------ --------- 11.8/15.4 MB 1.7 MB/s eta 0:00:03\n",
      "   -------------------------------- ------- 12.6/15.4 MB 1.8 MB/s eta 0:00:02\n",
      "   ---------------------------------- ----- 13.4/15.4 MB 1.8 MB/s eta 0:00:02\n",
      "   ------------------------------------ --- 13.9/15.4 MB 1.9 MB/s eta 0:00:01\n",
      "   -------------------------------------- - 14.7/15.4 MB 1.9 MB/s eta 0:00:01\n",
      "   ---------------------------------------  15.2/15.4 MB 1.9 MB/s eta 0:00:01\n",
      "   ---------------------------------------- 15.4/15.4 MB 1.9 MB/s eta 0:00:00\n",
      "Installing collected packages: mysql-connector-python\n",
      "  Attempting uninstall: mysql-connector-python\n",
      "    Found existing installation: mysql-connector-python 9.2.0\n",
      "    Uninstalling mysql-connector-python-9.2.0:\n",
      "      Successfully uninstalled mysql-connector-python-9.2.0\n",
      "Successfully installed mysql-connector-python-8.3.0\n"
     ]
    },
    {
     "name": "stderr",
     "output_type": "stream",
     "text": [
      "\n",
      "[notice] A new release of pip is available: 25.0 -> 25.1.1\n",
      "[notice] To update, run: C:\\Users\\Vinicius Rodrigues\\AppData\\Local\\Microsoft\\WindowsApps\\PythonSoftwareFoundation.Python.3.10_qbz5n2kfra8p0\\python.exe -m pip install --upgrade pip\n"
     ]
    }
   ],
   "source": [
    "!python -m pip install mysql-connector-python==8.3.0"
   ]
  },
  {
   "cell_type": "code",
   "execution_count": 1,
   "metadata": {},
   "outputs": [
    {
     "data": {
      "text/plain": [
       "True"
      ]
     },
     "execution_count": 1,
     "metadata": {},
     "output_type": "execute_result"
    }
   ],
   "source": [
    "import mysql.connector\n",
    "from functools import partial\n",
    "import os\n",
    "import insperautograder.jupyter as ia\n",
    "from dotenv import load_dotenv\n",
    "\n",
    "load_dotenv()"
   ]
  },
  {
   "cell_type": "code",
   "execution_count": 78,
   "metadata": {},
   "outputs": [],
   "source": [
    "script = \"\"\"\n",
    "DROP DATABASE IF EXISTS emprestimos;\n",
    "CREATE DATABASE emprestimos;\n",
    "USE emprestimos;\n",
    "\n",
    "CREATE TABLE usuario (\n",
    "    id_usuario INT NOT NULL AUTO_INCREMENT,\n",
    "    nome VARCHAR(80) NOT NULL,\n",
    "    sobrenome VARCHAR(80) NOT NULL,\n",
    "    saldo DECIMAL(30 , 2 ) NOT NULL DEFAULT 0.0,\n",
    "    PRIMARY KEY (id_usuario),\n",
    "    CONSTRAINT c_saldo CHECK (saldo >= 0.0)\n",
    ");\n",
    "\n",
    "CREATE TABLE emprestimo (\n",
    "    id_emprestimo INT NOT NULL AUTO_INCREMENT,\n",
    "    id_credor INT NOT NULL,\n",
    "    id_devedor INT NOT NULL,\n",
    "    valor_atual DECIMAL(30 , 2 ) NOT NULL DEFAULT 0.0,\n",
    "    data_inicio DATETIME NOT NULL DEFAULT CURRENT_TIMESTAMP,\n",
    "    data_modificação DATETIME NOT NULL DEFAULT CURRENT_TIMESTAMP ON UPDATE CURRENT_TIMESTAMP,\n",
    "    PRIMARY KEY (id_emprestimo),\n",
    "    CONSTRAINT fk_credor FOREIGN KEY (id_credor)\n",
    "        REFERENCES usuario (id_usuario),\n",
    "    CONSTRAINT fk_devedor FOREIGN KEY (id_devedor)\n",
    "        REFERENCES usuario (id_usuario),\n",
    "    CONSTRAINT c_valor CHECK (valor_atual >= 0.0)\n",
    ");\n",
    "\n",
    "CREATE TABLE operacao (\n",
    "    id_operacao INT NOT NULL AUTO_INCREMENT,\n",
    "    id_emprestimo INT NOT NULL,\n",
    "    valor DECIMAL(30 , 2 ),\n",
    "    data_operacao DATETIME NOT NULL DEFAULT CURRENT_TIMESTAMP,\n",
    "    PRIMARY KEY (id_operacao),\n",
    "    CONSTRAINT fk_emprestimo FOREIGN KEY (id_emprestimo)\n",
    "        REFERENCES emprestimo (id_emprestimo)\n",
    ");\n",
    "\n",
    "CREATE TABLE movimentacao (\n",
    "    id_movimentacao INT NOT NULL AUTO_INCREMENT,\n",
    "    id_usuario INT NOT NULL,\n",
    "    valor DECIMAL(30 , 2 ),\n",
    "    data_operacao DATETIME NOT NULL DEFAULT CURRENT_TIMESTAMP,\n",
    "    PRIMARY KEY (id_movimentacao),\n",
    "    CONSTRAINT fk_usuario FOREIGN KEY (id_usuario)\n",
    "        REFERENCES usuario (id_usuario)\n",
    ");\n",
    "\"\"\"\n",
    "\n",
    "connection = mysql.connector.connect(\n",
    "    host=os.getenv(\"MD_DB_SERVER\"),\n",
    "    user=os.getenv(\"MD_DB_USERNAME\"),\n",
    "    password=os.getenv(\"MD_DB_PASSWORD\"),\n",
    ")\n",
    "\n",
    "with connection.cursor() as cursor:\n",
    "    try:\n",
    "        for _ in cursor.execute(script, multi=True):\n",
    "            pass\n",
    "        cursor.execute(\"COMMIT\")\n",
    "    except Exception as e:\n",
    "        print(e)\n",
    "        cursor.execute(\"ROLLBACK\")\n",
    "\n",
    "connection.close()"
   ]
  },
  {
   "cell_type": "code",
   "execution_count": 142,
   "metadata": {},
   "outputs": [],
   "source": [
    "def get_connection_helper(database):\n",
    "\n",
    "    def run_db_query(connection, query, args=None):\n",
    "        with connection.cursor() as cursor:\n",
    "            # print(\"Executando queries:\")\n",
    "            results = cursor.execute(query, args, multi=True)\n",
    "            for i, result in enumerate(results):\n",
    "                if result.with_rows:\n",
    "                    print(f\"Resultado query {i}:\")\n",
    "                    for line in result.fetchall():\n",
    "                        print(line)\n",
    "                else:\n",
    "                    print(f\"Query {i} executada!\")\n",
    "\n",
    "    connection = mysql.connector.connect(\n",
    "        host=os.getenv(\"MD_DB_SERVER\"),\n",
    "        user=os.getenv(\"MD_DB_USERNAME\"),\n",
    "        password=os.getenv(\"MD_DB_PASSWORD\"),\n",
    "        database=database,\n",
    "    )\n",
    "    return connection, partial(run_db_query, connection)\n",
    "\n",
    "\n",
    "connection, db = get_connection_helper(\"emprestimos\")"
   ]
  },
  {
   "cell_type": "markdown",
   "metadata": {},
   "source": [
    "## Stored procedures\n",
    "\n",
    "Existem algumas vantagens em procedimentos armazenados (stored procedures):\n",
    "\n",
    "- **Reuso de código**: como em qualquer outra linguagem de programação, podemos construir stored procedures para definir tarefas rotineiras e reutilizá-las em vários workflows.\n",
    "- **Segurança**: Ao invés de oferecer acesso direto à tabelas, podemos bloquear todos os acessos a tabelas e definir acesso à stored procedures! Assim, ao invés de permitir acesso à tabela *usuario*, podemos permitir acesso ao procedimento `saque()` ou `consulta_saldo()`\n",
    "- **Desempenho**: ao invés de mandar vários comandos SQL para a base de dados toda vez que quisermos realizar determinada tarefa, podemos simplesmente chamar um procedimento armazenado, pois todo o código já está na base de dados. Ademais, a base de dados não precisa compilar o procedimento toda vez que este é chamado, basta compilar na primeira execução e manter o código compilado em um cache.\n",
    "\n",
    "Existem também desvantagens:\n",
    "\n",
    "- **Debugging**: pode ser difícil debugar um procedimento armazenado\n",
    "- **Portabilidade**: a sintaxe de definição de stored procedures é raramente portável entre diferentes sistemas de gerenciamento de bancos de dados.\n",
    "- **Separação entre dados e lógica de negócios**: com stored procedures estamos migrando parte da lógica de negócios para o banco de dados. Alterações na lógica agora demandam modificações (e manutenção) em partes distintas da sua aplicação, uma receita para dor de cabeça!\n",
    "- **Aumento da carga de processamento no servidor**: servidores de banco de dados costumam ser otimizados para memória e largura de banda, não para processamento.\n",
    "\n",
    "Ou seja use procedimentos armazenados com cautela!\n",
    "\n",
    "### Interlúdio: o valor da experiência\n",
    "\n",
    "Como você já deve ter percebido à essa altura do curso, você tem um camilho longo pela frente, desde conhecer um conceito novo até dominar o uso deste conceito com sabedoria - isso chama-se ganhar experiência! Não subestime o valor de trabalhar \"nas trincheiras\" aplicando seus conhecimentos novos e aprendendo com a experiência dos veteranos. Além disso, continue se aperfeiçoando - faça cursos para conhecer melhor a tecnologia, invente projetos para tentar novas ideias, assista vídeos no YouTube sobre melhores práticas, busque projetos (e empregos) onde você possa se desenvolver.\n",
    "\n",
    "É impossível formar engenheiros experientes em um curso - mesmo que fossem dois cursos, não cobriríamos tudo que existe sobre banco de dados. Mas estou certo de que vocês adquiriram novas ferramentas neste módulo do curso, e estão capacitados a continuar progredindo em banco de dados.\n",
    "\n",
    "Nós, os professores do Insper, estamos fazendo o possível para transferir a vocês mais do que conhecimento - estamos buscando desenvolver competência também! E para isso só existe um caminho: a prática. Façam exercícios, coloquem esforço nos projetos, e venham preparados para a aula para que possamos ir além da mera leitura do material didático, ok?\n",
    "\n",
    "Voltamos agora à programação regular..."
   ]
  },
  {
   "cell_type": "markdown",
   "metadata": {},
   "source": [
    "### Construindo uma stored procedure\n",
    "\n",
    "Vamos começar com uma stored procedure para adicionar um usuário. Crie e execute o seguinte script no MySQL workbench:\n",
    "\n",
    "```SQL\n",
    "USE emprestimos;\n",
    "\n",
    "DROP PROCEDURE IF EXISTS adiciona_usuario;\n",
    "\n",
    "DELIMITER //\n",
    "CREATE PROCEDURE adiciona_usuario(IN novo_nome VARCHAR(80), IN novo_sobrenome VARCHAR(80))\n",
    "BEGIN\n",
    "    INSERT INTO usuario (nome, sobrenome)\n",
    "    VALUES (novo_nome, novo_sobrenome);\n",
    "END//\n",
    "DELIMITER ;\n",
    "```\n",
    "\n",
    "Note o uso destes comandos `DELIMITER`. Coisas de MySQL: ele não entende que os ponto-e-virgula internos ao procedimento não sinalizam o final do comando CREATE PROCEDURE... Este procedimento será necessário quando quiser criar as procedures no Workbench, mas não deverá ser utilizado quando quiser rodar direto do python (com mysql.connector podemos utilizar ponto e vírgula).\n",
    "\n",
    "Chamando pelo Python ficará assim:\n",
    "\n",
    "```SQL\n",
    "USE emprestimos;\n",
    "\n",
    "DROP PROCEDURE IF EXISTS adiciona_usuario;\n",
    "\n",
    "CREATE PROCEDURE adiciona_usuario(IN novo_nome VARCHAR(80), IN novo_sobrenome VARCHAR(80))\n",
    "BEGIN\n",
    "    INSERT INTO usuario (nome, sobrenome)\n",
    "    VALUES (novo_nome, novo_sobrenome);\n",
    "END;\n",
    "```\n",
    "\n",
    "Agora podemos usar nossa nova procedure para adicionar alguns usuários!"
   ]
  },
  {
   "cell_type": "code",
   "execution_count": 80,
   "metadata": {},
   "outputs": [
    {
     "name": "stdout",
     "output_type": "stream",
     "text": [
      "Resultado query 0:\n"
     ]
    }
   ],
   "source": [
    "db(\"SELECT * FROM usuario\")"
   ]
  },
  {
   "cell_type": "code",
   "execution_count": 81,
   "metadata": {},
   "outputs": [
    {
     "name": "stdout",
     "output_type": "stream",
     "text": [
      "Query 0 executada!\n"
     ]
    }
   ],
   "source": [
    "db(\"COMMIT\");"
   ]
  },
  {
   "cell_type": "code",
   "execution_count": 83,
   "metadata": {
    "scrolled": true
   },
   "outputs": [
    {
     "name": "stdout",
     "output_type": "stream",
     "text": [
      "Query 0 executada!\n",
      "Query 0 executada!\n",
      "Query 0 executada!\n",
      "Query 0 executada!\n",
      "Query 0 executada!\n",
      "Query 0 executada!\n",
      "Query 0 executada!\n"
     ]
    }
   ],
   "source": [
    "db(\"START TRANSACTION;\")\n",
    "try:\n",
    "    db(\"CALL adiciona_usuario('Juca', 'Silva');\")\n",
    "    db(\"CALL adiciona_usuario('Mario', 'Ferreira');\")\n",
    "    db(\"CALL adiciona_usuario('Ana', 'Soares');\")\n",
    "    db(\"CALL adiciona_usuario('Antonio', 'Reis');\")\n",
    "    db(\"CALL adiciona_usuario('Paulo', 'Oliveira');\")\n",
    "    db(\"COMMIT;\")\n",
    "except Exception as e:\n",
    "    print(e)\n",
    "    db(\"ROLLBACK\");"
   ]
  },
  {
   "cell_type": "markdown",
   "metadata": {},
   "source": [
    "Vamos verificar se tudo funcionou bem:"
   ]
  },
  {
   "cell_type": "code",
   "execution_count": 84,
   "metadata": {
    "scrolled": true
   },
   "outputs": [
    {
     "name": "stdout",
     "output_type": "stream",
     "text": [
      "Resultado query 0:\n",
      "(1, 'Juca', 'Silva', Decimal('0.00'))\n",
      "(2, 'Mario', 'Ferreira', Decimal('0.00'))\n",
      "(3, 'Ana', 'Soares', Decimal('0.00'))\n",
      "(4, 'Antonio', 'Reis', Decimal('0.00'))\n",
      "(5, 'Paulo', 'Oliveira', Decimal('0.00'))\n"
     ]
    }
   ],
   "source": [
    "db(\"SELECT * FROM usuario\")"
   ]
  },
  {
   "cell_type": "markdown",
   "metadata": {},
   "source": [
    "### Stored functions\n",
    "\n",
    "Agora vamos criar uma função para consultar o saldo. Rode o script a seguir no MySQL Workbench:\n",
    "\n",
    "```SQL\n",
    "USE emprestimos;\n",
    "\n",
    "DROP FUNCTION IF EXISTS saldo;\n",
    "\n",
    "DELIMITER //\n",
    "CREATE FUNCTION saldo(id INT) RETURNS DECIMAL(30, 2) READS SQL DATA\n",
    "BEGIN\n",
    "    DECLARE saldo_procurado DECIMAL(30, 2);\n",
    "\n",
    "    SELECT \n",
    "        IFNULL(saldo, 0.0)\n",
    "    INTO saldo_procurado FROM\n",
    "        usuario\n",
    "    WHERE\n",
    "        id_usuario = id;\n",
    "\n",
    "    RETURN saldo_procurado;\n",
    "END//\n",
    "DELIMITER ;\n",
    "```\n",
    "\n",
    "Vamos testar esta função informando o id de usuário `1`:"
   ]
  },
  {
   "cell_type": "code",
   "execution_count": 88,
   "metadata": {},
   "outputs": [
    {
     "name": "stdout",
     "output_type": "stream",
     "text": [
      "Resultado query 0:\n",
      "(Decimal('0.00'),)\n"
     ]
    }
   ],
   "source": [
    "db(\"SELECT saldo(1)\")"
   ]
  },
  {
   "cell_type": "markdown",
   "metadata": {},
   "source": [
    "### Exercícios para entrega\n",
    "\n",
    "Esta aula tem atividade para entrega, confira os prazos e exercícios"
   ]
  },
  {
   "cell_type": "code",
   "execution_count": 89,
   "metadata": {},
   "outputs": [
    {
     "data": {
      "text/markdown": [
       "|    | Atividade            | De                  | Até                 | Conta como ATV?   |\n",
       "|---:|:---------------------|:--------------------|:--------------------|:------------------|\n",
       "|  0 | newborn              | 2025-02-01 00:00:00 | 2025-05-30 00:00:00 | Não               |\n",
       "|  1 | select01             | 2025-02-05 00:00:00 | 2025-02-15 23:59:59 | Sim               |\n",
       "|  2 | ddl                  | 2025-02-19 00:00:00 | 2025-02-26 23:59:59 | Sim               |\n",
       "|  3 | dml                  | 2025-02-24 00:00:00 | 2025-03-09 23:59:59 | Sim               |\n",
       "|  4 | agg_join             | 2025-02-26 00:00:00 | 2025-03-09 23:59:59 | Sim               |\n",
       "|  5 | group_having         | 2025-03-10 00:00:00 | 2025-03-17 23:59:59 | Sim               |\n",
       "|  6 | views                | 2025-03-12 00:00:00 | 2025-03-19 23:59:59 | Sim               |\n",
       "|  7 | sql_review1          | 2025-03-17 00:00:00 | 2025-03-23 23:59:59 | Sim               |\n",
       "|  8 | ai_md_23_1           | 2025-03-23 00:00:00 | 2025-03-30 23:59:59 | Sim               |\n",
       "|  9 | ai_md_23_2           | 2025-03-23 00:00:00 | 2025-03-30 23:59:59 | Sim               |\n",
       "| 10 | permissions          | 2025-03-24 00:00:00 | 2025-04-08 23:59:59 | Sim               |\n",
       "| 11 | ai_md_25_1           | 2025-03-31 00:00:00 | 2025-03-31 10:05:00 | Não               |\n",
       "| 12 | desafio_normalizacao | 2025-04-07 00:00:00 | 2025-05-30 00:00:00 | Não               |\n",
       "| 13 | triggers             | 2025-04-23 00:00:00 | 2025-05-04 23:59:59 | Sim               |"
      ],
      "text/plain": [
       "<IPython.core.display.Markdown object>"
      ]
     },
     "metadata": {},
     "output_type": "display_data"
    }
   ],
   "source": [
    "ia.tasks()"
   ]
  },
  {
   "cell_type": "code",
   "execution_count": 90,
   "metadata": {},
   "outputs": [
    {
     "data": {
      "text/markdown": [
       "|    | Atividade   | Exercício   |   Peso |   Nota |\n",
       "|---:|:------------|:------------|-------:|-------:|\n",
       "|  0 | triggers    | ex01        |      1 |     10 |\n",
       "|  1 | triggers    | ex02        |      1 |     10 |\n",
       "|  2 | triggers    | ex04        |      1 |     10 |\n",
       "|  3 | triggers    | ex05        |      1 |      0 |\n",
       "|  4 | triggers    | ex06        |      1 |      0 |\n",
       "|  5 | triggers    | ex07        |      1 |      0 |\n",
       "|  6 | triggers    | ex08        |      1 |      0 |\n",
       "|  7 | triggers    | ex09        |      1 |      0 |"
      ],
      "text/plain": [
       "<IPython.core.display.Markdown object>"
      ]
     },
     "metadata": {},
     "output_type": "display_data"
    }
   ],
   "source": [
    "ia.grades(task=\"triggers\")"
   ]
  },
  {
   "cell_type": "code",
   "execution_count": 91,
   "metadata": {},
   "outputs": [
    {
     "data": {
      "text/markdown": [
       "|    | Tarefa   |   Nota | Conta como ATV?   |\n",
       "|---:|:---------|-------:|:------------------|\n",
       "|  0 | triggers |   3.75 | Sim               |"
      ],
      "text/plain": [
       "<IPython.core.display.Markdown object>"
      ]
     },
     "metadata": {},
     "output_type": "display_data"
    }
   ],
   "source": [
    "ia.grades(by=\"task\", task=\"triggers\")"
   ]
  },
  {
   "cell_type": "markdown",
   "metadata": {},
   "source": [
    "**<div id=\"perg_atv1\"></div>**\n",
    "### Exercícios\n",
    "\n",
    "<div class=\"alert alert-info\">\n",
    "    \n",
    "**OBS**: Alteramos a função `db()` para aceitar o envio de múltiplas queries na mesma string!\n",
    "\n",
    "</div>\n",
    "\n",
    "#### Exercício 1\n",
    "Faça um script SQL que cria uma stored procedure para cobrar uma taxa de manutenção de `D` dinheiros de cada conta, desde que a conta tenha saldo (não cobra de quem nã otem saldo suficiente para descontar a taxa).\n",
    "\n",
    "**Dica**: use a função `IF()`: https://dev.mysql.com/doc/refman/8.0/en/flow-control-functions.html#function_if"
   ]
  },
  {
   "cell_type": "markdown",
   "metadata": {},
   "source": [
    "<div class=\"alert alert-success\">\n",
    "\n",
    "Faça a partir do código base:\n",
    "\n",
    "```SQL\n",
    "USE emprestimos;\n",
    "\n",
    "DROP PROCEDURE IF EXISTS cobra_taxa;\n",
    "\n",
    "CREATE PROCEDURE cobra_taxa(IN taxa DECIMAL(30, 2))\n",
    "BEGIN\n",
    "    --- Gambiarra para desligar o aviso de segurança que previne\n",
    "    --- UPDATES gerais (sem WHERE).\n",
    "    -- OBS: da pra fazer sem ela!\n",
    "    SET @OLD_SQL_SAFE_UPDATES = @@SQL_SAFE_UPDATES;\n",
    "    SET SQL_SAFE_UPDATES=0;\n",
    "\n",
    "    --- Insira seu código aqui.\n",
    "    \n",
    "    --- Desliga a gambiarra.\n",
    "    SET SQL_SAFE_UPDATES=@OLD_SQL_SAFE_UPDATES;\n",
    "END;\n",
    "```   \n",
    "\n",
    "</div>"
   ]
  },
  {
   "cell_type": "code",
   "execution_count": 92,
   "metadata": {},
   "outputs": [
    {
     "name": "stdout",
     "output_type": "stream",
     "text": [
      "Query 0 executada!\n",
      "Query 1 executada!\n",
      "Query 2 executada!\n"
     ]
    }
   ],
   "source": [
    "sql_ex01 = \"\"\"\n",
    "USE emprestimos;\n",
    "\n",
    "DROP PROCEDURE IF EXISTS cobra_taxa;\n",
    "\n",
    "CREATE PROCEDURE cobra_taxa(IN taxa DECIMAL(30, 2))\n",
    "BEGIN\n",
    "    --  Gambiarra para desligar o aviso de segurança que previne\n",
    "    --  UPDATES gerais (sem WHERE).\n",
    "    -- OBS: da pra fazer sem ela!\n",
    "    SET @OLD_SQL_SAFE_UPDATES = @@SQL_SAFE_UPDATES;\n",
    "    SET SQL_SAFE_UPDATES=0;\n",
    "\n",
    "    UPDATE usuario \n",
    "    SET \n",
    "        saldo = saldo - taxa\n",
    "    WHERE\n",
    "        saldo >= taxa;\n",
    "    \n",
    "    --  Desliga a gambiarra.\n",
    "    SET SQL_SAFE_UPDATES=@OLD_SQL_SAFE_UPDATES;\n",
    "END;\n",
    "\"\"\"\n",
    "\n",
    "db(sql_ex01)"
   ]
  },
  {
   "cell_type": "markdown",
   "metadata": {},
   "source": [
    "Escreva um código SQL para testar sua procedure.\n",
    "\n",
    "Pense em como testar sua procedure. Se não conseguir, <a href=\"\" title=\"1) Insira pelo menos três usuários, com saldo acima, abaixo e igual a taxa 2) Selecione (SELECT) os usuários 3) Chame a procedure para cobrar a taxa 4) Selecione os usuários e confira se o saldo foi atualizado.\">pare o mouse aqui para dicas!</a>\n",
    "\n",
    "**Resposta:**"
   ]
  },
  {
   "cell_type": "code",
   "execution_count": null,
   "metadata": {},
   "outputs": [],
   "source": [
    "db(\"-- Seu código AQUI!\")\n",
    "db(\"-- Chame a procedure AQUI!\")\n",
    "db(\"-- Seu código AQUI!\")"
   ]
  },
  {
   "cell_type": "code",
   "execution_count": 20,
   "metadata": {},
   "outputs": [
    {
     "data": {
      "application/vnd.jupyter.widget-view+json": {
       "model_id": "9255f334d6fa476cb555647b62d21813",
       "version_major": 2,
       "version_minor": 0
      },
      "text/plain": [
       "interactive(children=(Button(description='Enviar ex01', style=ButtonStyle()), Output()), _dom_classes=('widget…"
      ]
     },
     "metadata": {},
     "output_type": "display_data"
    }
   ],
   "source": [
    "ia.sender(answer=\"sql_ex01\", task=\"triggers\", question=\"ex01\", answer_type=\"pyvar\")"
   ]
  },
  {
   "cell_type": "markdown",
   "metadata": {},
   "source": [
    "<a href=\"#gab_atv1\">Click para ver a resposta</a>"
   ]
  },
  {
   "cell_type": "markdown",
   "metadata": {},
   "source": [
    "**<div id=\"perg_atv2\"></div>**\n",
    "#### Exercício 2\n",
    "\n",
    "Faça uma função que retorna a soma de todos os saldos da base de dados."
   ]
  },
  {
   "cell_type": "markdown",
   "metadata": {},
   "source": [
    "<div class=\"alert alert-success\">\n",
    "\n",
    "```SQL\n",
    "USE emprestimos;\n",
    "\n",
    "DROP FUNCTION IF EXISTS total_saldos;\n",
    "\n",
    "CREATE FUNCTION total_saldos() RETURNS DECIMAL(30, 2) READS SQL DATA\n",
    "BEGIN\n",
    "\n",
    "    -- Insira seu SQL aqui.\n",
    "\n",
    "END;\n",
    "```\n",
    "\n",
    "</div>"
   ]
  },
  {
   "cell_type": "code",
   "execution_count": 93,
   "metadata": {},
   "outputs": [
    {
     "name": "stdout",
     "output_type": "stream",
     "text": [
      "Query 0 executada!\n",
      "Query 1 executada!\n",
      "Query 2 executada!\n"
     ]
    }
   ],
   "source": [
    "sql_ex02 = \"\"\"\n",
    "USE emprestimos;\n",
    "\n",
    "DROP FUNCTION IF EXISTS total_saldos;\n",
    "\n",
    "CREATE FUNCTION total_saldos() RETURNS DECIMAL(30, 2) READS SQL DATA\n",
    "BEGIN\n",
    "\tDECLARE soma_saldos DECIMAL(30, 2);\n",
    "    SELECT\n",
    "\t\tSUM(saldo) INTO soma_saldos\n",
    "\tFROM\n",
    "\t\tusuario;\n",
    "\tRETURN soma_saldos;\n",
    "END;\n",
    "\"\"\"\n",
    "\n",
    "db(sql_ex02)"
   ]
  },
  {
   "cell_type": "markdown",
   "metadata": {},
   "source": [
    "Escreva um código SQL para testar sua função. Para um teste mais efetivo, garanta que existem usuários com saldos variados na base de dados."
   ]
  },
  {
   "cell_type": "markdown",
   "metadata": {},
   "source": [
    "**Resposta:**"
   ]
  },
  {
   "cell_type": "code",
   "execution_count": 94,
   "metadata": {},
   "outputs": [
    {
     "name": "stdout",
     "output_type": "stream",
     "text": [
      "Resultado query 0:\n",
      "(Decimal('0.00'),)\n"
     ]
    }
   ],
   "source": [
    "db(\"SELECT total_saldos()\")"
   ]
  },
  {
   "cell_type": "code",
   "execution_count": 22,
   "metadata": {},
   "outputs": [
    {
     "data": {
      "application/vnd.jupyter.widget-view+json": {
       "model_id": "532255ee2ced42ed99284fcc341ddd88",
       "version_major": 2,
       "version_minor": 0
      },
      "text/plain": [
       "interactive(children=(Button(description='Enviar ex02', style=ButtonStyle()), Output()), _dom_classes=('widget…"
      ]
     },
     "metadata": {},
     "output_type": "display_data"
    }
   ],
   "source": [
    "ia.sender(answer=\"sql_ex02\", task=\"triggers\", question=\"ex02\", answer_type=\"pyvar\")"
   ]
  },
  {
   "cell_type": "markdown",
   "metadata": {},
   "source": [
    "<a href=\"#gab_atv2\">Click para ver a resposta</a>"
   ]
  },
  {
   "cell_type": "markdown",
   "metadata": {},
   "source": [
    "## Triggers\n",
    "\n",
    "*Triggers*, ou gatilhos, são procedimentos armazenados que são executados automaticamente quando uma operação é realizada. Você pode escolher se o trigger ocorre antes ou depois da ação.\n",
    "\n",
    "Vamos fazer um gatilho para atualizar automaticamente o saldo do usuário quando uma nova movimentação é inserida na tabela `movimentacao`. Vamos também criar uma *constraint* para impedir que um saldo negativo exista na nossa base de dados.\n",
    "\n",
    "Bom, rode o script SQL a seguir no MySQL Workbench:\n",
    "\n",
    "```SQL\n",
    "USE emprestimos;\n",
    "\n",
    "DROP TRIGGER IF EXISTS trig_movimentacao;\n",
    "\n",
    "DELIMITER //\n",
    "CREATE TRIGGER trig_movimentacao \n",
    "BEFORE INSERT ON movimentacao\n",
    "FOR EACH ROW\n",
    "BEGIN\n",
    "    UPDATE usuario \n",
    "        SET saldo = saldo + NEW.valor \n",
    "        WHERE id_usuario = NEW.id_usuario;\n",
    "END//\n",
    "\n",
    "DELIMITER ;\n",
    "```\n",
    "\n",
    "*Interlúdio*: e quanto ao constraint `CHECK`? No MySQL 5.7 o `CHECK` não funcionava, apesar de previsto no padrão SQL. Na versão 8.0 isso foi corrigido.\n",
    "\n",
    "Na documentação do MySQL 5.7 (https://dev.mysql.com/doc/refman/5.7/en/create-table.html) temos o seguinte:\n",
    "\n",
    "    The `CHECK` clause is parsed but ignored by all storage engines. See Section 1.8.2.3, “Foreign Key Differences”.\n",
    "\n",
    "A título de curiosidade: o remédio era criar um trigger para evitar a atualização com valores errados. Veja a gambiarra em ação no código a seguir.\n",
    "\n",
    "```SQL\n",
    "USE emprestimos;\n",
    "\n",
    "DROP TRIGGER IF EXISTS trig_saldo_insuficiente;\n",
    "\n",
    "DELIMITER //\n",
    "CREATE TRIGGER trig_saldo_insuficiente \n",
    "BEFORE UPDATE ON usuario\n",
    "FOR EACH ROW\n",
    "BEGIN\n",
    "    -- https://stackoverflow.com/questions/2115497/check-constraint-in-mysql-is-not-working\n",
    "    IF NEW.saldo < 0.0 THEN\n",
    "        SIGNAL SQLSTATE '12345'\n",
    "            SET MESSAGE_TEXT = 'Saldo insuficiente.';\n",
    "    END IF;\n",
    "END//\n",
    "DELIMITER ;\n",
    "```\n",
    "\n",
    "Já na versão atual do MySQL o check de saldo pode ser implementado normalmente com o constraint `CHECK`\n",
    "\n",
    "```SQL\n",
    "USE emprestimos;\n",
    "ALTER TABLE usuario ADD CONSTRAINT chk_saldo CHECK (saldo >= 0.0);\n",
    "ALTER TABLE emprestimo ADD CONSTRAINT chk_emprestimo CHECK (valor_atual >= 0.0);\n",
    "```\n",
    "\n",
    "Vamos testar esse trigger na nossa tabela:"
   ]
  },
  {
   "cell_type": "code",
   "execution_count": 97,
   "metadata": {},
   "outputs": [],
   "source": [
    "def movimentacao(id_usuario, valor):\n",
    "    db(\n",
    "        \"INSERT INTO movimentacao (id_usuario, valor) VALUES (%s, %s)\",\n",
    "        (id_usuario, valor),\n",
    "    )\n",
    "    db(\"SELECT * FROM usuario WHERE id_usuario=%s\", (id_usuario,))"
   ]
  },
  {
   "cell_type": "code",
   "execution_count": 98,
   "metadata": {},
   "outputs": [
    {
     "name": "stdout",
     "output_type": "stream",
     "text": [
      "Query 0 executada!\n",
      "Query 0 executada!\n",
      "Resultado query 0:\n",
      "(1, 'Juca', 'Silva', Decimal('1000.00'))\n"
     ]
    }
   ],
   "source": [
    "db(\"START TRANSACTION\")\n",
    "movimentacao(1, 1000)"
   ]
  },
  {
   "cell_type": "code",
   "execution_count": 99,
   "metadata": {},
   "outputs": [
    {
     "name": "stdout",
     "output_type": "stream",
     "text": [
      "Resultado query 0:\n",
      "(1, 1, Decimal('1000.00'), datetime.datetime(2025, 5, 4, 23, 9, 14))\n"
     ]
    }
   ],
   "source": [
    "db('SELECT * FROM movimentacao')"
   ]
  },
  {
   "cell_type": "code",
   "execution_count": 100,
   "metadata": {},
   "outputs": [
    {
     "name": "stdout",
     "output_type": "stream",
     "text": [
      "Resultado query 0:\n",
      "(1, 'Juca', 'Silva', Decimal('1000.00'))\n",
      "(2, 'Mario', 'Ferreira', Decimal('0.00'))\n",
      "(3, 'Ana', 'Soares', Decimal('0.00'))\n",
      "(4, 'Antonio', 'Reis', Decimal('0.00'))\n",
      "(5, 'Paulo', 'Oliveira', Decimal('0.00'))\n"
     ]
    }
   ],
   "source": [
    "db('SELECT * FROM usuario')"
   ]
  },
  {
   "cell_type": "markdown",
   "metadata": {},
   "source": [
    "Parece ter funcionado... mas antes de executar o `COMMIT`, vamos testar o que acontece quando o saldo ficaria negativo:"
   ]
  },
  {
   "cell_type": "code",
   "execution_count": 101,
   "metadata": {
    "scrolled": true
   },
   "outputs": [
    {
     "ename": "DatabaseError",
     "evalue": "3819 (HY000): Check constraint 'c_saldo' is violated.",
     "output_type": "error",
     "traceback": [
      "\u001b[1;31m---------------------------------------------------------------------------\u001b[0m",
      "\u001b[1;31mDatabaseError\u001b[0m                             Traceback (most recent call last)",
      "Cell \u001b[1;32mIn[101], line 1\u001b[0m\n\u001b[1;32m----> 1\u001b[0m \u001b[43mmovimentacao\u001b[49m\u001b[43m(\u001b[49m\u001b[38;5;241;43m1\u001b[39;49m\u001b[43m,\u001b[49m\u001b[43m \u001b[49m\u001b[38;5;241;43m-\u001b[39;49m\u001b[38;5;241;43m20000\u001b[39;49m\u001b[43m)\u001b[49m\n",
      "Cell \u001b[1;32mIn[97], line 2\u001b[0m, in \u001b[0;36mmovimentacao\u001b[1;34m(id_usuario, valor)\u001b[0m\n\u001b[0;32m      1\u001b[0m \u001b[38;5;28;01mdef\u001b[39;00m\u001b[38;5;250m \u001b[39m\u001b[38;5;21mmovimentacao\u001b[39m(id_usuario, valor):\n\u001b[1;32m----> 2\u001b[0m     \u001b[43mdb\u001b[49m\u001b[43m(\u001b[49m\n\u001b[0;32m      3\u001b[0m \u001b[43m        \u001b[49m\u001b[38;5;124;43m\"\u001b[39;49m\u001b[38;5;124;43mINSERT INTO movimentacao (id_usuario, valor) VALUES (\u001b[39;49m\u001b[38;5;132;43;01m%s\u001b[39;49;00m\u001b[38;5;124;43m, \u001b[39;49m\u001b[38;5;132;43;01m%s\u001b[39;49;00m\u001b[38;5;124;43m)\u001b[39;49m\u001b[38;5;124;43m\"\u001b[39;49m\u001b[43m,\u001b[49m\n\u001b[0;32m      4\u001b[0m \u001b[43m        \u001b[49m\u001b[43m(\u001b[49m\u001b[43mid_usuario\u001b[49m\u001b[43m,\u001b[49m\u001b[43m \u001b[49m\u001b[43mvalor\u001b[49m\u001b[43m)\u001b[49m\u001b[43m,\u001b[49m\n\u001b[0;32m      5\u001b[0m \u001b[43m    \u001b[49m\u001b[43m)\u001b[49m\n\u001b[0;32m      6\u001b[0m     db(\u001b[38;5;124m\"\u001b[39m\u001b[38;5;124mSELECT * FROM usuario WHERE id_usuario=\u001b[39m\u001b[38;5;132;01m%s\u001b[39;00m\u001b[38;5;124m\"\u001b[39m, (id_usuario,))\n",
      "Cell \u001b[1;32mIn[96], line 7\u001b[0m, in \u001b[0;36mget_connection_helper.<locals>.run_db_query\u001b[1;34m(connection, query, args)\u001b[0m\n\u001b[0;32m      4\u001b[0m \u001b[38;5;28;01mwith\u001b[39;00m connection\u001b[38;5;241m.\u001b[39mcursor() \u001b[38;5;28;01mas\u001b[39;00m cursor:\n\u001b[0;32m      5\u001b[0m     \u001b[38;5;66;03m# print(\"Executando queries:\")\u001b[39;00m\n\u001b[0;32m      6\u001b[0m     results \u001b[38;5;241m=\u001b[39m cursor\u001b[38;5;241m.\u001b[39mexecute(query, args, multi\u001b[38;5;241m=\u001b[39m\u001b[38;5;28;01mTrue\u001b[39;00m)\n\u001b[1;32m----> 7\u001b[0m     \u001b[38;5;28;01mfor\u001b[39;00m i, result \u001b[38;5;129;01min\u001b[39;00m \u001b[38;5;28menumerate\u001b[39m(results):\n\u001b[0;32m      8\u001b[0m         \u001b[38;5;28;01mif\u001b[39;00m result\u001b[38;5;241m.\u001b[39mwith_rows:\n\u001b[0;32m      9\u001b[0m             \u001b[38;5;28mprint\u001b[39m(\u001b[38;5;124mf\u001b[39m\u001b[38;5;124m\"\u001b[39m\u001b[38;5;124mResultado query \u001b[39m\u001b[38;5;132;01m{\u001b[39;00mi\u001b[38;5;132;01m}\u001b[39;00m\u001b[38;5;124m:\u001b[39m\u001b[38;5;124m\"\u001b[39m)\n",
      "File \u001b[1;32m~\\AppData\\Local\\Packages\\PythonSoftwareFoundation.Python.3.10_qbz5n2kfra8p0\\LocalCache\\local-packages\\Python310\\site-packages\\mysql\\connector\\cursor.py:668\u001b[0m, in \u001b[0;36mMySQLCursor._execute_iter\u001b[1;34m(self, query_iter)\u001b[0m\n\u001b[0;32m    666\u001b[0m \u001b[38;5;28mself\u001b[39m\u001b[38;5;241m.\u001b[39m_executed \u001b[38;5;241m=\u001b[39m \u001b[38;5;28;01mNone\u001b[39;00m\n\u001b[0;32m    667\u001b[0m stmt \u001b[38;5;241m=\u001b[39m executed_list\u001b[38;5;241m.\u001b[39mpopleft() \u001b[38;5;28;01mif\u001b[39;00m executed_list \u001b[38;5;28;01melse\u001b[39;00m \u001b[38;5;124mb\u001b[39m\u001b[38;5;124m\"\u001b[39m\u001b[38;5;124mstmt_overflow!\u001b[39m\u001b[38;5;124m\"\u001b[39m\n\u001b[1;32m--> 668\u001b[0m \u001b[38;5;28;01mfor\u001b[39;00m result \u001b[38;5;129;01min\u001b[39;00m query_iter:\n\u001b[0;32m    669\u001b[0m     \u001b[38;5;28mself\u001b[39m\u001b[38;5;241m.\u001b[39m_reset_result()\n\u001b[0;32m    670\u001b[0m     \u001b[38;5;28mself\u001b[39m\u001b[38;5;241m.\u001b[39m_handle_result(result)\n",
      "File \u001b[1;32m~\\AppData\\Local\\Packages\\PythonSoftwareFoundation.Python.3.10_qbz5n2kfra8p0\\LocalCache\\local-packages\\Python310\\site-packages\\mysql\\connector\\connection.py:906\u001b[0m, in \u001b[0;36mMySQLConnection.cmd_query_iter\u001b[1;34m(self, statements)\u001b[0m\n\u001b[0;32m    904\u001b[0m query \u001b[38;5;241m=\u001b[39m \u001b[38;5;28mbytes\u001b[39m(packet)\n\u001b[0;32m    905\u001b[0m \u001b[38;5;66;03m# Handle the first query result\u001b[39;00m\n\u001b[1;32m--> 906\u001b[0m \u001b[38;5;28;01myield\u001b[39;00m \u001b[38;5;28;43mself\u001b[39;49m\u001b[38;5;241;43m.\u001b[39;49m\u001b[43m_handle_result\u001b[49m\u001b[43m(\u001b[49m\u001b[38;5;28;43mself\u001b[39;49m\u001b[38;5;241;43m.\u001b[39;49m\u001b[43m_send_cmd\u001b[49m\u001b[43m(\u001b[49m\u001b[43mServerCmd\u001b[49m\u001b[38;5;241;43m.\u001b[39;49m\u001b[43mQUERY\u001b[49m\u001b[43m,\u001b[49m\u001b[43m \u001b[49m\u001b[43mquery\u001b[49m\u001b[43m)\u001b[49m\u001b[43m)\u001b[49m\n\u001b[0;32m    908\u001b[0m \u001b[38;5;66;03m# Handle next results, if any\u001b[39;00m\n\u001b[0;32m    909\u001b[0m \u001b[38;5;28;01mwhile\u001b[39;00m \u001b[38;5;28mself\u001b[39m\u001b[38;5;241m.\u001b[39m_have_next_result:\n",
      "File \u001b[1;32m~\\AppData\\Local\\Packages\\PythonSoftwareFoundation.Python.3.10_qbz5n2kfra8p0\\LocalCache\\local-packages\\Python310\\site-packages\\mysql\\connector\\connection.py:631\u001b[0m, in \u001b[0;36mMySQLConnection._handle_result\u001b[1;34m(self, packet)\u001b[0m\n\u001b[0;32m    629\u001b[0m     \u001b[38;5;28;01mreturn\u001b[39;00m \u001b[38;5;28mself\u001b[39m\u001b[38;5;241m.\u001b[39m_handle_eof(packet)\n\u001b[0;32m    630\u001b[0m \u001b[38;5;28;01mif\u001b[39;00m packet[\u001b[38;5;241m4\u001b[39m] \u001b[38;5;241m==\u001b[39m \u001b[38;5;241m255\u001b[39m:\n\u001b[1;32m--> 631\u001b[0m     \u001b[38;5;28;01mraise\u001b[39;00m get_exception(packet)\n\u001b[0;32m    633\u001b[0m \u001b[38;5;66;03m# We have a text result set\u001b[39;00m\n\u001b[0;32m    634\u001b[0m column_count \u001b[38;5;241m=\u001b[39m \u001b[38;5;28mself\u001b[39m\u001b[38;5;241m.\u001b[39m_protocol\u001b[38;5;241m.\u001b[39mparse_column_count(packet)\n",
      "\u001b[1;31mDatabaseError\u001b[0m: 3819 (HY000): Check constraint 'c_saldo' is violated."
     ]
    }
   ],
   "source": [
    "movimentacao(1, -20000)"
   ]
  },
  {
   "cell_type": "markdown",
   "metadata": {},
   "source": [
    "Opa, o constraint impediu o saque inválido! Excelente! Vamos reverter as ultimas mudanças antes de prosseguir:"
   ]
  },
  {
   "cell_type": "code",
   "execution_count": 102,
   "metadata": {},
   "outputs": [
    {
     "name": "stdout",
     "output_type": "stream",
     "text": [
      "Query 0 executada!\n"
     ]
    }
   ],
   "source": [
    "db(\"ROLLBACK\")"
   ]
  },
  {
   "cell_type": "markdown",
   "metadata": {},
   "source": [
    "### Exercício 3\n",
    "\n",
    "Realize as seguintes movimentações (com COMMIT se tudo funcionou dessa vez, e ROLLBACK se falhar):\n",
    "\n",
    "| id_usuario | valor |\n",
    "|--|--|\n",
    "| 1 | +10000 |\n",
    "| 2 | +4000 |\n",
    "| 3 | +15000 |"
   ]
  },
  {
   "cell_type": "code",
   "execution_count": 103,
   "metadata": {},
   "outputs": [
    {
     "name": "stdout",
     "output_type": "stream",
     "text": [
      "Query 0 executada!\n",
      "Resultado query 0:\n",
      "(1, 'Juca', 'Silva', Decimal('10000.00'))\n",
      "Query 0 executada!\n",
      "Resultado query 0:\n",
      "(2, 'Mario', 'Ferreira', Decimal('4000.00'))\n",
      "Query 0 executada!\n",
      "Resultado query 0:\n",
      "(3, 'Ana', 'Soares', Decimal('15000.00'))\n"
     ]
    }
   ],
   "source": [
    "movimentacao(1, 10000)\n",
    "movimentacao(2, 4000)\n",
    "movimentacao(3, 15000)"
   ]
  },
  {
   "cell_type": "markdown",
   "metadata": {},
   "source": [
    "**Conferir resposta**:"
   ]
  },
  {
   "cell_type": "code",
   "execution_count": 104,
   "metadata": {},
   "outputs": [
    {
     "name": "stdout",
     "output_type": "stream",
     "text": [
      "Resultado query 0:\n",
      "(2, 1, Decimal('10000.00'), datetime.datetime(2025, 5, 4, 23, 9, 28))\n",
      "(3, 2, Decimal('4000.00'), datetime.datetime(2025, 5, 4, 23, 9, 28))\n",
      "(4, 3, Decimal('15000.00'), datetime.datetime(2025, 5, 4, 23, 9, 28))\n"
     ]
    }
   ],
   "source": [
    "db(\"SELECT * FROM movimentacao\")"
   ]
  },
  {
   "cell_type": "code",
   "execution_count": 105,
   "metadata": {},
   "outputs": [
    {
     "name": "stdout",
     "output_type": "stream",
     "text": [
      "Resultado query 0:\n",
      "(1, 'Juca', 'Silva', Decimal('10000.00'))\n",
      "(2, 'Mario', 'Ferreira', Decimal('4000.00'))\n",
      "(3, 'Ana', 'Soares', Decimal('15000.00'))\n",
      "(4, 'Antonio', 'Reis', Decimal('0.00'))\n",
      "(5, 'Paulo', 'Oliveira', Decimal('0.00'))\n"
     ]
    }
   ],
   "source": [
    "db(\"SELECT * FROM usuario\")"
   ]
  },
  {
   "cell_type": "code",
   "execution_count": 106,
   "metadata": {},
   "outputs": [
    {
     "name": "stdout",
     "output_type": "stream",
     "text": [
      "Query 0 executada!\n"
     ]
    }
   ],
   "source": [
    "db(\"COMMIT\")"
   ]
  },
  {
   "cell_type": "markdown",
   "metadata": {},
   "source": [
    "### Exercício 4\n",
    "\n",
    "Crie um trigger chamada `trig_transferencias_emprestimo` para realizar operações de transferências monetárias no contexto de um empréstimo.\n",
    "\n",
    "Quando o usuário realiza um pagamento ou saque da linha de crédito (a linha de crédito é o empréstimo), é inserida uma `operacao`, o que deve acionar a trigger deste exercício.\n",
    "\n",
    "A trigger deve:\n",
    "\n",
    "- Atualizar o valor atual do empréstimo\n",
    "- Inserir as movimentações, conforme valor da operação\n",
    "\n",
    "**Obs**: Considere que já existe a trigger que atualiza o saldo do usuário, após inserções de `movimentacao`."
   ]
  },
  {
   "cell_type": "code",
   "execution_count": 107,
   "metadata": {},
   "outputs": [
    {
     "name": "stdout",
     "output_type": "stream",
     "text": [
      "Query 0 executada!\n",
      "Query 1 executada!\n",
      "Query 2 executada!\n"
     ]
    }
   ],
   "source": [
    "sql_ex04 = \"\"\"\n",
    "USE emprestimos;\n",
    "\n",
    "DROP TRIGGER IF EXISTS trig_transferencias_emprestimo;\n",
    "\n",
    "CREATE TRIGGER trig_transferencias_emprestimo \n",
    "AFTER INSERT ON operacao\n",
    "FOR EACH ROW\n",
    "BEGIN\n",
    "    UPDATE emprestimo \n",
    "        SET valor_atual = valor_atual + NEW.valor \n",
    "        WHERE id_emprestimo = NEW.id_emprestimo;\n",
    "\tSELECT \n",
    "\t\tid_credor \n",
    "\tINTO @id_credor_emprestimo FROM\n",
    "\t\temprestimo\n",
    "\tWHERE\n",
    "\t\tid_emprestimo = NEW.id_emprestimo;\n",
    "        \n",
    "\tSELECT \n",
    "\t\tid_devedor \n",
    "\tINTO @id_devedor_emprestimo FROM\n",
    "\t\temprestimo\n",
    "\tWHERE\n",
    "\t\tid_emprestimo = NEW.id_emprestimo;\n",
    "    \n",
    "\tINSERT INTO movimentacao (id_usuario, valor)\n",
    "\t\tVALUES ( @id_credor_emprestimo, -NEW.valor);\n",
    "        \n",
    "\tINSERT INTO movimentacao (id_usuario, valor)\n",
    "\t\tVALUES ( @id_devedor_emprestimo, NEW.valor);\n",
    "END;\n",
    "\"\"\"\n",
    "\n",
    "db(sql_ex04)"
   ]
  },
  {
   "cell_type": "code",
   "execution_count": 77,
   "metadata": {},
   "outputs": [
    {
     "data": {
      "application/vnd.jupyter.widget-view+json": {
       "model_id": "87a75bbf892e4254ab84b0b48c05a126",
       "version_major": 2,
       "version_minor": 0
      },
      "text/plain": [
       "interactive(children=(Button(description='Enviar ex04', style=ButtonStyle()), Output()), _dom_classes=('widget…"
      ]
     },
     "metadata": {},
     "output_type": "display_data"
    }
   ],
   "source": [
    "ia.sender(answer=\"sql_ex04\", task=\"triggers\", question=\"ex04\", answer_type=\"pyvar\")"
   ]
  },
  {
   "cell_type": "markdown",
   "metadata": {},
   "source": [
    "**Conferir resposta**:"
   ]
  },
  {
   "cell_type": "code",
   "execution_count": 70,
   "metadata": {},
   "outputs": [
    {
     "name": "stdout",
     "output_type": "stream",
     "text": [
      "Query 0 executada!\n"
     ]
    }
   ],
   "source": [
    "db(\"ROLLBACK\")"
   ]
  },
  {
   "cell_type": "code",
   "execution_count": 108,
   "metadata": {},
   "outputs": [
    {
     "name": "stdout",
     "output_type": "stream",
     "text": [
      "Resultado query 0:\n",
      "(1, 'Juca', 'Silva', Decimal('10000.00'))\n",
      "(2, 'Mario', 'Ferreira', Decimal('4000.00'))\n",
      "(3, 'Ana', 'Soares', Decimal('15000.00'))\n",
      "(4, 'Antonio', 'Reis', Decimal('0.00'))\n",
      "(5, 'Paulo', 'Oliveira', Decimal('0.00'))\n"
     ]
    }
   ],
   "source": [
    "db(\"SELECT * FROM usuario\")"
   ]
  },
  {
   "cell_type": "code",
   "execution_count": 109,
   "metadata": {},
   "outputs": [
    {
     "name": "stdout",
     "output_type": "stream",
     "text": [
      "Query 0 executada!\n"
     ]
    }
   ],
   "source": [
    "db(\"INSERT INTO emprestimo (id_credor, id_devedor) VALUES (2, 3)\")"
   ]
  },
  {
   "cell_type": "code",
   "execution_count": 110,
   "metadata": {},
   "outputs": [
    {
     "name": "stdout",
     "output_type": "stream",
     "text": [
      "Resultado query 0:\n",
      "(1, 2, 3, Decimal('0.00'), datetime.datetime(2025, 5, 4, 23, 9, 54), datetime.datetime(2025, 5, 4, 23, 9, 54))\n"
     ]
    }
   ],
   "source": [
    "db(\"SELECT * FROM emprestimo\")"
   ]
  },
  {
   "cell_type": "code",
   "execution_count": 111,
   "metadata": {},
   "outputs": [
    {
     "name": "stdout",
     "output_type": "stream",
     "text": [
      "Resultado query 0:\n"
     ]
    }
   ],
   "source": [
    "db(\"SELECT * FROM operacao\")"
   ]
  },
  {
   "cell_type": "code",
   "execution_count": 112,
   "metadata": {},
   "outputs": [
    {
     "name": "stdout",
     "output_type": "stream",
     "text": [
      "Query 0 executada!\n"
     ]
    }
   ],
   "source": [
    "db(\"INSERT INTO operacao (id_emprestimo, valor) VALUES (1, 2000)\")"
   ]
  },
  {
   "cell_type": "code",
   "execution_count": 113,
   "metadata": {},
   "outputs": [
    {
     "name": "stdout",
     "output_type": "stream",
     "text": [
      "Resultado query 0:\n",
      "(1, 1, Decimal('2000.00'), datetime.datetime(2025, 5, 4, 23, 10, 6))\n"
     ]
    }
   ],
   "source": [
    "db(\"SELECT * FROM operacao\")"
   ]
  },
  {
   "cell_type": "code",
   "execution_count": 114,
   "metadata": {},
   "outputs": [
    {
     "name": "stdout",
     "output_type": "stream",
     "text": [
      "Resultado query 0:\n",
      "(1, 2, 3, Decimal('2000.00'), datetime.datetime(2025, 5, 4, 23, 9, 54), datetime.datetime(2025, 5, 4, 23, 10, 6))\n"
     ]
    }
   ],
   "source": [
    "db(\"SELECT * FROM emprestimo\")"
   ]
  },
  {
   "cell_type": "code",
   "execution_count": 115,
   "metadata": {},
   "outputs": [
    {
     "name": "stdout",
     "output_type": "stream",
     "text": [
      "Resultado query 0:\n",
      "(1, 'Juca', 'Silva', Decimal('10000.00'))\n",
      "(2, 'Mario', 'Ferreira', Decimal('2000.00'))\n",
      "(3, 'Ana', 'Soares', Decimal('17000.00'))\n",
      "(4, 'Antonio', 'Reis', Decimal('0.00'))\n",
      "(5, 'Paulo', 'Oliveira', Decimal('0.00'))\n"
     ]
    }
   ],
   "source": [
    "db(\"SELECT * FROM usuario\")"
   ]
  },
  {
   "cell_type": "code",
   "execution_count": 116,
   "metadata": {},
   "outputs": [
    {
     "name": "stdout",
     "output_type": "stream",
     "text": [
      "Resultado query 0:\n",
      "(2, 1, Decimal('10000.00'), datetime.datetime(2025, 5, 4, 23, 9, 28))\n",
      "(3, 2, Decimal('4000.00'), datetime.datetime(2025, 5, 4, 23, 9, 28))\n",
      "(4, 3, Decimal('15000.00'), datetime.datetime(2025, 5, 4, 23, 9, 28))\n",
      "(5, 2, Decimal('-2000.00'), datetime.datetime(2025, 5, 4, 23, 10, 6))\n",
      "(6, 3, Decimal('2000.00'), datetime.datetime(2025, 5, 4, 23, 10, 6))\n"
     ]
    }
   ],
   "source": [
    "db(\"SELECT * FROM movimentacao\")"
   ]
  },
  {
   "cell_type": "markdown",
   "metadata": {},
   "source": [
    "## Relembrando: Views\n",
    "\n",
    "*Views* são como tabelas *'lógicas'*, que são criadas através da aplicação de um comando `SELECT`. É como um `SELECT` pré-armazenado.\n",
    "\n",
    "Vamos criar uma *view* para listar os nomes e sobrenomes de usuários, sem revelar seus saldos de conta:\n",
    "\n",
    "```SQL\n",
    "USE emprestimos;\n",
    "\n",
    "CREATE VIEW nomes AS \n",
    "\tSELECT DISTINCT nome, sobrenome FROM usuario;\n",
    "```\n",
    "\n",
    "Agora podemos usar esta view em consultas:"
   ]
  },
  {
   "cell_type": "code",
   "execution_count": 117,
   "metadata": {},
   "outputs": [
    {
     "name": "stdout",
     "output_type": "stream",
     "text": [
      "Resultado query 0:\n",
      "('Juca', 'Silva')\n",
      "('Mario', 'Ferreira')\n",
      "('Ana', 'Soares')\n",
      "('Antonio', 'Reis')\n",
      "('Paulo', 'Oliveira')\n"
     ]
    }
   ],
   "source": [
    "db(\"SELECT * FROM nomes;\")"
   ]
  },
  {
   "cell_type": "code",
   "execution_count": 118,
   "metadata": {},
   "outputs": [
    {
     "name": "stdout",
     "output_type": "stream",
     "text": [
      "Query 0 executada!\n"
     ]
    }
   ],
   "source": [
    "db(\"COMMIT\")"
   ]
  },
  {
   "cell_type": "markdown",
   "metadata": {},
   "source": [
    "Porque usar views? Assim como no caso de stored procedures, podemos configurar permissões de acesso diferentes para esta view. Suponha que um vendedor deva ter acesso aos nomes dos clientes, mas não aos seus saldos (por razões de confidencialidade). Podemos conceder ao vendedor acesso apenas à essa view. Poderíamos ter resolvido o problema também com uma stored procedure: em SQL as coisas costumam ter várias soluções possíveis..."
   ]
  },
  {
   "cell_type": "markdown",
   "metadata": {},
   "source": [
    "### Exercício 5\n",
    "\n",
    "Crie uma view chamada `credor` para mostrar, para cada usuário, a soma dos valores de emprestimo dos quais este cliente é credor. Se o cliente não tiver empréstimo associado como credor, o valor deve ser zero.\n",
    "\n",
    "As colunas retornadas devem se chamar `id_usuario`, `nome`, `sobrenome` e `total`, onde `total` representa a soma dos valores de empréstimo dos quais o cliente é credor.\n",
    "\n",
    "Ordene pelo `total` (decrescente), `nome` (crescente) e `sobrenome` (crescente)."
   ]
  },
  {
   "cell_type": "code",
   "execution_count": 120,
   "metadata": {},
   "outputs": [
    {
     "name": "stdout",
     "output_type": "stream",
     "text": [
      "Query 0 executada!\n",
      "Query 1 executada!\n"
     ]
    }
   ],
   "source": [
    "sql_ex05 = \"\"\"\n",
    "DROP VIEW IF EXISTS credor;\n",
    "CREATE VIEW credor AS \n",
    "\tSELECT\n",
    "\t\tusuario.id_usuario,\n",
    "        usuario.nome,\n",
    "        usuario.sobrenome,\n",
    "\t\tCOALESCE(SUM(emprestimo.valor_atual), 0) AS total\n",
    "\tFROM\n",
    "\t\tusuario LEFT OUTER JOIN emprestimo ON emprestimo.id_credor = usuario.id_usuario\n",
    "\tGROUP BY\n",
    "\t\tusuario.id_usuario\n",
    "\tORDER BY\n",
    "\t\ttotal DESC,\n",
    "        usuario.nome ASC,\n",
    "        usuario.sobrenome ASC;\n",
    "\"\"\"\n",
    "\n",
    "db(sql_ex05)"
   ]
  },
  {
   "cell_type": "code",
   "execution_count": 121,
   "metadata": {},
   "outputs": [
    {
     "data": {
      "application/vnd.jupyter.widget-view+json": {
       "model_id": "a44b70b537a34f05a2d2b81e41788c14",
       "version_major": 2,
       "version_minor": 0
      },
      "text/plain": [
       "interactive(children=(Button(description='Enviar ex05', style=ButtonStyle()), Output()), _dom_classes=('widget…"
      ]
     },
     "metadata": {},
     "output_type": "display_data"
    }
   ],
   "source": [
    "ia.sender(answer=\"sql_ex05\", task=\"triggers\", question=\"ex05\", answer_type=\"pyvar\")"
   ]
  },
  {
   "cell_type": "markdown",
   "metadata": {},
   "source": [
    "### Exercício 6\n",
    "\n",
    "Repita o processo para a posição de devedor. A view deve se chamar `devedor`.\n",
    "\n",
    "Considere os mesmos nomes de colunas e critérios de ordenação."
   ]
  },
  {
   "cell_type": "code",
   "execution_count": 122,
   "metadata": {},
   "outputs": [
    {
     "name": "stdout",
     "output_type": "stream",
     "text": [
      "Query 0 executada!\n",
      "Query 1 executada!\n"
     ]
    }
   ],
   "source": [
    "sql_ex06 = \"\"\"\n",
    "DROP VIEW IF EXISTS devedor;\n",
    "\n",
    "CREATE VIEW devedor AS \n",
    "\tSELECT\n",
    "\t\tusuario.id_usuario,\n",
    "        usuario.nome,\n",
    "        usuario.sobrenome,\n",
    "\t\tCOALESCE(SUM(emprestimo.valor_atual), 0) AS total\n",
    "\tFROM\n",
    "\t\tusuario LEFT OUTER JOIN emprestimo ON emprestimo.id_devedor = usuario.id_usuario\n",
    "\tGROUP BY\n",
    "\t\tusuario.id_usuario\n",
    "\tORDER BY\n",
    "\t\ttotal DESC,\n",
    "        usuario.nome ASC,\n",
    "        usuario.sobrenome ASC;\n",
    "\"\"\"\n",
    "\n",
    "db(sql_ex06)"
   ]
  },
  {
   "cell_type": "code",
   "execution_count": 123,
   "metadata": {},
   "outputs": [
    {
     "data": {
      "application/vnd.jupyter.widget-view+json": {
       "model_id": "c1ee70c6e0c34cd691c95c0d8168cc44",
       "version_major": 2,
       "version_minor": 0
      },
      "text/plain": [
       "interactive(children=(Button(description='Enviar ex06', style=ButtonStyle()), Output()), _dom_classes=('widget…"
      ]
     },
     "metadata": {},
     "output_type": "display_data"
    }
   ],
   "source": [
    "ia.sender(answer=\"sql_ex06\", task=\"triggers\", question=\"ex06\", answer_type=\"pyvar\")"
   ]
  },
  {
   "cell_type": "markdown",
   "metadata": {},
   "source": [
    "### Exercício 7\n",
    "\n",
    "Crie uma view `posicao_liquida` que lista o **valor líquido** de cada usuário, que é a soma dos valores como credor mais o saldo, subtraido da soma dos valores como devedor.\n",
    "\n",
    "As colunas retornadas devem se chamar `id_usuario`, `nome`, `sobrenome` e `total_liquido`, onde `total_liquido` representa o **valor líquido**.\n",
    "\n",
    "Ordene por `total_liquido` (decrescente), nome (crescente) e sobrenome (decrescente)."
   ]
  },
  {
   "cell_type": "code",
   "execution_count": 124,
   "metadata": {},
   "outputs": [
    {
     "name": "stdout",
     "output_type": "stream",
     "text": [
      "Query 0 executada!\n",
      "Query 1 executada!\n"
     ]
    }
   ],
   "source": [
    "sql_ex07 = \"\"\"\n",
    "DROP VIEW IF EXISTS posicao_liquida;\n",
    "\n",
    "CREATE VIEW posicao_liquida AS \n",
    "\tSELECT\n",
    "\t\tusuario.id_usuario,\n",
    "        usuario.nome,\n",
    "        usuario.sobrenome,\n",
    "\t\t(SUM(credor.total) + usuario.saldo - SUM(devedor.total)) AS total_liquido\n",
    "\tFROM\n",
    "\t\tusuario INNER JOIN devedor USING (id_usuario)\n",
    "        INNER JOIN credor USING (id_usuario)\n",
    "\tGROUP BY\n",
    "\t\tusuario.id_usuario\n",
    "\tORDER BY\n",
    "\t\ttotal_liquido DESC,\n",
    "        usuario.nome ASC,\n",
    "        usuario.sobrenome ASC;\n",
    "\"\"\"\n",
    "\n",
    "db(sql_ex07)"
   ]
  },
  {
   "cell_type": "code",
   "execution_count": 125,
   "metadata": {},
   "outputs": [
    {
     "data": {
      "application/vnd.jupyter.widget-view+json": {
       "model_id": "f5de9ae3ecfb41f39f7c824409511a7c",
       "version_major": 2,
       "version_minor": 0
      },
      "text/plain": [
       "interactive(children=(Button(description='Enviar ex07', style=ButtonStyle()), Output()), _dom_classes=('widget…"
      ]
     },
     "metadata": {},
     "output_type": "display_data"
    }
   ],
   "source": [
    "ia.sender(answer=\"sql_ex07\", task=\"triggers\", question=\"ex07\", answer_type=\"pyvar\")"
   ]
  },
  {
   "cell_type": "markdown",
   "metadata": {},
   "source": [
    "### Exercício 8\n",
    "\n",
    "Crie uma função para calcular o preço com desconto.\n",
    "\n",
    "A função se chama `aplica_desconto` e recebe, nesta ordem, o `preco DECIMAL(10,2)` e o `percentual DECIMAL(10,2)` de desconto (intervalo `[0,100]`).\n",
    "\n",
    "**Dicas**:\n",
    "- procure por *\"MySQL functions DETERMINISTIC, NO SQL, READS SQL DATA\"*.\n",
    "- você pode criá-la em qualquer base de dados (não tem relação com a base `emprestimos`)."
   ]
  },
  {
   "cell_type": "code",
   "execution_count": 130,
   "metadata": {},
   "outputs": [
    {
     "name": "stdout",
     "output_type": "stream",
     "text": [
      "Query 0 executada!\n",
      "Query 1 executada!\n"
     ]
    }
   ],
   "source": [
    "sql_ex08 = \"\"\"\n",
    "DROP FUNCTION IF EXISTS aplica_desconto;\n",
    "\n",
    "CREATE FUNCTION aplica_desconto(preco DECIMAL(10,2), percentual DECIMAL(10,2)) RETURNS DECIMAL(10, 2) READS SQL DATA\n",
    "BEGIN\n",
    "\tDECLARE preco_com_desconto DECIMAL(30, 2);\n",
    "    SET preco_com_desconto = preco*(100-percentual)/100;\n",
    "\tRETURN preco_com_desconto;\n",
    "END;\n",
    "\"\"\"\n",
    "\n",
    "db(sql_ex08)"
   ]
  },
  {
   "cell_type": "code",
   "execution_count": 131,
   "metadata": {},
   "outputs": [
    {
     "data": {
      "application/vnd.jupyter.widget-view+json": {
       "model_id": "c58698307bbf4e9cac6a4aa54fcf07fe",
       "version_major": 2,
       "version_minor": 0
      },
      "text/plain": [
       "interactive(children=(Button(description='Enviar ex08', style=ButtonStyle()), Output()), _dom_classes=('widget…"
      ]
     },
     "metadata": {},
     "output_type": "display_data"
    }
   ],
   "source": [
    "ia.sender(answer=\"sql_ex08\", task=\"triggers\", question=\"ex08\", answer_type=\"pyvar\")"
   ]
  },
  {
   "cell_type": "markdown",
   "metadata": {},
   "source": [
    "### Exercício 9\n",
    "\n",
    "Considere uma base chamada de **clientes** e **solicitações** chamada `solicita`:\n",
    "\n",
    "<img src=\"img/solicita.png\">\n",
    "\n",
    "```mysql\n",
    "DROP SCHEMA IF EXISTS `solicita` ;\n",
    "\n",
    "CREATE SCHEMA IF NOT EXISTS `solicita` ;\n",
    "USE `solicita` ;\n",
    "\n",
    "DROP TABLE IF EXISTS `solicita`.`cliente` ;\n",
    "\n",
    "CREATE TABLE IF NOT EXISTS `solicita`.`cliente` (\n",
    "  `id_cliente` INT NOT NULL,\n",
    "  `nome` VARCHAR(100) NOT NULL,\n",
    "  `sobrenome` VARCHAR(150) NOT NULL,\n",
    "  `cpf` CHAR(14) NULL,\n",
    "  `ultimo_acesso` DATE NULL,\n",
    "  PRIMARY KEY (`id_cliente`),\n",
    "  UNIQUE INDEX `cpf_UNIQUE` (`cpf` ASC) VISIBLE)\n",
    "ENGINE = InnoDB;\n",
    "\n",
    "\n",
    "DROP TABLE IF EXISTS `solicita`.`solicitacao` ;\n",
    "\n",
    "CREATE TABLE IF NOT EXISTS `solicita`.`solicitacao` (\n",
    "  `id_solicitacao` INT NOT NULL,\n",
    "  `id_cliente` INT NOT NULL,\n",
    "  `mensagem` TEXT NOT NULL,\n",
    "  `data` DATE NULL,\n",
    "  PRIMARY KEY (`id_solicitacao`),\n",
    "  INDEX `fk_venda_cliente_idx` (`id_cliente` ASC) VISIBLE,\n",
    "  CONSTRAINT `fk_venda_cliente`\n",
    "    FOREIGN KEY (`id_cliente`)\n",
    "    REFERENCES `solicita`.`cliente` (`id_cliente`)\n",
    "    ON DELETE NO ACTION\n",
    "    ON UPDATE NO ACTION)\n",
    "ENGINE = InnoDB;\n",
    "```\n",
    "\n",
    "Crie uma **procedure** que deleta **todos os dados** dos clientes cujo último acesso foi há mais que 180 dias.\n",
    "\n",
    "A procedure deve se chamar `remove_clientes_inativos`.\n",
    "\n",
    "**Dicas**:\n",
    "- Como critério de último acesso, considere a coluna `ultimo_acesso` na tabela de `cliente`.\n",
    "- Utilize os scripts SQL disponíveis na pasta de aulas para inserir clientes e solicitações na base e efetuar os testes!\n",
    "- Altere as datas, pois os 180 dias são em relação a data atual."
   ]
  },
  {
   "cell_type": "code",
   "execution_count": 143,
   "metadata": {},
   "outputs": [
    {
     "name": "stdout",
     "output_type": "stream",
     "text": [
      "Query 0 executada!\n",
      "Query 1 executada!\n"
     ]
    }
   ],
   "source": [
    "sql_ex09 = \"\"\"\n",
    "DROP PROCEDURE IF EXISTS remove_clientes_inativos;\n",
    "\n",
    "CREATE PROCEDURE remove_clientes_inativos()\n",
    "BEGIN\n",
    "\tDELETE FROM solicitacao\n",
    "\tWHERE id_cliente IN (\n",
    "\t\tSELECT id_cliente FROM cliente\n",
    "\t\tWHERE ultimo_acesso < CURDATE() - INTERVAL 180 DAY\n",
    "\t);\n",
    "\n",
    "\tDELETE FROM cliente\n",
    "\tWHERE ultimo_acesso < CURDATE() - INTERVAL 180 DAY;\n",
    "END;\n",
    "\"\"\"\n",
    "\n",
    "db(sql_ex09)"
   ]
  },
  {
   "cell_type": "code",
   "execution_count": 144,
   "metadata": {
    "scrolled": true
   },
   "outputs": [
    {
     "data": {
      "application/vnd.jupyter.widget-view+json": {
       "model_id": "e0493fe99e644a48a56a8c8357fe6510",
       "version_major": 2,
       "version_minor": 0
      },
      "text/plain": [
       "interactive(children=(Button(description='Enviar ex09', style=ButtonStyle()), Output()), _dom_classes=('widget…"
      ]
     },
     "metadata": {},
     "output_type": "display_data"
    }
   ],
   "source": [
    "ia.sender(answer=\"sql_ex09\", task=\"triggers\", question=\"ex09\", answer_type=\"pyvar\")"
   ]
  },
  {
   "cell_type": "markdown",
   "metadata": {},
   "source": [
    "### Exercício 10\n",
    "\n",
    "Este exercício não tem correção automática e sua resolução é opcional.\n",
    "\n",
    "Considere uma versão base de **clientes** e **solicitações** onde os deletes são **lógicos** e não físicos:\n",
    "\n",
    "<img src=\"img/solicita_v2.png\">\n",
    "\n",
    "Neste exercício, você deve:\n",
    "\n",
    "- Criar procedure para **deletar logicamente clientes** cujo último acesso foi há mais que 180 dias. A procedure deve deletar logicamente apenas clientes e não solicitações.\n",
    "- Criar trigger na tabela de cliente para que, ao deletar logicamente um cliente, suas solicitações também sejam deletadas.\n",
    "- Criar trigger na tabela de solicitação para impedir a inserção de solicitações para cliente deletados."
   ]
  },
  {
   "cell_type": "code",
   "execution_count": null,
   "metadata": {},
   "outputs": [],
   "source": [
    "sql_ex10 = \"\"\"\n",
    "-- Seu SQL aqui!\n",
    "\"\"\"\n",
    "\n",
    "db(sql_ex10)"
   ]
  },
  {
   "cell_type": "markdown",
   "metadata": {},
   "source": [
    "Por hoje é só!"
   ]
  },
  {
   "cell_type": "code",
   "execution_count": 138,
   "metadata": {},
   "outputs": [],
   "source": [
    "connection.close()"
   ]
  },
  {
   "cell_type": "markdown",
   "metadata": {},
   "source": [
    "### Conferir notas"
   ]
  },
  {
   "cell_type": "code",
   "execution_count": 145,
   "metadata": {},
   "outputs": [
    {
     "data": {
      "text/markdown": [
       "|    | Tarefa   |   Nota | Conta como ATV?   |\n",
       "|---:|:---------|-------:|:------------------|\n",
       "|  0 | triggers |     10 | Sim               |"
      ],
      "text/plain": [
       "<IPython.core.display.Markdown object>"
      ]
     },
     "metadata": {},
     "output_type": "display_data"
    }
   ],
   "source": [
    "ia.grades(by=\"task\", task=\"triggers\")"
   ]
  },
  {
   "cell_type": "code",
   "execution_count": 146,
   "metadata": {},
   "outputs": [
    {
     "data": {
      "text/markdown": [
       "|    | Atividade   | Exercício   |   Peso |   Nota |\n",
       "|---:|:------------|:------------|-------:|-------:|\n",
       "|  0 | triggers    | ex01        |      1 |     10 |\n",
       "|  1 | triggers    | ex02        |      1 |     10 |\n",
       "|  2 | triggers    | ex04        |      1 |     10 |\n",
       "|  3 | triggers    | ex05        |      1 |     10 |\n",
       "|  4 | triggers    | ex06        |      1 |     10 |\n",
       "|  5 | triggers    | ex07        |      1 |     10 |\n",
       "|  6 | triggers    | ex08        |      1 |     10 |\n",
       "|  7 | triggers    | ex09        |      1 |     10 |"
      ],
      "text/plain": [
       "<IPython.core.display.Markdown object>"
      ]
     },
     "metadata": {},
     "output_type": "display_data"
    }
   ],
   "source": [
    "ia.grades(task=\"triggers\")"
   ]
  },
  {
   "cell_type": "markdown",
   "metadata": {},
   "source": [
    "## Gabarito"
   ]
  },
  {
   "cell_type": "markdown",
   "metadata": {},
   "source": [
    "**<div id=\"gab_atv1\">Atividade 1</div>**\n",
    "<div class=\"alert alert-warning\">\n",
    "\n",
    "Para Workbench:\n",
    "\n",
    "```SQL\n",
    "USE emprestimos;\n",
    "\n",
    "DROP PROCEDURE IF EXISTS cobra_taxa;\n",
    "\n",
    "DELIMITER //\n",
    "CREATE PROCEDURE cobra_taxa(IN taxa DECIMAL(30, 2))\n",
    "BEGIN\n",
    "    -- Gambiarra para desligar o aviso de segurança que previne\n",
    "    -- UPDATES gerais (sem WHERE).\n",
    "    -- OBS: da pra fazer sem ela!\n",
    "    SET @OLD_SQL_SAFE_UPDATES = @@SQL_SAFE_UPDATES;\n",
    "    SET SQL_SAFE_UPDATES=0;\n",
    "\n",
    "    -- Insira seu código aqui.\n",
    "    UPDATE usuario \n",
    "    SET \n",
    "        saldo = saldo - taxa\n",
    "    WHERE\n",
    "        saldo >= taxa;\n",
    "    \n",
    "    -- Desliga a gambiarra.\n",
    "    SET SQL_SAFE_UPDATES=@OLD_SQL_SAFE_UPDATES;\n",
    "END //\n",
    "DELIMITER ;\n",
    "```\n",
    "\n",
    "Para Python:\n",
    "\n",
    "```SQL\n",
    "USE emprestimos;\n",
    "\n",
    "DROP PROCEDURE IF EXISTS cobra_taxa;\n",
    "\n",
    "CREATE PROCEDURE cobra_taxa(IN taxa DECIMAL(30, 2))\n",
    "BEGIN\n",
    "    -- Gambiarra para desligar o aviso de segurança que previne\n",
    "    -- UPDATES gerais (sem WHERE).\n",
    "    -- OBS: da pra fazer sem ela!\n",
    "    SET @OLD_SQL_SAFE_UPDATES = @@SQL_SAFE_UPDATES;\n",
    "    SET SQL_SAFE_UPDATES=0;\n",
    "\n",
    "    -- Insira seu código aqui.\n",
    "    UPDATE usuario \n",
    "    SET \n",
    "        saldo = saldo - taxa\n",
    "    WHERE\n",
    "        saldo >= taxa;\n",
    "    \n",
    "    -- Desliga a gambiarra.\n",
    "    SET SQL_SAFE_UPDATES=@OLD_SQL_SAFE_UPDATES;\n",
    "END;\n",
    "```    \n",
    "</div>\n",
    "<a href=\"#perg_atv1\">Click para voltar ao Exercício</a>\n"
   ]
  },
  {
   "cell_type": "markdown",
   "metadata": {},
   "source": [
    "**<div id=\"gab_atv2\">Atividade 2</div>**\n",
    "<div class=\"alert alert-warning\">\n",
    "\n",
    "Para Workbench:\n",
    "```SQL\n",
    "USE emprestimos;\n",
    "\n",
    "DROP FUNCTION IF EXISTS total_saldos;\n",
    "\n",
    "DELIMITER //\n",
    "CREATE FUNCTION total_saldos() RETURNS DECIMAL(30, 2) READS SQL DATA\n",
    "BEGIN\n",
    "\n",
    "    -- Insira seu SQL aqui.\n",
    "    DECLARE total DECIMAL(30, 2);\n",
    "    SELECT SUM(saldo) INTO total FROM usuario;\n",
    "    RETURN total;\n",
    "\n",
    "END//\n",
    "DELIMITER ;\n",
    "```\n",
    "</div>\n",
    "<a href=\"#perg_atv2\">Click para voltar ao Exercício</a>"
   ]
  }
 ],
 "metadata": {
  "kernelspec": {
   "display_name": "Python 3",
   "language": "python",
   "name": "python3"
  },
  "language_info": {
   "codemirror_mode": {
    "name": "ipython",
    "version": 3
   },
   "file_extension": ".py",
   "mimetype": "text/x-python",
   "name": "python",
   "nbconvert_exporter": "python",
   "pygments_lexer": "ipython3",
   "version": "3.10.11"
  }
 },
 "nbformat": 4,
 "nbformat_minor": 4
}
